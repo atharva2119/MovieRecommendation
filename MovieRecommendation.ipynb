{
  "nbformat": 4,
  "nbformat_minor": 0,
  "metadata": {
    "colab": {
      "provenance": [],
      "authorship_tag": "ABX9TyMAD0HtbmZKFNrnRsCwyE1q",
      "include_colab_link": true
    },
    "kernelspec": {
      "name": "python3",
      "display_name": "Python 3"
    },
    "language_info": {
      "name": "python"
    }
  },
  "cells": [
    {
      "cell_type": "markdown",
      "metadata": {
        "id": "view-in-github",
        "colab_type": "text"
      },
      "source": [
        "<a href=\"https://colab.research.google.com/github/atharva2119/MovieRecommendation/blob/main/MovieRecommendation.ipynb\" target=\"_parent\"><img src=\"https://colab.research.google.com/assets/colab-badge.svg\" alt=\"Open In Colab\"/></a>"
      ]
    },
    {
      "cell_type": "markdown",
      "source": [
        "## **Movie Recommendation System**\n",
        "Recommender System is a system that seeks to predict or filter preferences according to the user's choices. Recommender systems are utilized in a variety of areas including movies, music, news, books, research articles, search queries, social tags, and products in general. Recommender systems produce a list of recommendations in any of the two ways-\n",
        "\n",
        "Collaborative filtering: Collaborative filtering approaches build a model from the user's past behavior (i.e. items purchased or searched by the user) as well as similar decisions made by other users. This model is then used to predict items (or ratings for items) that users may have an interest in\n",
        "\n",
        "Content-based filtering: Content-based filtering approaches uses a series of discrete characteristics of an item in order to recommend additional items with similar properties. Content-based filtering methods are totally based on a description of the item and a profile of the user's preferences. It recommends items based on the user's past preferences. Let's develop a basic recommendation system using Python and Pandas\n",
        "\n",
        "Let's develop a basic recommendation system by suggesting items that are most similar to a particular item, in this case, movies. It just tells what movies/items are most similar to the user's movie choice."
      ],
      "metadata": {
        "id": "FeiplB6haZEn"
      }
    },
    {
      "cell_type": "markdown",
      "source": [
        "# **Import Library**"
      ],
      "metadata": {
        "id": "VdGOekGYcKSp"
      }
    },
    {
      "cell_type": "code",
      "source": [
        "import pandas as pd"
      ],
      "metadata": {
        "id": "YMxFPgsEasNj"
      },
      "execution_count": null,
      "outputs": []
    },
    {
      "cell_type": "code",
      "source": [
        "import numpy as np"
      ],
      "metadata": {
        "id": "T9v5npfBb5Y4"
      },
      "execution_count": null,
      "outputs": []
    },
    {
      "cell_type": "markdown",
      "source": [
        "# **Import Dataset**"
      ],
      "metadata": {
        "id": "dyZgW78RcXR_"
      }
    },
    {
      "cell_type": "code",
      "source": [
        "df = pd.read_csv(r'https://raw.githubusercontent.com/YBIFoundation/Dataset/main/Movies%20Recommendation.csv')"
      ],
      "metadata": {
        "id": "ssAIRNRKcGFg"
      },
      "execution_count": null,
      "outputs": []
    },
    {
      "cell_type": "code",
      "source": [
        "df.head()"
      ],
      "metadata": {
        "colab": {
          "base_uri": "https://localhost:8080/",
          "height": 716
        },
        "id": "X4-Fps--dMrC",
        "outputId": "313f8a7a-5009-461b-bb2f-2886306e7c1f"
      },
      "execution_count": null,
      "outputs": [
        {
          "output_type": "execute_result",
          "data": {
            "text/plain": [
              "   Movie_ID      Movie_Title                       Movie_Genre Movie_Language  \\\n",
              "0         1       Four Rooms                      Crime Comedy             en   \n",
              "1         2        Star Wars  Adventure Action Science Fiction             en   \n",
              "2         3     Finding Nemo                  Animation Family             en   \n",
              "3         4     Forrest Gump              Comedy Drama Romance             en   \n",
              "4         5  American Beauty                             Drama             en   \n",
              "\n",
              "   Movie_Budget  Movie_Popularity Movie_Release_Date  Movie_Revenue  \\\n",
              "0       4000000         22.876230         09-12-1995        4300000   \n",
              "1      11000000        126.393695         25-05-1977      775398007   \n",
              "2      94000000         85.688789         30-05-2003      940335536   \n",
              "3      55000000        138.133331         06-07-1994      677945399   \n",
              "4      15000000         80.878605         15-09-1999      356296601   \n",
              "\n",
              "   Movie_Runtime  Movie_Vote  ...  \\\n",
              "0           98.0         6.5  ...   \n",
              "1          121.0         8.1  ...   \n",
              "2          100.0         7.6  ...   \n",
              "3          142.0         8.2  ...   \n",
              "4          122.0         7.9  ...   \n",
              "\n",
              "                                      Movie_Homepage  \\\n",
              "0                                                NaN   \n",
              "1  http://www.starwars.com/films/star-wars-episod...   \n",
              "2              http://movies.disney.com/finding-nemo   \n",
              "3                                                NaN   \n",
              "4                      http://www.dreamworks.com/ab/   \n",
              "\n",
              "                                      Movie_Keywords  \\\n",
              "0          hotel new year's eve witch bet hotel room   \n",
              "1        android galaxy hermit death star lightsaber   \n",
              "2  father son relationship harbor underwater fish...   \n",
              "3  vietnam veteran hippie mentally disabled runni...   \n",
              "4  male nudity female nudity adultery midlife cri...   \n",
              "\n",
              "                                      Movie_Overview  \\\n",
              "0  It's Ted the Bellhop's first night on the job....   \n",
              "1  Princess Leia is captured and held hostage by ...   \n",
              "2  Nemo, an adventurous young clownfish, is unexp...   \n",
              "3  A man with a low IQ has accomplished great thi...   \n",
              "4  Lester Burnham, a depressed suburban father in...   \n",
              "\n",
              "                              Movie_Production_House  \\\n",
              "0  [{\"name\": \"Miramax Films\", \"id\": 14}, {\"name\":...   \n",
              "1  [{\"name\": \"Lucasfilm\", \"id\": 1}, {\"name\": \"Twe...   \n",
              "2     [{\"name\": \"Pixar Animation Studios\", \"id\": 3}]   \n",
              "3          [{\"name\": \"Paramount Pictures\", \"id\": 4}]   \n",
              "4  [{\"name\": \"DreamWorks SKG\", \"id\": 27}, {\"name\"...   \n",
              "\n",
              "                            Movie_Production_Country  \\\n",
              "0  [{\"iso_3166_1\": \"US\", \"name\": \"United States o...   \n",
              "1  [{\"iso_3166_1\": \"US\", \"name\": \"United States o...   \n",
              "2  [{\"iso_3166_1\": \"US\", \"name\": \"United States o...   \n",
              "3  [{\"iso_3166_1\": \"US\", \"name\": \"United States o...   \n",
              "4  [{\"iso_3166_1\": \"US\", \"name\": \"United States o...   \n",
              "\n",
              "                      Movie_Spoken_Language  \\\n",
              "0  [{\"iso_639_1\": \"en\", \"name\": \"English\"}]   \n",
              "1  [{\"iso_639_1\": \"en\", \"name\": \"English\"}]   \n",
              "2  [{\"iso_639_1\": \"en\", \"name\": \"English\"}]   \n",
              "3  [{\"iso_639_1\": \"en\", \"name\": \"English\"}]   \n",
              "4  [{\"iso_639_1\": \"en\", \"name\": \"English\"}]   \n",
              "\n",
              "                                       Movie_Tagline  \\\n",
              "0  Twelve outrageous guests. Four scandalous requ...   \n",
              "1       A long time ago in a galaxy far, far away...   \n",
              "2  There are 3.7 trillion fish in the ocean, they...   \n",
              "3  The world will never be the same, once you've ...   \n",
              "4                                       Look closer.   \n",
              "\n",
              "                                          Movie_Cast  \\\n",
              "0  Tim Roth Antonio Banderas Jennifer Beals Madon...   \n",
              "1  Mark Hamill Harrison Ford Carrie Fisher Peter ...   \n",
              "2  Albert Brooks Ellen DeGeneres Alexander Gould ...   \n",
              "3  Tom Hanks Robin Wright Gary Sinise Mykelti Wil...   \n",
              "4  Kevin Spacey Annette Bening Thora Birch Wes Be...   \n",
              "\n",
              "                                          Movie_Crew   Movie_Director  \n",
              "0  [{'name': 'Allison Anders', 'gender': 1, 'depa...   Allison Anders  \n",
              "1  [{'name': 'George Lucas', 'gender': 2, 'depart...     George Lucas  \n",
              "2  [{'name': 'Andrew Stanton', 'gender': 2, 'depa...   Andrew Stanton  \n",
              "3  [{'name': 'Alan Silvestri', 'gender': 2, 'depa...  Robert Zemeckis  \n",
              "4  [{'name': 'Thomas Newman', 'gender': 2, 'depar...       Sam Mendes  \n",
              "\n",
              "[5 rows x 21 columns]"
            ],
            "text/html": [
              "\n",
              "  <div id=\"df-9b123fe6-c825-4064-bf85-b667c9d638ad\">\n",
              "    <div class=\"colab-df-container\">\n",
              "      <div>\n",
              "<style scoped>\n",
              "    .dataframe tbody tr th:only-of-type {\n",
              "        vertical-align: middle;\n",
              "    }\n",
              "\n",
              "    .dataframe tbody tr th {\n",
              "        vertical-align: top;\n",
              "    }\n",
              "\n",
              "    .dataframe thead th {\n",
              "        text-align: right;\n",
              "    }\n",
              "</style>\n",
              "<table border=\"1\" class=\"dataframe\">\n",
              "  <thead>\n",
              "    <tr style=\"text-align: right;\">\n",
              "      <th></th>\n",
              "      <th>Movie_ID</th>\n",
              "      <th>Movie_Title</th>\n",
              "      <th>Movie_Genre</th>\n",
              "      <th>Movie_Language</th>\n",
              "      <th>Movie_Budget</th>\n",
              "      <th>Movie_Popularity</th>\n",
              "      <th>Movie_Release_Date</th>\n",
              "      <th>Movie_Revenue</th>\n",
              "      <th>Movie_Runtime</th>\n",
              "      <th>Movie_Vote</th>\n",
              "      <th>...</th>\n",
              "      <th>Movie_Homepage</th>\n",
              "      <th>Movie_Keywords</th>\n",
              "      <th>Movie_Overview</th>\n",
              "      <th>Movie_Production_House</th>\n",
              "      <th>Movie_Production_Country</th>\n",
              "      <th>Movie_Spoken_Language</th>\n",
              "      <th>Movie_Tagline</th>\n",
              "      <th>Movie_Cast</th>\n",
              "      <th>Movie_Crew</th>\n",
              "      <th>Movie_Director</th>\n",
              "    </tr>\n",
              "  </thead>\n",
              "  <tbody>\n",
              "    <tr>\n",
              "      <th>0</th>\n",
              "      <td>1</td>\n",
              "      <td>Four Rooms</td>\n",
              "      <td>Crime Comedy</td>\n",
              "      <td>en</td>\n",
              "      <td>4000000</td>\n",
              "      <td>22.876230</td>\n",
              "      <td>09-12-1995</td>\n",
              "      <td>4300000</td>\n",
              "      <td>98.0</td>\n",
              "      <td>6.5</td>\n",
              "      <td>...</td>\n",
              "      <td>NaN</td>\n",
              "      <td>hotel new year's eve witch bet hotel room</td>\n",
              "      <td>It's Ted the Bellhop's first night on the job....</td>\n",
              "      <td>[{\"name\": \"Miramax Films\", \"id\": 14}, {\"name\":...</td>\n",
              "      <td>[{\"iso_3166_1\": \"US\", \"name\": \"United States o...</td>\n",
              "      <td>[{\"iso_639_1\": \"en\", \"name\": \"English\"}]</td>\n",
              "      <td>Twelve outrageous guests. Four scandalous requ...</td>\n",
              "      <td>Tim Roth Antonio Banderas Jennifer Beals Madon...</td>\n",
              "      <td>[{'name': 'Allison Anders', 'gender': 1, 'depa...</td>\n",
              "      <td>Allison Anders</td>\n",
              "    </tr>\n",
              "    <tr>\n",
              "      <th>1</th>\n",
              "      <td>2</td>\n",
              "      <td>Star Wars</td>\n",
              "      <td>Adventure Action Science Fiction</td>\n",
              "      <td>en</td>\n",
              "      <td>11000000</td>\n",
              "      <td>126.393695</td>\n",
              "      <td>25-05-1977</td>\n",
              "      <td>775398007</td>\n",
              "      <td>121.0</td>\n",
              "      <td>8.1</td>\n",
              "      <td>...</td>\n",
              "      <td>http://www.starwars.com/films/star-wars-episod...</td>\n",
              "      <td>android galaxy hermit death star lightsaber</td>\n",
              "      <td>Princess Leia is captured and held hostage by ...</td>\n",
              "      <td>[{\"name\": \"Lucasfilm\", \"id\": 1}, {\"name\": \"Twe...</td>\n",
              "      <td>[{\"iso_3166_1\": \"US\", \"name\": \"United States o...</td>\n",
              "      <td>[{\"iso_639_1\": \"en\", \"name\": \"English\"}]</td>\n",
              "      <td>A long time ago in a galaxy far, far away...</td>\n",
              "      <td>Mark Hamill Harrison Ford Carrie Fisher Peter ...</td>\n",
              "      <td>[{'name': 'George Lucas', 'gender': 2, 'depart...</td>\n",
              "      <td>George Lucas</td>\n",
              "    </tr>\n",
              "    <tr>\n",
              "      <th>2</th>\n",
              "      <td>3</td>\n",
              "      <td>Finding Nemo</td>\n",
              "      <td>Animation Family</td>\n",
              "      <td>en</td>\n",
              "      <td>94000000</td>\n",
              "      <td>85.688789</td>\n",
              "      <td>30-05-2003</td>\n",
              "      <td>940335536</td>\n",
              "      <td>100.0</td>\n",
              "      <td>7.6</td>\n",
              "      <td>...</td>\n",
              "      <td>http://movies.disney.com/finding-nemo</td>\n",
              "      <td>father son relationship harbor underwater fish...</td>\n",
              "      <td>Nemo, an adventurous young clownfish, is unexp...</td>\n",
              "      <td>[{\"name\": \"Pixar Animation Studios\", \"id\": 3}]</td>\n",
              "      <td>[{\"iso_3166_1\": \"US\", \"name\": \"United States o...</td>\n",
              "      <td>[{\"iso_639_1\": \"en\", \"name\": \"English\"}]</td>\n",
              "      <td>There are 3.7 trillion fish in the ocean, they...</td>\n",
              "      <td>Albert Brooks Ellen DeGeneres Alexander Gould ...</td>\n",
              "      <td>[{'name': 'Andrew Stanton', 'gender': 2, 'depa...</td>\n",
              "      <td>Andrew Stanton</td>\n",
              "    </tr>\n",
              "    <tr>\n",
              "      <th>3</th>\n",
              "      <td>4</td>\n",
              "      <td>Forrest Gump</td>\n",
              "      <td>Comedy Drama Romance</td>\n",
              "      <td>en</td>\n",
              "      <td>55000000</td>\n",
              "      <td>138.133331</td>\n",
              "      <td>06-07-1994</td>\n",
              "      <td>677945399</td>\n",
              "      <td>142.0</td>\n",
              "      <td>8.2</td>\n",
              "      <td>...</td>\n",
              "      <td>NaN</td>\n",
              "      <td>vietnam veteran hippie mentally disabled runni...</td>\n",
              "      <td>A man with a low IQ has accomplished great thi...</td>\n",
              "      <td>[{\"name\": \"Paramount Pictures\", \"id\": 4}]</td>\n",
              "      <td>[{\"iso_3166_1\": \"US\", \"name\": \"United States o...</td>\n",
              "      <td>[{\"iso_639_1\": \"en\", \"name\": \"English\"}]</td>\n",
              "      <td>The world will never be the same, once you've ...</td>\n",
              "      <td>Tom Hanks Robin Wright Gary Sinise Mykelti Wil...</td>\n",
              "      <td>[{'name': 'Alan Silvestri', 'gender': 2, 'depa...</td>\n",
              "      <td>Robert Zemeckis</td>\n",
              "    </tr>\n",
              "    <tr>\n",
              "      <th>4</th>\n",
              "      <td>5</td>\n",
              "      <td>American Beauty</td>\n",
              "      <td>Drama</td>\n",
              "      <td>en</td>\n",
              "      <td>15000000</td>\n",
              "      <td>80.878605</td>\n",
              "      <td>15-09-1999</td>\n",
              "      <td>356296601</td>\n",
              "      <td>122.0</td>\n",
              "      <td>7.9</td>\n",
              "      <td>...</td>\n",
              "      <td>http://www.dreamworks.com/ab/</td>\n",
              "      <td>male nudity female nudity adultery midlife cri...</td>\n",
              "      <td>Lester Burnham, a depressed suburban father in...</td>\n",
              "      <td>[{\"name\": \"DreamWorks SKG\", \"id\": 27}, {\"name\"...</td>\n",
              "      <td>[{\"iso_3166_1\": \"US\", \"name\": \"United States o...</td>\n",
              "      <td>[{\"iso_639_1\": \"en\", \"name\": \"English\"}]</td>\n",
              "      <td>Look closer.</td>\n",
              "      <td>Kevin Spacey Annette Bening Thora Birch Wes Be...</td>\n",
              "      <td>[{'name': 'Thomas Newman', 'gender': 2, 'depar...</td>\n",
              "      <td>Sam Mendes</td>\n",
              "    </tr>\n",
              "  </tbody>\n",
              "</table>\n",
              "<p>5 rows × 21 columns</p>\n",
              "</div>\n",
              "      <button class=\"colab-df-convert\" onclick=\"convertToInteractive('df-9b123fe6-c825-4064-bf85-b667c9d638ad')\"\n",
              "              title=\"Convert this dataframe to an interactive table.\"\n",
              "              style=\"display:none;\">\n",
              "        \n",
              "  <svg xmlns=\"http://www.w3.org/2000/svg\" height=\"24px\"viewBox=\"0 0 24 24\"\n",
              "       width=\"24px\">\n",
              "    <path d=\"M0 0h24v24H0V0z\" fill=\"none\"/>\n",
              "    <path d=\"M18.56 5.44l.94 2.06.94-2.06 2.06-.94-2.06-.94-.94-2.06-.94 2.06-2.06.94zm-11 1L8.5 8.5l.94-2.06 2.06-.94-2.06-.94L8.5 2.5l-.94 2.06-2.06.94zm10 10l.94 2.06.94-2.06 2.06-.94-2.06-.94-.94-2.06-.94 2.06-2.06.94z\"/><path d=\"M17.41 7.96l-1.37-1.37c-.4-.4-.92-.59-1.43-.59-.52 0-1.04.2-1.43.59L10.3 9.45l-7.72 7.72c-.78.78-.78 2.05 0 2.83L4 21.41c.39.39.9.59 1.41.59.51 0 1.02-.2 1.41-.59l7.78-7.78 2.81-2.81c.8-.78.8-2.07 0-2.86zM5.41 20L4 18.59l7.72-7.72 1.47 1.35L5.41 20z\"/>\n",
              "  </svg>\n",
              "      </button>\n",
              "      \n",
              "  <style>\n",
              "    .colab-df-container {\n",
              "      display:flex;\n",
              "      flex-wrap:wrap;\n",
              "      gap: 12px;\n",
              "    }\n",
              "\n",
              "    .colab-df-convert {\n",
              "      background-color: #E8F0FE;\n",
              "      border: none;\n",
              "      border-radius: 50%;\n",
              "      cursor: pointer;\n",
              "      display: none;\n",
              "      fill: #1967D2;\n",
              "      height: 32px;\n",
              "      padding: 0 0 0 0;\n",
              "      width: 32px;\n",
              "    }\n",
              "\n",
              "    .colab-df-convert:hover {\n",
              "      background-color: #E2EBFA;\n",
              "      box-shadow: 0px 1px 2px rgba(60, 64, 67, 0.3), 0px 1px 3px 1px rgba(60, 64, 67, 0.15);\n",
              "      fill: #174EA6;\n",
              "    }\n",
              "\n",
              "    [theme=dark] .colab-df-convert {\n",
              "      background-color: #3B4455;\n",
              "      fill: #D2E3FC;\n",
              "    }\n",
              "\n",
              "    [theme=dark] .colab-df-convert:hover {\n",
              "      background-color: #434B5C;\n",
              "      box-shadow: 0px 1px 3px 1px rgba(0, 0, 0, 0.15);\n",
              "      filter: drop-shadow(0px 1px 2px rgba(0, 0, 0, 0.3));\n",
              "      fill: #FFFFFF;\n",
              "    }\n",
              "  </style>\n",
              "\n",
              "      <script>\n",
              "        const buttonEl =\n",
              "          document.querySelector('#df-9b123fe6-c825-4064-bf85-b667c9d638ad button.colab-df-convert');\n",
              "        buttonEl.style.display =\n",
              "          google.colab.kernel.accessAllowed ? 'block' : 'none';\n",
              "\n",
              "        async function convertToInteractive(key) {\n",
              "          const element = document.querySelector('#df-9b123fe6-c825-4064-bf85-b667c9d638ad');\n",
              "          const dataTable =\n",
              "            await google.colab.kernel.invokeFunction('convertToInteractive',\n",
              "                                                     [key], {});\n",
              "          if (!dataTable) return;\n",
              "\n",
              "          const docLinkHtml = 'Like what you see? Visit the ' +\n",
              "            '<a target=\"_blank\" href=https://colab.research.google.com/notebooks/data_table.ipynb>data table notebook</a>'\n",
              "            + ' to learn more about interactive tables.';\n",
              "          element.innerHTML = '';\n",
              "          dataTable['output_type'] = 'display_data';\n",
              "          await google.colab.output.renderOutput(dataTable, element);\n",
              "          const docLink = document.createElement('div');\n",
              "          docLink.innerHTML = docLinkHtml;\n",
              "          element.appendChild(docLink);\n",
              "        }\n",
              "      </script>\n",
              "    </div>\n",
              "  </div>\n",
              "  "
            ]
          },
          "metadata": {},
          "execution_count": 4
        }
      ]
    },
    {
      "cell_type": "code",
      "source": [
        "df.info()"
      ],
      "metadata": {
        "colab": {
          "base_uri": "https://localhost:8080/"
        },
        "id": "3dQT29ped11y",
        "outputId": "8870ced2-d5dd-4168-ad86-3193931b4c45"
      },
      "execution_count": null,
      "outputs": [
        {
          "output_type": "stream",
          "name": "stdout",
          "text": [
            "<class 'pandas.core.frame.DataFrame'>\n",
            "RangeIndex: 4760 entries, 0 to 4759\n",
            "Data columns (total 21 columns):\n",
            " #   Column                    Non-Null Count  Dtype  \n",
            "---  ------                    --------------  -----  \n",
            " 0   Movie_ID                  4760 non-null   int64  \n",
            " 1   Movie_Title               4760 non-null   object \n",
            " 2   Movie_Genre               4760 non-null   object \n",
            " 3   Movie_Language            4760 non-null   object \n",
            " 4   Movie_Budget              4760 non-null   int64  \n",
            " 5   Movie_Popularity          4760 non-null   float64\n",
            " 6   Movie_Release_Date        4760 non-null   object \n",
            " 7   Movie_Revenue             4760 non-null   int64  \n",
            " 8   Movie_Runtime             4758 non-null   float64\n",
            " 9   Movie_Vote                4760 non-null   float64\n",
            " 10  Movie_Vote_Count          4760 non-null   int64  \n",
            " 11  Movie_Homepage            1699 non-null   object \n",
            " 12  Movie_Keywords            4373 non-null   object \n",
            " 13  Movie_Overview            4757 non-null   object \n",
            " 14  Movie_Production_House    4760 non-null   object \n",
            " 15  Movie_Production_Country  4760 non-null   object \n",
            " 16  Movie_Spoken_Language     4760 non-null   object \n",
            " 17  Movie_Tagline             3942 non-null   object \n",
            " 18  Movie_Cast                4733 non-null   object \n",
            " 19  Movie_Crew                4760 non-null   object \n",
            " 20  Movie_Director            4738 non-null   object \n",
            "dtypes: float64(3), int64(4), object(14)\n",
            "memory usage: 781.1+ KB\n"
          ]
        }
      ]
    },
    {
      "cell_type": "code",
      "source": [
        "df.shape"
      ],
      "metadata": {
        "colab": {
          "base_uri": "https://localhost:8080/"
        },
        "id": "7r07fgOjd9FW",
        "outputId": "51c4dc6b-f9ad-4ac2-fa05-9b6c2691ea33"
      },
      "execution_count": null,
      "outputs": [
        {
          "output_type": "execute_result",
          "data": {
            "text/plain": [
              "(4760, 21)"
            ]
          },
          "metadata": {},
          "execution_count": 7
        }
      ]
    },
    {
      "cell_type": "code",
      "source": [
        "df.columns"
      ],
      "metadata": {
        "colab": {
          "base_uri": "https://localhost:8080/"
        },
        "id": "_Vh2iXgqeIQd",
        "outputId": "702b4c43-14ae-4633-d348-4f621d6103b7"
      },
      "execution_count": null,
      "outputs": [
        {
          "output_type": "execute_result",
          "data": {
            "text/plain": [
              "Index(['Movie_ID', 'Movie_Title', 'Movie_Genre', 'Movie_Language',\n",
              "       'Movie_Budget', 'Movie_Popularity', 'Movie_Release_Date',\n",
              "       'Movie_Revenue', 'Movie_Runtime', 'Movie_Vote', 'Movie_Vote_Count',\n",
              "       'Movie_Homepage', 'Movie_Keywords', 'Movie_Overview',\n",
              "       'Movie_Production_House', 'Movie_Production_Country',\n",
              "       'Movie_Spoken_Language', 'Movie_Tagline', 'Movie_Cast', 'Movie_Crew',\n",
              "       'Movie_Director'],\n",
              "      dtype='object')"
            ]
          },
          "metadata": {},
          "execution_count": 8
        }
      ]
    },
    {
      "cell_type": "markdown",
      "source": [
        "# **Get Feature Selection**"
      ],
      "metadata": {
        "id": "m3TWDQgleL-n"
      }
    },
    {
      "cell_type": "code",
      "source": [
        "df_features = df[['Movie_Genre','Movie_Keywords','Movie_Tagline','Movie_Cast','Movie_Director']].fillna('')"
      ],
      "metadata": {
        "id": "oDtSx-xgeRg7"
      },
      "execution_count": null,
      "outputs": []
    },
    {
      "cell_type": "code",
      "source": [
        "df_features.shape"
      ],
      "metadata": {
        "colab": {
          "base_uri": "https://localhost:8080/"
        },
        "id": "CwPZ5TDcfMtk",
        "outputId": "2b330015-6263-4e96-daf3-4f2e80648bed"
      },
      "execution_count": null,
      "outputs": [
        {
          "output_type": "execute_result",
          "data": {
            "text/plain": [
              "(4760, 5)"
            ]
          },
          "metadata": {},
          "execution_count": 10
        }
      ]
    },
    {
      "cell_type": "code",
      "source": [
        "df_features"
      ],
      "metadata": {
        "colab": {
          "base_uri": "https://localhost:8080/",
          "height": 467
        },
        "id": "3OK8382jfVdH",
        "outputId": "fa73be48-d26c-458d-881d-2aae48760b4f"
      },
      "execution_count": null,
      "outputs": [
        {
          "output_type": "execute_result",
          "data": {
            "text/plain": [
              "                           Movie_Genre  \\\n",
              "0                         Crime Comedy   \n",
              "1     Adventure Action Science Fiction   \n",
              "2                     Animation Family   \n",
              "3                 Comedy Drama Romance   \n",
              "4                                Drama   \n",
              "...                                ...   \n",
              "4755                            Horror   \n",
              "4756               Comedy Family Drama   \n",
              "4757                    Thriller Drama   \n",
              "4758                            Family   \n",
              "4759                       Documentary   \n",
              "\n",
              "                                         Movie_Keywords  \\\n",
              "0             hotel new year's eve witch bet hotel room   \n",
              "1           android galaxy hermit death star lightsaber   \n",
              "2     father son relationship harbor underwater fish...   \n",
              "3     vietnam veteran hippie mentally disabled runni...   \n",
              "4     male nudity female nudity adultery midlife cri...   \n",
              "...                                                 ...   \n",
              "4755                                                      \n",
              "4756                                                      \n",
              "4757                     christian film sex trafficking   \n",
              "4758                                                      \n",
              "4759  music actors legendary perfomer classic hollyw...   \n",
              "\n",
              "                                          Movie_Tagline  \\\n",
              "0     Twelve outrageous guests. Four scandalous requ...   \n",
              "1          A long time ago in a galaxy far, far away...   \n",
              "2     There are 3.7 trillion fish in the ocean, they...   \n",
              "3     The world will never be the same, once you've ...   \n",
              "4                                          Look closer.   \n",
              "...                                                 ...   \n",
              "4755                The hot spot where Satan's waitin'.   \n",
              "4756           It’s better to stand out than to fit in.   \n",
              "4757           She never knew it could happen to her...   \n",
              "4758                                                      \n",
              "4759                                                      \n",
              "\n",
              "                                             Movie_Cast     Movie_Director  \n",
              "0     Tim Roth Antonio Banderas Jennifer Beals Madon...     Allison Anders  \n",
              "1     Mark Hamill Harrison Ford Carrie Fisher Peter ...       George Lucas  \n",
              "2     Albert Brooks Ellen DeGeneres Alexander Gould ...     Andrew Stanton  \n",
              "3     Tom Hanks Robin Wright Gary Sinise Mykelti Wil...    Robert Zemeckis  \n",
              "4     Kevin Spacey Annette Bening Thora Birch Wes Be...         Sam Mendes  \n",
              "...                                                 ...                ...  \n",
              "4755  Lisa Hart Carroll Michael Des Barres Paul Drak...         Pece Dingo  \n",
              "4756  Roni Akurati Brighton Sharbino Jason Lee Anjul...       Frank Lotito  \n",
              "4757  Nicole Smolen Kim Baldwin Ariana Stephens Brys...       Jaco Booyens  \n",
              "4758                                                                        \n",
              "4759                                    Tony Oppedisano  Simon Napier-Bell  \n",
              "\n",
              "[4760 rows x 5 columns]"
            ],
            "text/html": [
              "\n",
              "  <div id=\"df-17d80cca-506a-45ab-b922-b67541692b1e\">\n",
              "    <div class=\"colab-df-container\">\n",
              "      <div>\n",
              "<style scoped>\n",
              "    .dataframe tbody tr th:only-of-type {\n",
              "        vertical-align: middle;\n",
              "    }\n",
              "\n",
              "    .dataframe tbody tr th {\n",
              "        vertical-align: top;\n",
              "    }\n",
              "\n",
              "    .dataframe thead th {\n",
              "        text-align: right;\n",
              "    }\n",
              "</style>\n",
              "<table border=\"1\" class=\"dataframe\">\n",
              "  <thead>\n",
              "    <tr style=\"text-align: right;\">\n",
              "      <th></th>\n",
              "      <th>Movie_Genre</th>\n",
              "      <th>Movie_Keywords</th>\n",
              "      <th>Movie_Tagline</th>\n",
              "      <th>Movie_Cast</th>\n",
              "      <th>Movie_Director</th>\n",
              "    </tr>\n",
              "  </thead>\n",
              "  <tbody>\n",
              "    <tr>\n",
              "      <th>0</th>\n",
              "      <td>Crime Comedy</td>\n",
              "      <td>hotel new year's eve witch bet hotel room</td>\n",
              "      <td>Twelve outrageous guests. Four scandalous requ...</td>\n",
              "      <td>Tim Roth Antonio Banderas Jennifer Beals Madon...</td>\n",
              "      <td>Allison Anders</td>\n",
              "    </tr>\n",
              "    <tr>\n",
              "      <th>1</th>\n",
              "      <td>Adventure Action Science Fiction</td>\n",
              "      <td>android galaxy hermit death star lightsaber</td>\n",
              "      <td>A long time ago in a galaxy far, far away...</td>\n",
              "      <td>Mark Hamill Harrison Ford Carrie Fisher Peter ...</td>\n",
              "      <td>George Lucas</td>\n",
              "    </tr>\n",
              "    <tr>\n",
              "      <th>2</th>\n",
              "      <td>Animation Family</td>\n",
              "      <td>father son relationship harbor underwater fish...</td>\n",
              "      <td>There are 3.7 trillion fish in the ocean, they...</td>\n",
              "      <td>Albert Brooks Ellen DeGeneres Alexander Gould ...</td>\n",
              "      <td>Andrew Stanton</td>\n",
              "    </tr>\n",
              "    <tr>\n",
              "      <th>3</th>\n",
              "      <td>Comedy Drama Romance</td>\n",
              "      <td>vietnam veteran hippie mentally disabled runni...</td>\n",
              "      <td>The world will never be the same, once you've ...</td>\n",
              "      <td>Tom Hanks Robin Wright Gary Sinise Mykelti Wil...</td>\n",
              "      <td>Robert Zemeckis</td>\n",
              "    </tr>\n",
              "    <tr>\n",
              "      <th>4</th>\n",
              "      <td>Drama</td>\n",
              "      <td>male nudity female nudity adultery midlife cri...</td>\n",
              "      <td>Look closer.</td>\n",
              "      <td>Kevin Spacey Annette Bening Thora Birch Wes Be...</td>\n",
              "      <td>Sam Mendes</td>\n",
              "    </tr>\n",
              "    <tr>\n",
              "      <th>...</th>\n",
              "      <td>...</td>\n",
              "      <td>...</td>\n",
              "      <td>...</td>\n",
              "      <td>...</td>\n",
              "      <td>...</td>\n",
              "    </tr>\n",
              "    <tr>\n",
              "      <th>4755</th>\n",
              "      <td>Horror</td>\n",
              "      <td></td>\n",
              "      <td>The hot spot where Satan's waitin'.</td>\n",
              "      <td>Lisa Hart Carroll Michael Des Barres Paul Drak...</td>\n",
              "      <td>Pece Dingo</td>\n",
              "    </tr>\n",
              "    <tr>\n",
              "      <th>4756</th>\n",
              "      <td>Comedy Family Drama</td>\n",
              "      <td></td>\n",
              "      <td>It’s better to stand out than to fit in.</td>\n",
              "      <td>Roni Akurati Brighton Sharbino Jason Lee Anjul...</td>\n",
              "      <td>Frank Lotito</td>\n",
              "    </tr>\n",
              "    <tr>\n",
              "      <th>4757</th>\n",
              "      <td>Thriller Drama</td>\n",
              "      <td>christian film sex trafficking</td>\n",
              "      <td>She never knew it could happen to her...</td>\n",
              "      <td>Nicole Smolen Kim Baldwin Ariana Stephens Brys...</td>\n",
              "      <td>Jaco Booyens</td>\n",
              "    </tr>\n",
              "    <tr>\n",
              "      <th>4758</th>\n",
              "      <td>Family</td>\n",
              "      <td></td>\n",
              "      <td></td>\n",
              "      <td></td>\n",
              "      <td></td>\n",
              "    </tr>\n",
              "    <tr>\n",
              "      <th>4759</th>\n",
              "      <td>Documentary</td>\n",
              "      <td>music actors legendary perfomer classic hollyw...</td>\n",
              "      <td></td>\n",
              "      <td>Tony Oppedisano</td>\n",
              "      <td>Simon Napier-Bell</td>\n",
              "    </tr>\n",
              "  </tbody>\n",
              "</table>\n",
              "<p>4760 rows × 5 columns</p>\n",
              "</div>\n",
              "      <button class=\"colab-df-convert\" onclick=\"convertToInteractive('df-17d80cca-506a-45ab-b922-b67541692b1e')\"\n",
              "              title=\"Convert this dataframe to an interactive table.\"\n",
              "              style=\"display:none;\">\n",
              "        \n",
              "  <svg xmlns=\"http://www.w3.org/2000/svg\" height=\"24px\"viewBox=\"0 0 24 24\"\n",
              "       width=\"24px\">\n",
              "    <path d=\"M0 0h24v24H0V0z\" fill=\"none\"/>\n",
              "    <path d=\"M18.56 5.44l.94 2.06.94-2.06 2.06-.94-2.06-.94-.94-2.06-.94 2.06-2.06.94zm-11 1L8.5 8.5l.94-2.06 2.06-.94-2.06-.94L8.5 2.5l-.94 2.06-2.06.94zm10 10l.94 2.06.94-2.06 2.06-.94-2.06-.94-.94-2.06-.94 2.06-2.06.94z\"/><path d=\"M17.41 7.96l-1.37-1.37c-.4-.4-.92-.59-1.43-.59-.52 0-1.04.2-1.43.59L10.3 9.45l-7.72 7.72c-.78.78-.78 2.05 0 2.83L4 21.41c.39.39.9.59 1.41.59.51 0 1.02-.2 1.41-.59l7.78-7.78 2.81-2.81c.8-.78.8-2.07 0-2.86zM5.41 20L4 18.59l7.72-7.72 1.47 1.35L5.41 20z\"/>\n",
              "  </svg>\n",
              "      </button>\n",
              "      \n",
              "  <style>\n",
              "    .colab-df-container {\n",
              "      display:flex;\n",
              "      flex-wrap:wrap;\n",
              "      gap: 12px;\n",
              "    }\n",
              "\n",
              "    .colab-df-convert {\n",
              "      background-color: #E8F0FE;\n",
              "      border: none;\n",
              "      border-radius: 50%;\n",
              "      cursor: pointer;\n",
              "      display: none;\n",
              "      fill: #1967D2;\n",
              "      height: 32px;\n",
              "      padding: 0 0 0 0;\n",
              "      width: 32px;\n",
              "    }\n",
              "\n",
              "    .colab-df-convert:hover {\n",
              "      background-color: #E2EBFA;\n",
              "      box-shadow: 0px 1px 2px rgba(60, 64, 67, 0.3), 0px 1px 3px 1px rgba(60, 64, 67, 0.15);\n",
              "      fill: #174EA6;\n",
              "    }\n",
              "\n",
              "    [theme=dark] .colab-df-convert {\n",
              "      background-color: #3B4455;\n",
              "      fill: #D2E3FC;\n",
              "    }\n",
              "\n",
              "    [theme=dark] .colab-df-convert:hover {\n",
              "      background-color: #434B5C;\n",
              "      box-shadow: 0px 1px 3px 1px rgba(0, 0, 0, 0.15);\n",
              "      filter: drop-shadow(0px 1px 2px rgba(0, 0, 0, 0.3));\n",
              "      fill: #FFFFFF;\n",
              "    }\n",
              "  </style>\n",
              "\n",
              "      <script>\n",
              "        const buttonEl =\n",
              "          document.querySelector('#df-17d80cca-506a-45ab-b922-b67541692b1e button.colab-df-convert');\n",
              "        buttonEl.style.display =\n",
              "          google.colab.kernel.accessAllowed ? 'block' : 'none';\n",
              "\n",
              "        async function convertToInteractive(key) {\n",
              "          const element = document.querySelector('#df-17d80cca-506a-45ab-b922-b67541692b1e');\n",
              "          const dataTable =\n",
              "            await google.colab.kernel.invokeFunction('convertToInteractive',\n",
              "                                                     [key], {});\n",
              "          if (!dataTable) return;\n",
              "\n",
              "          const docLinkHtml = 'Like what you see? Visit the ' +\n",
              "            '<a target=\"_blank\" href=https://colab.research.google.com/notebooks/data_table.ipynb>data table notebook</a>'\n",
              "            + ' to learn more about interactive tables.';\n",
              "          element.innerHTML = '';\n",
              "          dataTable['output_type'] = 'display_data';\n",
              "          await google.colab.output.renderOutput(dataTable, element);\n",
              "          const docLink = document.createElement('div');\n",
              "          docLink.innerHTML = docLinkHtml;\n",
              "          element.appendChild(docLink);\n",
              "        }\n",
              "      </script>\n",
              "    </div>\n",
              "  </div>\n",
              "  "
            ]
          },
          "metadata": {},
          "execution_count": 11
        }
      ]
    },
    {
      "cell_type": "code",
      "source": [
        "x = df_features['Movie_Genre']+' ' + df_features['Movie_Keywords'] + ' ' + df_features['Movie_Keywords'] + ' ' + df_features['Movie_Cast'] + ' ' + df_features['Movie_Director']"
      ],
      "metadata": {
        "id": "O38eGWrfffjj"
      },
      "execution_count": null,
      "outputs": []
    },
    {
      "cell_type": "code",
      "source": [
        "x"
      ],
      "metadata": {
        "colab": {
          "base_uri": "https://localhost:8080/"
        },
        "id": "xmMi9aQ8gY_u",
        "outputId": "64a607ce-80a3-474f-c414-facf0192a140"
      },
      "execution_count": null,
      "outputs": [
        {
          "output_type": "execute_result",
          "data": {
            "text/plain": [
              "0       Crime Comedy hotel new year's eve witch bet ho...\n",
              "1       Adventure Action Science Fiction android galax...\n",
              "2       Animation Family father son relationship harbo...\n",
              "3       Comedy Drama Romance vietnam veteran hippie me...\n",
              "4       Drama male nudity female nudity adultery midli...\n",
              "                              ...                        \n",
              "4755    Horror   Lisa Hart Carroll Michael Des Barres ...\n",
              "4756    Comedy Family Drama   Roni Akurati Brighton Sh...\n",
              "4757    Thriller Drama christian film sex trafficking ...\n",
              "4758                                           Family    \n",
              "4759    Documentary music actors legendary perfomer cl...\n",
              "Length: 4760, dtype: object"
            ]
          },
          "metadata": {},
          "execution_count": 13
        }
      ]
    },
    {
      "cell_type": "code",
      "source": [
        "x.shape"
      ],
      "metadata": {
        "colab": {
          "base_uri": "https://localhost:8080/"
        },
        "id": "Iv2Xcvb0gfwb",
        "outputId": "3cda9fd2-3a87-4ef6-ce6f-1bdcf0e1b88f"
      },
      "execution_count": null,
      "outputs": [
        {
          "output_type": "execute_result",
          "data": {
            "text/plain": [
              "(4760,)"
            ]
          },
          "metadata": {},
          "execution_count": 14
        }
      ]
    },
    {
      "cell_type": "markdown",
      "source": [
        "# **Get Feature text conversion to tokens**"
      ],
      "metadata": {
        "id": "zbBlbOW8glJB"
      }
    },
    {
      "cell_type": "code",
      "source": [
        "from sklearn.feature_extraction.text import TfidfVectorizer"
      ],
      "metadata": {
        "id": "lQH6flCtgrVY"
      },
      "execution_count": null,
      "outputs": []
    },
    {
      "cell_type": "code",
      "source": [
        "tfidf = TfidfVectorizer()"
      ],
      "metadata": {
        "id": "ubMmDXPjhON7"
      },
      "execution_count": null,
      "outputs": []
    },
    {
      "cell_type": "code",
      "source": [
        "x = tfidf.fit_transform(x)"
      ],
      "metadata": {
        "id": "eNBDFl-2hVtJ"
      },
      "execution_count": null,
      "outputs": []
    },
    {
      "cell_type": "code",
      "source": [
        "x.shape"
      ],
      "metadata": {
        "colab": {
          "base_uri": "https://localhost:8080/"
        },
        "id": "QuAsiy3Rhl76",
        "outputId": "a37faab9-7de6-4d0c-d7c9-2066edc288e7"
      },
      "execution_count": null,
      "outputs": [
        {
          "output_type": "execute_result",
          "data": {
            "text/plain": [
              "(4760, 14793)"
            ]
          },
          "metadata": {},
          "execution_count": 19
        }
      ]
    },
    {
      "cell_type": "code",
      "source": [
        "print(x)"
      ],
      "metadata": {
        "colab": {
          "base_uri": "https://localhost:8080/"
        },
        "id": "v2b8iREDht23",
        "outputId": "a0acde0c-51ad-4a2e-c1d9-17d924f3d07c"
      },
      "execution_count": null,
      "outputs": [
        {
          "output_type": "stream",
          "name": "stdout",
          "text": [
            "  (0, 451)\t0.165190464854606\n",
            "  (0, 340)\t0.1448837085147791\n",
            "  (0, 13223)\t0.14821441056141496\n",
            "  (0, 8320)\t0.14387380354910637\n",
            "  (0, 8120)\t0.167866391875314\n",
            "  (0, 1141)\t0.17090010772110995\n",
            "  (0, 6614)\t0.09910688329773505\n",
            "  (0, 976)\t0.14023095950525072\n",
            "  (0, 551)\t0.13567189772475802\n",
            "  (0, 11289)\t0.14594060237175469\n",
            "  (0, 13173)\t0.10615333059491001\n",
            "  (0, 11251)\t0.3071699115538767\n",
            "  (0, 1314)\t0.330380929709212\n",
            "  (0, 14440)\t0.25827202791088977\n",
            "  (0, 4290)\t0.3014827184133558\n",
            "  (0, 14601)\t0.32559353313391887\n",
            "  (0, 9425)\t0.1922842355914916\n",
            "  (0, 6090)\t0.5105500276576569\n",
            "  (0, 2769)\t0.045797443669557195\n",
            "  (0, 3039)\t0.06604862697928299\n",
            "  (1, 7975)\t0.13551509774396794\n",
            "  (1, 5067)\t0.10800864907779002\n",
            "  (1, 5448)\t0.17685792685109322\n",
            "  (1, 277)\t0.13774331380201366\n",
            "  (1, 3133)\t0.2100403236529114\n",
            "  :\t:\n",
            "  (4757, 13298)\t0.46121661339573067\n",
            "  (4757, 12534)\t0.2265146868427909\n",
            "  (4757, 948)\t0.1764177842976821\n",
            "  (4757, 11859)\t0.2844871668248469\n",
            "  (4757, 9471)\t0.1715854151967273\n",
            "  (4757, 4580)\t0.23749685924644076\n",
            "  (4757, 2536)\t0.3046288090948529\n",
            "  (4757, 7146)\t0.16324884927699493\n",
            "  (4757, 13132)\t0.07150733004009234\n",
            "  (4757, 3796)\t0.05305422927759788\n",
            "  (4758, 4409)\t1.0\n",
            "  (4759, 9739)\t0.19132721123495416\n",
            "  (4759, 10112)\t0.38265442246990833\n",
            "  (4759, 7620)\t0.38265442246990833\n",
            "  (4759, 90)\t0.38265442246990833\n",
            "  (4759, 12135)\t0.3649732996379249\n",
            "  (4759, 6020)\t0.3083154477623331\n",
            "  (4759, 2614)\t0.3649732996379249\n",
            "  (4759, 9307)\t0.17621417167243028\n",
            "  (4759, 3673)\t0.10317451368703201\n",
            "  (4759, 12125)\t0.11349887928088657\n",
            "  (4759, 4765)\t0.22179340277602838\n",
            "  (4759, 13238)\t0.11062584688341565\n",
            "  (4759, 1219)\t0.11946640829940738\n",
            "  (4759, 9222)\t0.1799172546235201\n"
          ]
        }
      ]
    },
    {
      "cell_type": "code",
      "source": [
        "from sklearn.metrics.pairwise import cosine_similarity"
      ],
      "metadata": {
        "id": "VZE_JkNnh9Yr"
      },
      "execution_count": null,
      "outputs": []
    },
    {
      "cell_type": "code",
      "source": [
        "similarity_score = cosine_similarity(x)"
      ],
      "metadata": {
        "id": "wW7p_DTdiIXb"
      },
      "execution_count": null,
      "outputs": []
    },
    {
      "cell_type": "code",
      "source": [
        "similarity_score"
      ],
      "metadata": {
        "colab": {
          "base_uri": "https://localhost:8080/"
        },
        "id": "dkZltw2tiRB8",
        "outputId": "d0c7adc3-c7fa-4cfb-b434-3574e13e68e6"
      },
      "execution_count": null,
      "outputs": [
        {
          "output_type": "execute_result",
          "data": {
            "text/plain": [
              "array([[1.       , 0.       , 0.       , ..., 0.       , 0.       ,\n",
              "        0.       ],\n",
              "       [0.       , 1.       , 0.       , ..., 0.       , 0.       ,\n",
              "        0.       ],\n",
              "       [0.       , 0.       , 1.       , ..., 0.       , 0.0618712,\n",
              "        0.       ],\n",
              "       ...,\n",
              "       [0.       , 0.       , 0.       , ..., 1.       , 0.       ,\n",
              "        0.       ],\n",
              "       [0.       , 0.       , 0.0618712, ..., 0.       , 1.       ,\n",
              "        0.       ],\n",
              "       [0.       , 0.       , 0.       , ..., 0.       , 0.       ,\n",
              "        1.       ]])"
            ]
          },
          "metadata": {},
          "execution_count": 23
        }
      ]
    },
    {
      "cell_type": "code",
      "source": [
        "similarity_score.shape"
      ],
      "metadata": {
        "colab": {
          "base_uri": "https://localhost:8080/"
        },
        "id": "Ek91q-YjiZHp",
        "outputId": "f08010e3-cd75-4d89-8f42-30def48840b3"
      },
      "execution_count": null,
      "outputs": [
        {
          "output_type": "execute_result",
          "data": {
            "text/plain": [
              "(4760, 4760)"
            ]
          },
          "metadata": {},
          "execution_count": 24
        }
      ]
    },
    {
      "cell_type": "markdown",
      "source": [
        "# **Get Movie name from user and validate closest spelling**"
      ],
      "metadata": {
        "id": "CXMw1qMNipjh"
      }
    },
    {
      "cell_type": "code",
      "source": [
        "favourite_movie_name = input('Enter your favourite movie name:')"
      ],
      "metadata": {
        "colab": {
          "base_uri": "https://localhost:8080/"
        },
        "id": "PUdWXESni0ow",
        "outputId": "449fb73d-f044-40a0-d155-06350f9a830d"
      },
      "execution_count": null,
      "outputs": [
        {
          "name": "stdout",
          "output_type": "stream",
          "text": [
            "Enter your favourite movie name:avtaar\n"
          ]
        }
      ]
    },
    {
      "cell_type": "code",
      "source": [
        "All_movies_title_list = df['Movie_Title'].tolist()"
      ],
      "metadata": {
        "id": "Lio8akq4jQbH"
      },
      "execution_count": null,
      "outputs": []
    },
    {
      "cell_type": "code",
      "source": [
        "import difflib"
      ],
      "metadata": {
        "id": "0G_ikJjPjn09"
      },
      "execution_count": null,
      "outputs": []
    },
    {
      "cell_type": "code",
      "source": [
        "Movie_Recommendation = difflib.get_close_matches( favourite_movie_name, All_movies_title_list )\n",
        "print(Movie_Recommendation)"
      ],
      "metadata": {
        "colab": {
          "base_uri": "https://localhost:8080/"
        },
        "id": "Qs4e8nGpjrwA",
        "outputId": "3798e69b-6c2a-4c59-b32d-02a7087964f7"
      },
      "execution_count": null,
      "outputs": [
        {
          "output_type": "stream",
          "name": "stdout",
          "text": [
            "['Avatar', 'Gattaca']\n"
          ]
        }
      ]
    },
    {
      "cell_type": "code",
      "source": [
        "Close_Match = Movie_Recommendation[0]\n",
        "print(Close_Match)"
      ],
      "metadata": {
        "colab": {
          "base_uri": "https://localhost:8080/"
        },
        "id": "0CjiScCMk_rk",
        "outputId": "c7cf1dcd-0c16-42c9-c6ad-66e859648ff6"
      },
      "execution_count": null,
      "outputs": [
        {
          "output_type": "stream",
          "name": "stdout",
          "text": [
            "Avatar\n"
          ]
        }
      ]
    },
    {
      "cell_type": "code",
      "source": [
        "Index_of_Close_Match_Movie =  df[df.Movie_Title == Close_Match]['Movie_ID'].values[0]\n",
        "print(Index_of_Close_Match_Movie)"
      ],
      "metadata": {
        "colab": {
          "base_uri": "https://localhost:8080/"
        },
        "id": "rojEUX52m8r8",
        "outputId": "0bee650d-214c-4e9f-f023-4d35b30ab652"
      },
      "execution_count": null,
      "outputs": [
        {
          "output_type": "stream",
          "name": "stdout",
          "text": [
            "2692\n"
          ]
        }
      ]
    },
    {
      "cell_type": "code",
      "source": [
        "#getting list of similar movies\n",
        "Recommendation_Score = list(enumerate(similarity_score[Index_of_Close_Match_Movie]))\n",
        "print(Recommendation_Score)"
      ],
      "metadata": {
        "colab": {
          "base_uri": "https://localhost:8080/"
        },
        "id": "OYfPuwdZn90S",
        "outputId": "cd8034ca-a7cc-4b0b-bc73-c28caa1111c2"
      },
      "execution_count": null,
      "outputs": [
        {
          "output_type": "stream",
          "name": "stdout",
          "text": [
            "[(0, 0.0041647147479082075), (1, 0.0), (2, 0.0), (3, 0.0015187696023336542), (4, 0.0014963370354512788), (5, 0.006311607288711885), (6, 0.0032050400644213248), (7, 0.00131412352982691), (8, 0.0014968751745809128), (9, 0.0), (10, 0.004419440339639146), (11, 0.0014000714596581385), (12, 0.0015715458670944866), (13, 0.0), (14, 0.0), (15, 0.0016292296265450904), (16, 0.0038244799268297605), (17, 0.0), (18, 0.008901705410367113), (19, 0.0), (20, 0.0015614343365167992), (21, 0.010142686152518444), (22, 0.0), (23, 0.0015756172562358297), (24, 0.001510822793096049), (25, 0.013014522850261178), (26, 0.00149519156472017), (27, 0.0027510207664755157), (28, 0.0), (29, 0.0015220915418811395), (30, 0.0029477017842081746), (31, 0.004190076845402322), (32, 0.0013957611064241864), (33, 0.0015785524167352643), (34, 0.004419681896756324), (35, 0.0), (36, 0.0), (37, 0.0), (38, 0.004877107854729608), (39, 0.003070896774576597), (40, 0.004041497049608702), (41, 0.0015660703344459043), (42, 0.004597225053200314), (43, 0.0059430113197180955), (44, 0.004144360065420581), (45, 0.23650003180147045), (46, 0.002544492958217929), (47, 0.005968932537762898), (48, 0.009544574664176343), (49, 0.0), (50, 0.004301373343244596), (51, 0.00892955079724532), (52, 0.007329606496515315), (53, 0.0), (54, 0.0), (55, 0.0), (56, 0.0), (57, 0.0), (58, 0.0), (59, 0.0), (60, 0.0013281875989346668), (61, 0.0014020843586037765), (62, 0.023102314992459703), (63, 0.0014250950217297254), (64, 0.0), (65, 0.0716226018112321), (66, 0.0014623993208725124), (67, 0.07324150410653313), (68, 0.01787884384956587), (69, 0.004399750756470066), (70, 0.006973817460584211), (71, 0.0014646635690262523), (72, 0.005966792636986112), (73, 0.0), (74, 0.0018250951782622915), (75, 0.0), (76, 0.002578238982192201), (77, 0.0025682737000214707), (78, 0.002272847776924397), (79, 0.0015444062584083669), (80, 0.002485742455427129), (81, 0.004166630240102518), (82, 0.0012429641171387712), (83, 0.007174021760019767), (84, 0.09593799736523811), (85, 0.005647697102056937), (86, 0.004586610331129914), (87, 0.009523100197251541), (88, 0.005523552841547341), (89, 0.02687540843545426), (90, 0.00238175040621236), (91, 0.0), (92, 0.0014159112223124794), (93, 0.0027131481618762466), (94, 0.002567462112621009), (95, 0.0030043541636045608), (96, 0.00562228603994187), (97, 0.001340768598199548), (98, 0.0017327274595930616), (99, 0.0061905539797729335), (100, 0.0), (101, 0.0), (102, 0.0029293727934446598), (103, 0.00133746115218732), (104, 0.001585348396930058), (105, 0.0068673850142222225), (106, 0.005072189985890384), (107, 0.004565629266046569), (108, 0.004843549321488932), (109, 0.01358320945924861), (110, 0.05180882796503691), (111, 0.005933409100703812), (112, 0.008914056739573902), (113, 0.001320436260523286), (114, 0.0015102561341833788), (115, 0.0015143189873725778), (116, 0.0036160129237867962), (117, 0.0), (118, 0.003160206461020755), (119, 0.001309584364862354), (120, 0.0053591972435200145), (121, 0.0017494906217274658), (122, 0.008548667228618283), (123, 0.015402436103420012), (124, 0.010262197297991974), (125, 0.0029583419071133577), (126, 0.0059224212737049465), (127, 0.001560891247907992), (128, 0.002809954724054586), (129, 0.0014049839028627813), (130, 0.0), (131, 0.0), (132, 0.0016015994768961597), (133, 0.0), (134, 0.0), (135, 0.0025904850028231237), (136, 0.0012493552878967084), (137, 0.007708408227325965), (138, 0.02118286162154398), (139, 0.004504949317711768), (140, 0.001392215297964527), (141, 0.0), (142, 0.0063981372813564225), (143, 0.004494172018132289), (144, 0.006758818760641465), (145, 0.00829487858164087), (146, 0.0), (147, 0.007468531190448862), (148, 0.007841590625526485), (149, 0.007282320541194348), (150, 0.0), (151, 0.0), (152, 0.002649164168184714), (153, 0.0), (154, 0.001483039948775485), (155, 0.01415449420485102), (156, 0.001416052251354972), (157, 0.0015442191743547022), (158, 0.0014432294009228954), (159, 0.0014035165386619211), (160, 0.002594233224545139), (161, 0.021208796307509575), (162, 0.009646876088890666), (163, 0.0), (164, 0.0015130487646339349), (165, 0.0014211666119556818), (166, 0.008310175028749554), (167, 0.01746084939311899), (168, 0.0), (169, 0.0015385663671213302), (170, 0.006233766707082195), (171, 0.0), (172, 0.08334895138596105), (173, 0.005813738842623062), (174, 0.013331560707774399), (175, 0.0015425124975889438), (176, 0.014860007317990944), (177, 0.0), (178, 0.0016526363989525167), (179, 0.0776083466135313), (180, 0.004374941229585204), (181, 0.01240393473505557), (182, 0.0014936928656293516), (183, 0.0015443089722536672), (184, 0.0015295967853278252), (185, 0.020956980698360085), (186, 0.0), (187, 0.0026461079296557838), (188, 0.0), (189, 0.002471524310228819), (190, 0.008172814922709909), (191, 0.0026466245719192418), (192, 0.0015898641563888817), (193, 0.00171742881310872), (194, 0.0011555042737914272), (195, 0.001411014317965293), (196, 0.0014145434351996587), (197, 0.0014223731727661594), (198, 0.0017477189703315672), (199, 0.00839652940159374), (200, 0.003942277564236614), (201, 0.007396738383073611), (202, 0.0014692596471208791), (203, 0.0016988144418314786), (204, 0.0016564322287258206), (205, 0.0), (206, 0.005820414713563424), (207, 0.00795984727588498), (208, 0.004290361280310343), (209, 0.006379495337174865), (210, 0.023872685819754148), (211, 0.0014189707349268224), (212, 0.0015883765621033561), (213, 0.07621126267749867), (214, 0.0), (215, 0.0015918435436662146), (216, 0.005991238835417936), (217, 0.004885523948760309), (218, 0.0016397977487807233), (219, 0.0), (220, 0.002780935461029015), (221, 0.0016449846668453462), (222, 0.0046468187094123), (223, 0.0), (224, 0.00804113121140098), (225, 0.0), (226, 0.001727293273421731), (227, 0.001407112853792088), (228, 0.0016013338862022907), (229, 0.0013422637551873087), (230, 0.0), (231, 0.0), (232, 0.0), (233, 0.0031817879563810114), (234, 0.002626792732126987), (235, 0.0016310571742164438), (236, 0.009738405559433418), (237, 0.0), (238, 0.004703402647257092), (239, 0.0027145728133766943), (240, 0.016999953378385172), (241, 0.015397285655319412), (242, 0.0014554117816307681), (243, 0.00387689233674777), (244, 0.006268016660396839), (245, 0.0), (246, 0.0018240240735220624), (247, 0.0016695861432793877), (248, 0.0), (249, 0.0017883841419538272), (250, 0.01698464877291411), (251, 0.005318991118959253), (252, 0.0012852694930622231), (253, 0.0015508185505423361), (254, 0.03384738881461677), (255, 0.004530315251559262), (256, 0.005624522165715207), (257, 0.015464456969717754), (258, 0.0), (259, 0.0), (260, 0.0024288109158739643), (261, 0.002645082783589213), (262, 0.0015896157234671488), (263, 0.0), (264, 0.0), (265, 0.0), (266, 0.004647785477327027), (267, 0.0014850244846546863), (268, 0.0014034296148936305), (269, 0.0014819825407652424), (270, 0.006020105584332946), (271, 0.0036748648032920456), (272, 0.0), (273, 0.002510410184137519), (274, 0.006729355085855605), (275, 0.0), (276, 0.00784596841044444), (277, 0.11834176655057234), (278, 0.0017942703700586555), (279, 0.0015880369206192405), (280, 0.005135960215449247), (281, 0.005954581076512107), (282, 0.021386446772554284), (283, 0.0016895513849143214), (284, 0.01904687551706272), (285, 0.005412601743889939), (286, 0.0015085762737100461), (287, 0.006175940221878109), (288, 0.002865895547669845), (289, 0.002135861833283219), (290, 0.0026309847446284074), (291, 0.007564847805225282), (292, 0.001450211177702285), (293, 0.0012778100659118744), (294, 0.002832804342069346), (295, 0.002800677321535712), (296, 0.003516517806085197), (297, 0.0), (298, 0.0), (299, 0.0), (300, 0.0), (301, 0.0), (302, 0.0), (303, 0.002807968026581522), (304, 0.007650661171159118), (305, 0.0028791237734833225), (306, 0.002827821297323498), (307, 0.001531626451905657), (308, 0.0014293803278588337), (309, 0.0014058812842873563), (310, 0.003003221102917523), (311, 0.004146683793996755), (312, 0.0), (313, 0.002910455059232765), (314, 0.002388969779591265), (315, 0.003040477645875328), (316, 0.002409675381824108), (317, 0.0013100857452852338), (318, 0.0016017106966510145), (319, 0.0), (320, 0.0030702153386083795), (321, 0.002738109474630547), (322, 0.0028005459064717802), (323, 0.0025135235285132238), (324, 0.001500347927952826), (325, 0.0013338610651177191), (326, 0.001788953296709548), (327, 0.002741805825939387), (328, 0.07155282796313128), (329, 0.0038105518430109715), (330, 0.0015357154373135565), (331, 0.0), (332, 0.002876776115467807), (333, 0.0060101107275099385), (334, 0.007409611972325857), (335, 0.0), (336, 0.0), (337, 0.0), (338, 0.0), (339, 0.0), (340, 0.0), (341, 0.003076866675545769), (342, 0.006821147913057881), (343, 0.0014713552277108685), (344, 0.0), (345, 0.00468111148879308), (346, 0.00144824897107477), (347, 0.0028572092117398885), (348, 0.0014949807736648728), (349, 0.0015067053025159126), (350, 0.0045109016548975445), (351, 0.0015808863392185917), (352, 0.0), (353, 0.0015502700610158437), (354, 0.0028944947991657406), (355, 0.001672055176228901), (356, 0.004462069813161471), (357, 0.0014070487428876036), (358, 0.0015816468006925948), (359, 0.001313010724253687), (360, 0.08809639772032121), (361, 0.0), (362, 0.0), (363, 0.0), (364, 0.0013992364075584595), (365, 0.0), (366, 0.0), (367, 0.004686086017240367), (368, 0.004888355338673548), (369, 0.004345576483338974), (370, 0.008396529652913369), (371, 0.004730004641511247), (372, 0.0014405525854890157), (373, 0.0015567172820023915), (374, 0.0016217726296340654), (375, 0.0029642736776808593), (376, 0.0), (377, 0.0014318430757975387), (378, 0.0015192040953345644), (379, 0.0), (380, 0.0032028636432555393), (381, 0.07734672311351487), (382, 0.0), (383, 0.012424392684717058), (384, 0.03066811458231314), (385, 0.004668041333804773), (386, 0.0), (387, 0.06356106683942009), (388, 0.0016801971490044477), (389, 0.002908130553065413), (390, 0.0), (391, 0.0), (392, 0.0), (393, 0.0), (394, 0.0), (395, 0.0015744920427879304), (396, 0.00629046996646564), (397, 0.0026060551263216666), (398, 0.013650124603574492), (399, 0.001678849725653348), (400, 0.001492168412812381), (401, 0.0), (402, 0.0016329571390165745), (403, 0.001303135221289301), (404, 0.0), (405, 0.0), (406, 0.004209817200385745), (407, 0.001595249799413474), (408, 0.02357748917716906), (409, 0.0), (410, 0.0013711009450346461), (411, 0.0), (412, 0.0013912892161671883), (413, 0.0), (414, 0.0), (415, 0.0), (416, 0.0012958333757859461), (417, 0.00539967029069726), (418, 0.008109857624809579), (419, 0.001593712455077296), (420, 0.0029596065074554297), (421, 0.01658717172477799), (422, 0.008944571150494959), (423, 0.0), (424, 0.037391871695261425), (425, 0.003310824761099578), (426, 0.0031201684354739308), (427, 0.0), (428, 0.013930875871418563), (429, 0.010219685351759487), (430, 0.01729770041463055), (431, 0.0016918978528171137), (432, 0.0017915985582343977), (433, 0.004038603111607017), (434, 0.0019197776301878482), (435, 0.0066116875709064885), (436, 0.0052745423277236435), (437, 0.001309481128495436), (438, 0.0025457382027777578), (439, 0.0), (440, 0.0), (441, 0.001427833478649663), (442, 0.0037186363681732185), (443, 0.005226868330819942), (444, 0.0016672933294754257), (445, 0.0014106987781210439), (446, 0.0014855794712134978), (447, 0.010106587972703605), (448, 0.001705159978718817), (449, 0.0014949208518797675), (450, 0.010540402885061244), (451, 0.002503687624592651), (452, 0.0012919957871196587), (453, 0.0012810763866765865), (454, 0.0), (455, 0.11079609026699273), (456, 0.0018136121150265794), (457, 0.0017052317290672519), (458, 0.012179752581018135), (459, 0.01598217790445644), (460, 0.0029200611059534325), (461, 0.009216913488494568), (462, 0.021543168034547647), (463, 0.008044137492555111), (464, 0.001612429387347773), (465, 0.0013815285272241334), (466, 0.0015943575954158445), (467, 0.0027145191162827004), (468, 0.002681824045874883), (469, 0.00263546545166702), (470, 0.004802512665094579), (471, 0.0014609191360113597), (472, 0.0015132875052358155), (473, 0.0013087398023051144), (474, 0.004171209851756454), (475, 0.0014544617706430658), (476, 0.0014922015077483762), (477, 0.0), (478, 0.0016404023343894588), (479, 0.032253152235200706), (480, 0.0015091366106324703), (481, 0.010780021654916205), (482, 0.003968138035616072), (483, 0.00660950219644652), (484, 0.0), (485, 0.0068526672489492135), (486, 0.0), (487, 0.0015996223606511237), (488, 0.001315418965850825), (489, 0.0016748714966105958), (490, 0.0018143297398681363), (491, 0.0), (492, 0.0), (493, 0.0045607868133475124), (494, 0.004861408474208965), (495, 0.0015791587550410555), (496, 0.0013754685427118916), (497, 0.008965789894800085), (498, 0.0), (499, 0.0017807197923921424), (500, 0.009003025547039068), (501, 0.008198521328022979), (502, 0.008944193250250997), (503, 0.0038499508557261687), (504, 0.0015318360317855835), (505, 0.0011692697346545125), (506, 0.0), (507, 0.0012792892946198778), (508, 0.0017936297196032376), (509, 0.004289559123806808), (510, 0.0015419946803448155), (511, 0.00264751045044896), (512, 0.0036385101000036206), (513, 0.0034383336471714102), (514, 0.0031479434832295938), (515, 0.0048924714497087735), (516, 0.0), (517, 0.0), (518, 0.001639773665117697), (519, 0.01878775636509785), (520, 0.0), (521, 0.0), (522, 0.01875677985654357), (523, 0.003358707495570037), (524, 0.0014161456744603658), (525, 0.0), (526, 0.0020592126715877077), (527, 0.0013669480658824301), (528, 0.0), (529, 0.0), (530, 0.008365234234081984), (531, 0.0), (532, 0.00806375910248933), (533, 0.009088444847553185), (534, 0.008910777390469173), (535, 0.0), (536, 0.0), (537, 0.002971902548037467), (538, 0.0), (539, 0.0038745947635650557), (540, 0.0030662580118281197), (541, 0.0016458208728116252), (542, 0.008457112234313845), (543, 0.008479546622041013), (544, 0.006317203036666701), (545, 0.0), (546, 0.0), (547, 0.01838540470579662), (548, 0.0), (549, 0.0), (550, 0.003050877160447166), (551, 0.0015984319133406876), (552, 0.0), (553, 0.0), (554, 0.0), (555, 0.0), (556, 0.0), (557, 0.0), (558, 0.006052810108608214), (559, 0.002662844414515026), (560, 0.00806935380439284), (561, 0.0), (562, 0.0036975271967680176), (563, 0.005189499565497356), (564, 0.0013981874057088148), (565, 0.0), (566, 0.0050456497664225185), (567, 0.0), (568, 0.0), (569, 0.0), (570, 0.0), (571, 0.003701248358948369), (572, 0.0), (573, 0.0), (574, 0.0), (575, 0.0), (576, 0.0015750422572529093), (577, 0.0), (578, 0.0014604331958245464), (579, 0.0016738354373842398), (580, 0.004796267233607253), (581, 0.005302050333531507), (582, 0.0), (583, 0.0), (584, 0.010085102409666362), (585, 0.0), (586, 0.0), (587, 0.0017952839330020094), (588, 0.0015056396788654383), (589, 0.0017705227249614913), (590, 0.11392757649685986), (591, 0.0), (592, 0.0), (593, 0.014191270332843403), (594, 0.0012541274042743255), (595, 0.0026584293219080713), (596, 0.0015136519780206486), (597, 0.0015153400738475275), (598, 0.0012555385663876417), (599, 0.0), (600, 0.0), (601, 0.0), (602, 0.0), (603, 0.0), (604, 0.007387638067109858), (605, 0.001778219697331276), (606, 0.004960408284358868), (607, 0.0014698437792957935), (608, 0.004062430274080523), (609, 0.0014454050912514668), (610, 0.0), (611, 0.0012886052780073751), (612, 0.00205920198199597), (613, 0.008428438367526785), (614, 0.0017998150871298168), (615, 0.020559130825740127), (616, 0.0015207417305531682), (617, 0.003818979241200028), (618, 0.01200241291016692), (619, 0.002750921699807903), (620, 0.0013926513956759882), (621, 0.008281536207567799), (622, 0.009901134049482008), (623, 0.0018360754504919675), (624, 0.0017256767017808986), (625, 0.002664095449716594), (626, 0.0016172970768068063), (627, 0.0016447936659875334), (628, 0.16793159418608875), (629, 0.00708313590075179), (630, 0.0), (631, 0.0015794771333753708), (632, 0.023652851449655725), (633, 0.003150572207733091), (634, 0.003246178458280906), (635, 0.003074808930678644), (636, 0.004072787368410618), (637, 0.029649995955552278), (638, 0.0016470381927381646), (639, 0.0023144865524127502), (640, 0.002694997685334019), (641, 0.011978671068325196), (642, 0.004124508019331046), (643, 0.010574131006547922), (644, 0.004408368182698789), (645, 0.0013371385395958585), (646, 0.0014005865157229948), (647, 0.0012922537847997054), (648, 0.0), (649, 0.0), (650, 0.0), (651, 0.0015531539677331866), (652, 0.008546961322278678), (653, 0.00799966714516942), (654, 0.00761146698573107), (655, 0.0016576080175380924), (656, 0.0), (657, 0.0015116727208039893), (658, 0.0), (659, 0.0015408663384040915), (660, 0.004907599417739575), (661, 0.002418526692614107), (662, 0.0), (663, 0.0), (664, 0.004059878038260013), (665, 0.0), (666, 0.003187708509199609), (667, 0.006639411068198984), (668, 0.005737633413736847), (669, 0.008464092235154874), (670, 0.006768765129078928), (671, 0.0), (672, 0.013821474416647415), (673, 0.028532932923773707), (674, 0.0), (675, 0.010054594196552226), (676, 0.009805372883517498), (677, 0.0), (678, 0.01211425069133042), (679, 0.0), (680, 0.001405682415992641), (681, 0.0), (682, 0.0319454228167399), (683, 0.006684223662032716), (684, 0.005764017170725527), (685, 0.0028866802216479023), (686, 0.0), (687, 0.005110195466259392), (688, 0.004715629882673279), (689, 0.010301423767005796), (690, 0.004285229841570843), (691, 0.0013040222551153823), (692, 0.006015523549815051), (693, 0.017010454926540304), (694, 0.08391806895662728), (695, 0.007073789728445629), (696, 0.005049617996198936), (697, 0.0013793192488259338), (698, 0.0015844382773477599), (699, 0.0), (700, 0.0), (701, 0.009951632129397498), (702, 0.0), (703, 0.0013461472413963), (704, 0.0), (705, 0.001479857550233093), (706, 0.001181987030934735), (707, 0.0012861869395381798), (708, 0.0), (709, 0.0), (710, 0.05575205122895572), (711, 0.0), (712, 0.0011710744372492533), (713, 0.0), (714, 0.0), (715, 0.0016831898696318584), (716, 0.005010779304365824), (717, 0.0014820774276161732), (718, 0.0), (719, 0.004768308076967026), (720, 0.0), (721, 0.020388233815587395), (722, 0.0013223869693704809), (723, 0.002595552405465007), (724, 0.0), (725, 0.0), (726, 0.0), (727, 0.004655352840636255), (728, 0.005081793783178491), (729, 0.005135605928285226), (730, 0.0), (731, 0.001730526533999292), (732, 0.004798054897421882), (733, 0.004133963895131888), (734, 0.0014004502208575), (735, 0.0024113146699158493), (736, 0.0), (737, 0.00168996862333715), (738, 0.0031759426074758003), (739, 0.0017099514312855478), (740, 0.0015662655570966306), (741, 0.0), (742, 0.003629714870685102), (743, 0.004933190150705662), (744, 0.004166252841373129), (745, 0.0042640879683801085), (746, 0.0), (747, 0.0), (748, 0.0), (749, 0.0016000484817807494), (750, 0.004759930713628196), (751, 0.0), (752, 0.0), (753, 0.008916070341965935), (754, 0.0), (755, 0.0012877294671172883), (756, 0.0025927884205576503), (757, 0.005986358107556095), (758, 0.0), (759, 0.0014798552491797016), (760, 0.009805310929403881), (761, 0.03166167837335743), (762, 0.0028165273385728586), (763, 0.0), (764, 0.0), (765, 0.002650319086188805), (766, 0.013470055840225214), (767, 0.0015981029275941119), (768, 0.0), (769, 0.004364277902480866), (770, 0.0), (771, 0.0), (772, 0.0), (773, 0.0), (774, 0.024273833150370565), (775, 0.002707230637301852), (776, 0.0), (777, 0.0017457619223614986), (778, 0.0), (779, 0.0028666298260585582), (780, 0.0), (781, 0.0), (782, 0.0016605948232159586), (783, 0.0017706966579518278), (784, 0.0), (785, 0.0), (786, 0.0), (787, 0.015066742907410993), (788, 0.01644203534434261), (789, 0.0), (790, 0.006668598271989037), (791, 0.0023570682916767595), (792, 0.006176199784414942), (793, 0.003254449544199706), (794, 0.0014592456475993434), (795, 0.007066485046199342), (796, 0.0014158774742233141), (797, 0.0), (798, 0.0014449951701352682), (799, 0.008481515945210936), (800, 0.004259119347757079), (801, 0.006710825164634814), (802, 0.003380205683968549), (803, 0.002782660057029183), (804, 0.00452557489615006), (805, 0.001437559739183952), (806, 0.0072092731737251475), (807, 0.0), (808, 0.004808207455942602), (809, 0.0026561343358665417), (810, 0.003199250913511547), (811, 0.0030973574956376384), (812, 0.015144599020228177), (813, 0.001866595227986191), (814, 0.0), (815, 0.0014076192810200804), (816, 0.0052888363340247175), (817, 0.0015355262540604905), (818, 0.0014480014375559615), (819, 0.0), (820, 0.0), (821, 0.0), (822, 0.0), (823, 0.017150171420373925), (824, 0.001201461231856941), (825, 0.008508361612275884), (826, 0.001624878606846787), (827, 0.00689853096398809), (828, 0.004957793869199756), (829, 0.006331116151885129), (830, 0.08806285671067424), (831, 0.0040194918537855475), (832, 0.00511738492677355), (833, 0.004642314093320121), (834, 0.0), (835, 0.0), (836, 0.06752788333785277), (837, 0.0), (838, 0.001408389017266287), (839, 0.0), (840, 0.0), (841, 0.0), (842, 0.008592383651712873), (843, 0.0013808078005461094), (844, 0.00481436051290261), (845, 0.005305477534156562), (846, 0.0), (847, 0.0018414289561600506), (848, 0.001576295407519924), (849, 0.0032010332087903685), (850, 0.0016303450170286784), (851, 0.005289886871301063), (852, 0.014647287829630179), (853, 0.00933537464110427), (854, 0.001338332011596796), (855, 0.0030717275402444605), (856, 0.0014059278029448243), (857, 0.001740222041722321), (858, 0.015479468689500984), (859, 0.0), (860, 0.008970293265796422), (861, 0.005263147052550759), (862, 0.0033233258498674904), (863, 0.003567341627626225), (864, 0.005536406837173078), (865, 0.0015725211106448764), (866, 0.008260256255679957), (867, 0.0014942794284509265), (868, 0.0043599759964627685), (869, 0.005033693202999379), (870, 0.008957938859156835), (871, 0.0015472850854313972), (872, 0.0015928879926498953), (873, 0.07470331488326534), (874, 0.021236535207433335), (875, 0.009551574225279195), (876, 0.008503068476286993), (877, 0.0025131767002105915), (878, 0.009430806499655874), (879, 0.009692842162920424), (880, 0.004767745424137753), (881, 0.0), (882, 0.0), (883, 0.0015457752723962808), (884, 0.0014160055515531104), (885, 0.016881886655779756), (886, 0.001362934719364689), (887, 0.0015976792460381567), (888, 0.01330818042697851), (889, 0.0018700938485287934), (890, 0.0014536815964256752), (891, 0.003944836340400088), (892, 0.0), (893, 0.0024628221376604446), (894, 0.005659729412713458), (895, 0.0013568208535414382), (896, 0.009649780627183432), (897, 0.00155407819727902), (898, 0.0022741813673625706), (899, 0.0014161572168788058), (900, 0.004022170695715177), (901, 0.0015092531069943894), (902, 0.0028965800802309405), (903, 0.017407424907864445), (904, 0.033228366701960416), (905, 0.011535027178321345), (906, 0.0), (907, 0.0014051325912012558), (908, 0.004446355642127762), (909, 0.0), (910, 0.005149534517308934), (911, 0.0052008767565863406), (912, 0.0), (913, 0.0), (914, 0.0), (915, 0.0076708031125860155), (916, 0.007158697851791407), (917, 0.012183826925311492), (918, 0.008103189190442195), (919, 0.00306055300346338), (920, 0.0), (921, 0.001486807665076944), (922, 0.00158446346907516), (923, 0.004646757279055925), (924, 0.00134294424278922), (925, 0.001929185497806588), (926, 0.0), (927, 0.0032263145312861076), (928, 0.010647999373354939), (929, 0.0012047904615063696), (930, 0.005511851032471525), (931, 0.006904192957675281), (932, 0.0030846086791132977), (933, 0.0018656115278675859), (934, 0.0015854274036347154), (935, 0.0718636467524597), (936, 0.004166271310550099), (937, 0.00885030411199896), (938, 0.0), (939, 0.008262156395384634), (940, 0.0013343253279588323), (941, 0.0016933223292802885), (942, 0.008087975716722137), (943, 0.0), (944, 0.001343560263222284), (945, 0.0), (946, 0.0), (947, 0.01337910122303905), (948, 0.006597353717753299), (949, 0.0016839252183190258), (950, 0.0), (951, 0.0012591141330141992), (952, 0.00635449086885508), (953, 0.004030361020808816), (954, 0.0), (955, 0.0), (956, 0.0), (957, 0.001792445415626982), (958, 0.0), (959, 0.0017614546901870394), (960, 0.0), (961, 0.0), (962, 0.0016576853427959228), (963, 0.0037035790602423357), (964, 0.0), (965, 0.0), (966, 0.0012868547724215126), (967, 0.006659720302493389), (968, 0.004455259940921684), (969, 0.0017394007967820447), (970, 0.002247764433351941), (971, 0.0), (972, 0.0), (973, 0.0015714449446876761), (974, 0.0027178525870766514), (975, 0.0015883367570940611), (976, 0.007129598869997456), (977, 0.0), (978, 0.0), (979, 0.0023905561808433484), (980, 0.00440536218970335), (981, 0.004679010947124316), (982, 0.0), (983, 0.0), (984, 0.0016452799451677628), (985, 0.0019396722740268552), (986, 0.009596163630337348), (987, 0.0016091513515744948), (988, 0.009283492528145816), (989, 0.007892292016243915), (990, 0.0), (991, 0.006226699779570125), (992, 0.0031773905602969646), (993, 0.0015456563718290123), (994, 0.005962428033909589), (995, 0.0), (996, 0.005204820075933433), (997, 0.0026291237552483427), (998, 0.0015384390718835787), (999, 0.0015308484931307743), (1000, 0.007009584278666778), (1001, 0.004128058799808726), (1002, 0.0014372304639049221), (1003, 0.0027435856995330463), (1004, 0.0013706623749356955), (1005, 0.004901012890077074), (1006, 0.0014535766103032635), (1007, 0.0017937664923726884), (1008, 0.0), (1009, 0.0030860750486317308), (1010, 0.0), (1011, 0.0), (1012, 0.002670321340639349), (1013, 0.0), (1014, 0.0), (1015, 0.010138768504789647), (1016, 0.0), (1017, 0.00900279248857535), (1018, 0.00667039448474455), (1019, 0.004271243149115307), (1020, 0.0013137550105390525), (1021, 0.027993830696991875), (1022, 0.0), (1023, 0.002167216140995919), (1024, 0.023244140161681307), (1025, 0.0), (1026, 0.0015457651870742527), (1027, 0.0015286217437835258), (1028, 0.0), (1029, 0.0), (1030, 0.019573298020535174), (1031, 0.0), (1032, 0.001475658702220569), (1033, 0.001510788131266694), (1034, 0.0013405627165316142), (1035, 0.008426746489678264), (1036, 0.0016125951850360577), (1037, 0.0012043833817566069), (1038, 0.0), (1039, 0.0), (1040, 0.0012092159008407675), (1041, 0.004140837788748218), (1042, 0.0011849167150791455), (1043, 0.0017534488250336897), (1044, 0.003971667930019358), (1045, 0.0), (1046, 0.0), (1047, 0.008446637611802192), (1048, 0.0015912905022582701), (1049, 0.0017926336969011098), (1050, 0.004663268512433647), (1051, 0.0), (1052, 0.0015955299627835775), (1053, 0.006384822675537339), (1054, 0.007635947283640129), (1055, 0.0), (1056, 0.0), (1057, 0.01579012994554005), (1058, 0.010521466503074423), (1059, 0.018266057403033185), (1060, 0.01519353667158329), (1061, 0.007609957647952225), (1062, 0.0), (1063, 0.020135921438087078), (1064, 0.009874010111227885), (1065, 0.004010499614832002), (1066, 0.0), (1067, 0.0), (1068, 0.00600412692274776), (1069, 0.0), (1070, 0.20718202656978668), (1071, 0.006106169040361569), (1072, 0.001396119855477763), (1073, 0.0), (1074, 0.007261430299521135), (1075, 0.001572910873863821), (1076, 0.004259876686405491), (1077, 0.0012760397355312397), (1078, 0.004520598485212704), (1079, 0.0013235412023471815), (1080, 0.0015413346427756325), (1081, 0.0), (1082, 0.0026575636246388176), (1083, 0.003990000140601451), (1084, 0.0015121128493884542), (1085, 0.022573231058662383), (1086, 0.0), (1087, 0.0015274113420791328), (1088, 0.0020908665380069097), (1089, 0.0), (1090, 0.0), (1091, 0.0), (1092, 0.006435172884057405), (1093, 0.0), (1094, 0.0), (1095, 0.01353440384083277), (1096, 0.0016351644474675963), (1097, 0.0), (1098, 0.01353874389588252), (1099, 0.002926778675003199), (1100, 0.0018800082146913416), (1101, 0.0), (1102, 0.033672919410457615), (1103, 0.0), (1104, 0.007563829638461269), (1105, 0.0), (1106, 0.0), (1107, 0.00779355616262415), (1108, 0.0), (1109, 0.0018156512082565474), (1110, 0.001762865800700928), (1111, 0.0), (1112, 0.0016582874581708507), (1113, 0.0), (1114, 0.0014056358537574618), (1115, 0.015064320697449587), (1116, 0.004360214176041336), (1117, 0.0014698133037464882), (1118, 0.08639599722333738), (1119, 0.00871126603935448), (1120, 0.0026275971238788024), (1121, 0.00169567707798413), (1122, 0.0015770444049892957), (1123, 0.0037832520062414557), (1124, 0.0016348278613720828), (1125, 0.0), (1126, 0.0), (1127, 0.0029508909342933075), (1128, 0.004010002830236466), (1129, 0.002811947890281946), (1130, 0.0), (1131, 0.0015543278571069018), (1132, 0.0092127720450746), (1133, 0.0), (1134, 0.019718491060590385), (1135, 0.0), (1136, 0.00128834114515487), (1137, 0.020567682776895323), (1138, 0.005402917683912585), (1139, 0.0), (1140, 0.004581859365288857), (1141, 0.009720874580967648), (1142, 0.0), (1143, 0.0), (1144, 0.001337090112398419), (1145, 0.0024896127739877454), (1146, 0.015508687260854699), (1147, 0.0), (1148, 0.08505004569115207), (1149, 0.0), (1150, 0.002988853318490928), (1151, 0.0), (1152, 0.0), (1153, 0.0022543001872363114), (1154, 0.0030991496960210215), (1155, 0.0), (1156, 0.0), (1157, 0.0), (1158, 0.0031089947506630837), (1159, 0.0), (1160, 0.0055846397136408606), (1161, 0.001369209620645896), (1162, 0.007420971213614098), (1163, 0.0014977092505481008), (1164, 0.0018768476883546008), (1165, 0.0), (1166, 0.0), (1167, 0.003220273314596519), (1168, 0.0019720746525896107), (1169, 0.001754321381804804), (1170, 0.0015954804819180283), (1171, 0.0), (1172, 0.0), (1173, 0.006576967603372756), (1174, 0.00408816606842099), (1175, 0.001649351097446241), (1176, 0.00146681854104054), (1177, 0.003938409664111918), (1178, 0.0), (1179, 0.004504307612289486), (1180, 0.0), (1181, 0.014257263227315999), (1182, 0.0013273428292144866), (1183, 0.008713417856435129), (1184, 0.009072200416369853), (1185, 0.0067188621021782614), (1186, 0.014582800623148397), (1187, 0.0016921926823424021), (1188, 0.004771136824984275), (1189, 0.0), (1190, 0.0), (1191, 0.0047565003068294875), (1192, 0.005137301782576955), (1193, 0.0), (1194, 0.003294339337970806), (1195, 0.015094682303917384), (1196, 0.0), (1197, 0.0027521169018717147), (1198, 0.0), (1199, 0.0013746484793788923), (1200, 0.0), (1201, 0.0), (1202, 0.003312608459687904), (1203, 0.001447117733909911), (1204, 0.001681987942977808), (1205, 0.016188081253797008), (1206, 0.0015100217329311117), (1207, 0.002649435609672026), (1208, 0.002326465474075208), (1209, 0.0013665137670813992), (1210, 0.0027993328745524286), (1211, 0.0026269343894545936), (1212, 0.0), (1213, 0.004099718440454897), (1214, 0.003915826674588599), (1215, 0.003904124759553375), (1216, 0.0015050294233318155), (1217, 0.0012856951039102642), (1218, 0.0), (1219, 0.0016727803369749215), (1220, 0.004180688176098549), (1221, 0.0), (1222, 0.0), (1223, 0.004403783763404586), (1224, 0.010497664000450511), (1225, 0.004527279459410689), (1226, 0.006474884344810741), (1227, 0.0), (1228, 0.0), (1229, 0.005151649317026572), (1230, 0.006835628938276196), (1231, 0.004562857879581183), (1232, 0.008580858517177214), (1233, 0.0), (1234, 0.0061242600202184895), (1235, 0.0), (1236, 0.023075134998141355), (1237, 0.00921493382699919), (1238, 0.0), (1239, 0.0), (1240, 0.0), (1241, 0.012682180470386297), (1242, 0.0), (1243, 0.0017164035798931587), (1244, 0.0), (1245, 0.001446445032316093), (1246, 0.0), (1247, 0.0016347641708271325), (1248, 0.00941044190325642), (1249, 0.0), (1250, 0.0), (1251, 0.001740865917679372), (1252, 0.008864821208222958), (1253, 0.0), (1254, 0.0018189683853100903), (1255, 0.004820409347785635), (1256, 0.0), (1257, 0.022661648342696034), (1258, 0.0), (1259, 0.006732195261296668), (1260, 0.004577693080253611), (1261, 0.016373084932208716), (1262, 0.002693604639738057), (1263, 0.0), (1264, 0.007488680691140656), (1265, 0.0), (1266, 0.0027296574814091703), (1267, 0.0), (1268, 0.0), (1269, 0.0), (1270, 0.002804143352021522), (1271, 0.0), (1272, 0.0027687708200241114), (1273, 0.0013298848998903527), (1274, 0.0), (1275, 0.009317411881690964), (1276, 0.005434670418129652), (1277, 0.001063705863514425), (1278, 0.0), (1279, 0.003255189462304693), (1280, 0.0032275460373430236), (1281, 0.0026884480680449026), (1282, 0.004137388667186047), (1283, 0.014646347288523903), (1284, 0.0017262949136694831), (1285, 0.0), (1286, 0.001780457434095566), (1287, 0.0), (1288, 0.0), (1289, 0.0), (1290, 0.005525156906390333), (1291, 0.0), (1292, 0.007650939767689185), (1293, 0.0), (1294, 0.0015048330189660166), (1295, 0.0), (1296, 0.0), (1297, 0.0), (1298, 0.0014186829844257786), (1299, 0.0), (1300, 0.0064549714878167595), (1301, 0.0015822218847581693), (1302, 0.002924646708927906), (1303, 0.007634749004359079), (1304, 0.0015206724810038865), (1305, 0.0014143247586686789), (1306, 0.00154222561397595), (1307, 0.0), (1308, 0.001400803127118519), (1309, 0.0023431634244379038), (1310, 0.0), (1311, 0.08429104252014744), (1312, 0.0013583146306891207), (1313, 0.00145669515442702), (1314, 0.007565738533131451), (1315, 0.0), (1316, 0.0), (1317, 0.005906050927271306), (1318, 0.0016062336026223412), (1319, 0.0014530218152962898), (1320, 0.10556531608610391), (1321, 0.0), (1322, 0.0), (1323, 0.0), (1324, 0.001579761231043886), (1325, 0.011271921413622406), (1326, 0.0), (1327, 0.0), (1328, 0.0), (1329, 0.0), (1330, 0.004821177050545438), (1331, 0.0), (1332, 0.0032458844751990785), (1333, 0.0), (1334, 0.006263090948675597), (1335, 0.010481125446370714), (1336, 0.0), (1337, 0.00874993715936068), (1338, 0.005904381904897998), (1339, 0.006343067562084756), (1340, 0.001336655731784696), (1341, 0.0), (1342, 0.0), (1343, 0.008993559518096467), (1344, 0.004877214087852032), (1345, 0.0), (1346, 0.0), (1347, 0.0027437263693307484), (1348, 0.006127808153607202), (1349, 0.0016240284921851134), (1350, 0.001458364266979924), (1351, 0.020236402889839748), (1352, 0.0013760902300405272), (1353, 0.0), (1354, 0.0), (1355, 0.0013861681451602006), (1356, 0.0038987619183696205), (1357, 0.0018980239058051821), (1358, 0.014367342210327514), (1359, 0.0017287367619739902), (1360, 0.008646669937196977), (1361, 0.0), (1362, 0.07726479755573082), (1363, 0.08626605635286229), (1364, 0.0015436001392951813), (1365, 0.0015042407235320418), (1366, 0.002029672365820015), (1367, 0.001440484557434661), (1368, 0.0), (1369, 0.020452111650091476), (1370, 0.0014352328475855441), (1371, 0.008393933634550176), (1372, 0.0013895352922209969), (1373, 0.0), (1374, 0.0), (1375, 0.004234334618719381), (1376, 0.0), (1377, 0.006278308315319912), (1378, 0.0016094792417922156), (1379, 0.0), (1380, 0.0030096056652333197), (1381, 0.00322369826306539), (1382, 0.0015914652213959775), (1383, 0.02020497832458457), (1384, 0.0028829810467664013), (1385, 0.00853258787851605), (1386, 0.0), (1387, 0.006795568049609933), (1388, 0.008466262134313483), (1389, 0.0), (1390, 0.0), (1391, 0.0033327611161415244), (1392, 0.0014964197514502923), (1393, 0.004816677057588758), (1394, 0.001387303348483754), (1395, 0.0020551997629641348), (1396, 0.0030507183460336787), (1397, 0.012550286014267727), (1398, 0.019789228905031476), (1399, 0.0), (1400, 0.004408482564766233), (1401, 0.0), (1402, 0.001592387331805906), (1403, 0.0014692305471218623), (1404, 0.0016497672624843321), (1405, 0.0), (1406, 0.00675369940815266), (1407, 0.0029949202124196434), (1408, 0.0014307072015370351), (1409, 0.001635238623870456), (1410, 0.0017994199326528252), (1411, 0.0014703719874654046), (1412, 0.008422501442834204), (1413, 0.004524166420073251), (1414, 0.003512904910062561), (1415, 0.0012918930972662251), (1416, 0.0017435798709868357), (1417, 0.008600584065700785), (1418, 0.0), (1419, 0.007666397941242091), (1420, 0.0032858476811098497), (1421, 0.00400220080818645), (1422, 0.0013467206831844405), (1423, 0.001467670173243995), (1424, 0.0), (1425, 0.0), (1426, 0.003086556958776272), (1427, 0.0010558268091763678), (1428, 0.0029664564045044322), (1429, 0.0051812422493754205), (1430, 0.01703709610103006), (1431, 0.003028879060465123), (1432, 0.007366104200563054), (1433, 0.004209372367098945), (1434, 0.0013785730031733458), (1435, 0.0031583703010564556), (1436, 0.007753598055412541), (1437, 0.0), (1438, 0.006318562707824853), (1439, 0.0015466419126888282), (1440, 0.006118534109985943), (1441, 0.0), (1442, 0.009308721124524888), (1443, 0.003382816417873631), (1444, 0.0), (1445, 0.0), (1446, 0.0015197965587766269), (1447, 0.0), (1448, 0.0034964752444712616), (1449, 0.0029827960739526762), (1450, 0.001888377682987604), (1451, 0.002611801747769915), (1452, 0.003181149971577616), (1453, 0.0), (1454, 0.005076018963298911), (1455, 0.006766433147069204), (1456, 0.0017659609251157746), (1457, 0.0), (1458, 0.0027934094629791604), (1459, 0.0), (1460, 0.0), (1461, 0.0040178813522849305), (1462, 0.004059244618691189), (1463, 0.0014854660642079996), (1464, 0.0013895945422292798), (1465, 0.001315701820582766), (1466, 0.0), (1467, 0.0), (1468, 0.0), (1469, 0.003037820566646466), (1470, 0.0), (1471, 0.007348609563819161), (1472, 0.004979656711189705), (1473, 0.0), (1474, 0.0016270591253172604), (1475, 0.0015460183994489137), (1476, 0.0015691187807559993), (1477, 0.0015121224638423086), (1478, 0.009719762201605111), (1479, 0.0018080666716900925), (1480, 0.003073800280471148), (1481, 0.009138965443202494), (1482, 0.017005870234597934), (1483, 0.009498246421613874), (1484, 0.004948994511182309), (1485, 0.0), (1486, 0.0), (1487, 0.0), (1488, 0.004872192097384457), (1489, 0.005138655302295705), (1490, 0.0), (1491, 0.0), (1492, 0.0), (1493, 0.0024600615578581728), (1494, 0.0018083486355859727), (1495, 0.0), (1496, 0.0), (1497, 0.0015731849247259315), (1498, 0.005344316983826706), (1499, 0.01807854395816983), (1500, 0.0015154640866500465), (1501, 0.0), (1502, 0.0030849032050347834), (1503, 0.0017276460784558662), (1504, 0.0047623175194204635), (1505, 0.0), (1506, 0.008952101792930186), (1507, 0.005295776136471007), (1508, 0.0), (1509, 0.009336526689588079), (1510, 0.004909741237961746), (1511, 0.0), (1512, 0.0), (1513, 0.0054872507494460945), (1514, 0.001316432868327668), (1515, 0.0), (1516, 0.001564067737616032), (1517, 0.0), (1518, 0.0019752943172046916), (1519, 0.0038428036969854725), (1520, 0.0), (1521, 0.0), (1522, 0.0), (1523, 0.0), (1524, 0.0), (1525, 0.0), (1526, 0.0), (1527, 0.00625470235535432), (1528, 0.0014479480382178186), (1529, 0.0), (1530, 0.017360416413982893), (1531, 0.003276148810750139), (1532, 0.0), (1533, 0.001925762270634336), (1534, 0.0), (1535, 0.0), (1536, 0.0046367856733857135), (1537, 0.004467933278208473), (1538, 0.0011984082526659105), (1539, 0.0014269229338478438), (1540, 0.005452390705764933), (1541, 0.0), (1542, 0.008595754643384485), (1543, 0.0016004207517644731), (1544, 0.004731609467699894), (1545, 0.0), (1546, 0.0028770594695182103), (1547, 0.0017451249987694066), (1548, 0.0), (1549, 0.0), (1550, 0.0014841576435721917), (1551, 0.0027634297490839814), (1552, 0.0), (1553, 0.0015146371158106851), (1554, 0.0029004543622707622), (1555, 0.004351223978621545), (1556, 0.0), (1557, 0.0), (1558, 0.0013080114377990357), (1559, 0.0023836476225006483), (1560, 0.018589398186967393), (1561, 0.0), (1562, 0.0028200976916728485), (1563, 0.0), (1564, 0.0), (1565, 0.0014471217205643044), (1566, 0.0030871300525758937), (1567, 0.0049112578880046364), (1568, 0.0030909029815970645), (1569, 0.0), (1570, 0.0015197308824600982), (1571, 0.0015713349548502657), (1572, 0.014366103262279368), (1573, 0.0029327428630776613), (1574, 0.0013635784305499477), (1575, 0.00308447383165933), (1576, 0.00267218206743909), (1577, 0.0), (1578, 0.0), (1579, 0.0), (1580, 0.0017209522637587486), (1581, 0.0), (1582, 0.005877900642077361), (1583, 0.0), (1584, 0.0), (1585, 0.00419829176454995), (1586, 0.0), (1587, 0.0025996862902988296), (1588, 0.003263970799465477), (1589, 0.0), (1590, 0.002823815801532673), (1591, 0.007776447291188919), (1592, 0.0), (1593, 0.001956435721664841), (1594, 0.001977827184273623), (1595, 0.008102738285924206), (1596, 0.0), (1597, 0.0016496335310130198), (1598, 0.0015056527114638964), (1599, 0.0), (1600, 0.0), (1601, 0.0), (1602, 0.0), (1603, 0.0), (1604, 0.0), (1605, 0.0012913146206265699), (1606, 0.0), (1607, 0.0), (1608, 0.004373791090215061), (1609, 0.0), (1610, 0.0), (1611, 0.0), (1612, 0.0013615335060587197), (1613, 0.0), (1614, 0.0031353962014688585), (1615, 0.0), (1616, 0.0015959984799934156), (1617, 0.0016193866408828889), (1618, 0.0), (1619, 0.001773784101966906), (1620, 0.005326217429329306), (1621, 0.00844502347375818), (1622, 0.0027944134282767595), (1623, 0.002706764292823453), (1624, 0.0012783469451267155), (1625, 0.0015154578489907154), (1626, 0.0), (1627, 0.0035083718842603695), (1628, 0.0013646590037858597), (1629, 0.008462904869896442), (1630, 0.0027549052296959474), (1631, 0.0029439092227986005), (1632, 0.0029955317581686603), (1633, 0.002600077617307407), (1634, 0.017139352125179978), (1635, 0.0025180276679361907), (1636, 0.0), (1637, 0.0018387507456742202), (1638, 0.0), (1639, 0.0), (1640, 0.0), (1641, 0.0013625518998394593), (1642, 0.0013793671306373818), (1643, 0.004423275555665367), (1644, 0.0), (1645, 0.0014445310635581691), (1646, 0.0), (1647, 0.05675778122365038), (1648, 0.001337896996302929), (1649, 0.0), (1650, 0.001698080580805304), (1651, 0.0), (1652, 0.02178900802279291), (1653, 0.004149461800516353), (1654, 0.0), (1655, 0.001951479836506688), (1656, 0.0016048594625195482), (1657, 0.011398255243140004), (1658, 0.001575239748615191), (1659, 0.002859547286109411), (1660, 0.0016530953392068447), (1661, 0.0029345538016849297), (1662, 0.0029548521511665563), (1663, 0.0014483672637226924), (1664, 0.0), (1665, 0.007759803774974575), (1666, 0.0017879621112117934), (1667, 0.008055580738072032), (1668, 0.0), (1669, 0.0), (1670, 0.0013881322697937017), (1671, 0.007919417181380523), (1672, 0.0013467056060425143), (1673, 0.0), (1674, 0.004168767779459787), (1675, 0.01972339913717756), (1676, 0.0), (1677, 0.0013048063550052307), (1678, 0.008064075909230039), (1679, 0.0), (1680, 0.008209351696716424), (1681, 0.008515263409471709), (1682, 0.0016256597785299519), (1683, 0.001642029286278018), (1684, 0.0), (1685, 0.0014706235684563676), (1686, 0.0), (1687, 0.008798733921277191), (1688, 0.0015703623052025246), (1689, 0.0), (1690, 0.0013998336267567), (1691, 0.001510847832622261), (1692, 0.0), (1693, 0.0013153831641328467), (1694, 0.006513268309888044), (1695, 0.0), (1696, 0.0023753208518100077), (1697, 0.0), (1698, 0.0), (1699, 0.002166881812804296), (1700, 0.0), (1701, 0.0027161141010047427), (1702, 0.022509652205477855), (1703, 0.0014578654153657692), (1704, 0.0), (1705, 0.0044349442180291266), (1706, 0.0015149290785182296), (1707, 0.004290196668339917), (1708, 0.0013718781774895428), (1709, 0.0), (1710, 0.0016662674178159755), (1711, 0.0018703082473523734), (1712, 0.0016182700096423165), (1713, 0.020022348085673634), (1714, 0.0), (1715, 0.0), (1716, 0.010377567542872515), (1717, 0.0017053493011132427), (1718, 0.0), (1719, 0.0015925011850017599), (1720, 0.016920887238009857), (1721, 0.004004549466852403), (1722, 0.0015473420062226432), (1723, 0.0030235836636074015), (1724, 0.003070115010763409), (1725, 0.0), (1726, 0.0), (1727, 0.00616083057574192), (1728, 0.0), (1729, 0.0), (1730, 0.0013887538840611912), (1731, 0.0), (1732, 0.00270554127202958), (1733, 0.001657673557023758), (1734, 0.0), (1735, 0.004978980445294667), (1736, 0.0064795663735217664), (1737, 0.0), (1738, 0.004290637983922217), (1739, 0.008559344343305804), (1740, 0.009287778909324253), (1741, 0.0), (1742, 0.0013323773380555445), (1743, 0.0013842476586739916), (1744, 0.0013513126403799467), (1745, 0.0), (1746, 0.0), (1747, 0.0011834143518270582), (1748, 0.0016222009488073964), (1749, 0.016137561252964838), (1750, 0.0), (1751, 0.0), (1752, 0.01254368458132684), (1753, 0.002231907632907018), (1754, 0.006056812656257965), (1755, 0.0), (1756, 0.0), (1757, 0.01446494766814647), (1758, 0.0), (1759, 0.0014100394992189575), (1760, 0.004320631316300172), (1761, 0.0026420126181334854), (1762, 0.0014263336453089628), (1763, 0.015566859605622003), (1764, 0.0015857404134036618), (1765, 0.0015618780453620898), (1766, 0.0), (1767, 0.0), (1768, 0.001659618803438625), (1769, 0.0), (1770, 0.015629435236628585), (1771, 0.0), (1772, 0.0027536058928722827), (1773, 0.0027313921610818354), (1774, 0.006903220859330015), (1775, 0.0), (1776, 0.006600470342930741), (1777, 0.0), (1778, 0.0), (1779, 0.004525289687383435), (1780, 0.0016362835438338452), (1781, 0.005361971369569097), (1782, 0.0017810385396897148), (1783, 0.0), (1784, 0.0026516516674802084), (1785, 0.0), (1786, 0.0), (1787, 0.0), (1788, 0.003465523372802742), (1789, 0.0072606619551604246), (1790, 0.0), (1791, 0.0030147277197803755), (1792, 0.0015476511262281173), (1793, 0.0017624518741062797), (1794, 0.0), (1795, 0.0), (1796, 0.007082984833297352), (1797, 0.0035943763967806507), (1798, 0.0016906183824077793), (1799, 0.004149361513755085), (1800, 0.0), (1801, 0.001260854394471325), (1802, 0.0), (1803, 0.0), (1804, 0.0), (1805, 0.0019025953945459608), (1806, 0.005401286276432332), (1807, 0.0015493087577254973), (1808, 0.0015055218136730494), (1809, 0.026087166956002703), (1810, 0.0), (1811, 0.004329511667400146), (1812, 0.0033337200348503653), (1813, 0.0018712115408360882), (1814, 0.0014247487493144518), (1815, 0.008734151965637137), (1816, 0.004451285445001151), (1817, 0.003007221582758624), (1818, 0.0), (1819, 0.004230329084619702), (1820, 0.0), (1821, 0.08537599533992646), (1822, 0.001463477607289328), (1823, 0.0), (1824, 0.0), (1825, 0.0), (1826, 0.0013149150822160233), (1827, 0.0015778384194574573), (1828, 0.0016860314127842596), (1829, 0.0036873515091426067), (1830, 0.00140333450598378), (1831, 0.0013380789540512667), (1832, 0.007036480310785907), (1833, 0.0011491143471026271), (1834, 0.0), (1835, 0.0), (1836, 0.0), (1837, 0.01843348412228178), (1838, 0.002650190898041564), (1839, 0.0), (1840, 0.0028456163535122638), (1841, 0.0), (1842, 0.0), (1843, 0.0015492679176035173), (1844, 0.0), (1845, 0.003929369182128815), (1846, 0.002949176245248516), (1847, 0.004076040101659868), (1848, 0.0018407927597328007), (1849, 0.0), (1850, 0.0), (1851, 0.001631289694013706), (1852, 0.00260508343340986), (1853, 0.008078862907953807), (1854, 0.005208135317257985), (1855, 0.0), (1856, 0.0), (1857, 0.003103882975946113), (1858, 0.007026325424561971), (1859, 0.0030754078510368496), (1860, 0.0016463278185539433), (1861, 0.005201805272764733), (1862, 0.0015665578018193588), (1863, 0.0), (1864, 0.004662364338984296), (1865, 0.004815005336435448), (1866, 0.0048630054011555065), (1867, 0.0), (1868, 0.0), (1869, 0.0014470657784394565), (1870, 0.0), (1871, 0.001565870879155229), (1872, 0.001547543430095108), (1873, 0.003174745162552793), (1874, 0.0065401670698929), (1875, 0.00147656244708052), (1876, 0.005060260017864055), (1877, 0.0014086813865429352), (1878, 0.02259582303995419), (1879, 0.0), (1880, 0.0), (1881, 0.0027281949053875403), (1882, 0.0013220796586266021), (1883, 0.0), (1884, 0.001730784987689203), (1885, 0.017180226043981107), (1886, 0.03955947366641051), (1887, 0.0018167414262348438), (1888, 0.0), (1889, 0.0), (1890, 0.0017204876609813696), (1891, 0.0014171759550765607), (1892, 0.0038448822037637307), (1893, 0.0016018092698555336), (1894, 0.0), (1895, 0.0), (1896, 0.0015528483535494461), (1897, 0.004166012149322341), (1898, 0.0), (1899, 0.0), (1900, 0.0028543588174551964), (1901, 0.003181202426174811), (1902, 0.0043503582930524975), (1903, 0.0), (1904, 0.0027809906730879297), (1905, 0.001665984479452571), (1906, 0.0), (1907, 0.001605931233581245), (1908, 0.0), (1909, 0.001550683968731249), (1910, 0.002841470121806293), (1911, 0.0), (1912, 0.0), (1913, 0.0), (1914, 0.00263396224642894), (1915, 0.0), (1916, 0.0017354366145748105), (1917, 0.0), (1918, 0.004965934886318169), (1919, 0.001995712829038636), (1920, 0.0014119768243435636), (1921, 0.0013592816654750893), (1922, 0.005100344801005972), (1923, 0.006663292356358225), (1924, 0.004592948538726828), (1925, 0.0032432781346496777), (1926, 0.0), (1927, 0.0027981767588776264), (1928, 0.0), (1929, 0.0018973844881860727), (1930, 0.0029038168405543163), (1931, 0.004397866215449869), (1932, 0.0), (1933, 0.002951512313735912), (1934, 0.003354022918002682), (1935, 0.0), (1936, 0.0014583007215660082), (1937, 0.006443096643811274), (1938, 0.0), (1939, 0.003948091143928945), (1940, 0.003620198595887917), (1941, 0.0030797675037559937), (1942, 0.008682540537437736), (1943, 0.0013860432274497383), (1944, 0.0), (1945, 0.004026422864307223), (1946, 0.0018216072102379187), (1947, 0.001671365017461608), (1948, 0.0), (1949, 0.008273746549832105), (1950, 0.001387291518585651), (1951, 0.0016574550850404803), (1952, 0.0030140321161098373), (1953, 0.0028894462732246004), (1954, 0.0013730932640977351), (1955, 0.0), (1956, 0.0), (1957, 0.0), (1958, 0.006827062071314271), (1959, 0.0018057223949908597), (1960, 0.004023382729858593), (1961, 0.0), (1962, 0.0033940623581212278), (1963, 0.0), (1964, 0.0039203338011803614), (1965, 0.0), (1966, 0.0), (1967, 0.008569958078988062), (1968, 0.0055830227056299486), (1969, 0.001392915689136903), (1970, 0.022940695369980068), (1971, 0.005628557520296077), (1972, 0.0), (1973, 0.015325804321516052), (1974, 0.0), (1975, 0.003209726126010187), (1976, 0.018071627218349227), (1977, 0.049788693812149766), (1978, 0.0), (1979, 0.0), (1980, 0.0011164494949020376), (1981, 0.0041747567870183125), (1982, 0.10983090455662378), (1983, 0.010447071870315482), (1984, 0.0), (1985, 0.009357892697414834), (1986, 0.0041982399968552376), (1987, 0.004870389210006893), (1988, 0.0), (1989, 0.007206558424286037), (1990, 0.01665566875584088), (1991, 0.08645636379732094), (1992, 0.007114853025435232), (1993, 0.002891834228887388), (1994, 0.02169044676615499), (1995, 0.001646612488644622), (1996, 0.002998918208919693), (1997, 0.01015169409784331), (1998, 0.0029068351887216654), (1999, 0.014378579145446891), (2000, 0.0015800727904824556), (2001, 0.0), (2002, 0.0), (2003, 0.0), (2004, 0.0015092508730726788), (2005, 0.0), (2006, 0.0), (2007, 0.0), (2008, 0.003967974637719364), (2009, 0.0), (2010, 0.0010929181171667034), (2011, 0.0016051541913771794), (2012, 0.027563963645165907), (2013, 0.011952754091961691), (2014, 0.07817688263361004), (2015, 0.0027794582113051564), (2016, 0.006076176026394728), (2017, 0.0), (2018, 0.021456289095045378), (2019, 0.0), (2020, 0.011007050989861294), (2021, 0.0), (2022, 0.0), (2023, 0.013790786312065501), (2024, 0.008498683941214537), (2025, 0.0), (2026, 0.09022355579355816), (2027, 0.0015020803670734034), (2028, 0.0), (2029, 0.006596585591272824), (2030, 0.0), (2031, 0.00458968729529349), (2032, 0.0), (2033, 0.0), (2034, 0.001416915369319401), (2035, 0.0014658885672475665), (2036, 0.0), (2037, 0.011141528996417117), (2038, 0.0), (2039, 0.001569338791037611), (2040, 0.010090301095075244), (2041, 0.0), (2042, 0.0), (2043, 0.0), (2044, 0.0032274593631294204), (2045, 0.004292711600853207), (2046, 0.0), (2047, 0.00170074853885534), (2048, 0.014657285012481095), (2049, 0.0016720143966446415), (2050, 0.0), (2051, 0.0015148426496368844), (2052, 0.0), (2053, 0.010158090371919549), (2054, 0.0), (2055, 0.0056742133788795), (2056, 0.0), (2057, 0.006595402359750516), (2058, 0.0), (2059, 0.0), (2060, 0.0019297707291535788), (2061, 0.004842199998156986), (2062, 0.0028335243800194365), (2063, 0.0), (2064, 0.0), (2065, 0.005228922328404382), (2066, 0.007998781609715004), (2067, 0.0014060370409168254), (2068, 0.0015161514676948153), (2069, 0.004261201306490577), (2070, 0.008554975425058814), (2071, 0.0), (2072, 0.002052128026450529), (2073, 0.0016200620118134023), (2074, 0.0031199366000113173), (2075, 0.005797182267083501), (2076, 0.005059245118935706), (2077, 0.005562278248194756), (2078, 0.003009211093301992), (2079, 0.0), (2080, 0.005988606060442287), (2081, 0.0), (2082, 0.019701137148508234), (2083, 0.0015000212921506605), (2084, 0.0030568069487847283), (2085, 0.0), (2086, 0.0), (2087, 0.0013263604951138594), (2088, 0.0044417632268388295), (2089, 0.0048173594448634866), (2090, 0.0), (2091, 0.004054894522779868), (2092, 0.0), (2093, 0.005403714387915899), (2094, 0.003333080425357681), (2095, 0.0), (2096, 0.009632324931637518), (2097, 0.0072572423967638385), (2098, 0.0), (2099, 0.0016596850909653747), (2100, 0.01954909700270034), (2101, 0.0), (2102, 0.017780260941467594), (2103, 0.0014832527228598228), (2104, 0.004754498774833965), (2105, 0.0015690853422610667), (2106, 0.0), (2107, 0.0), (2108, 0.0016372991939103488), (2109, 0.03188547077401338), (2110, 0.006266221482297926), (2111, 0.001936551635439986), (2112, 0.03561156962623487), (2113, 0.0), (2114, 0.0), (2115, 0.0), (2116, 0.001604826933930308), (2117, 0.0015521989016761314), (2118, 0.0), (2119, 0.006909996129897838), (2120, 0.0), (2121, 0.004602635752702995), (2122, 0.07432852043802728), (2123, 0.09341330438820208), (2124, 0.0), (2125, 0.0), (2126, 0.007072694567930599), (2127, 0.0011758991448147433), (2128, 0.0), (2129, 0.001411686448835204), (2130, 0.003090044098240369), (2131, 0.0015410126892708438), (2132, 0.001446516262610459), (2133, 0.0016456840427512764), (2134, 0.001572054524751084), (2135, 0.0), (2136, 0.0031615510363288955), (2137, 0.002877378616080495), (2138, 0.0), (2139, 0.002551520964020905), (2140, 0.0), (2141, 0.0014845629479363883), (2142, 0.0016506693255532862), (2143, 0.0013564377614238986), (2144, 0.001636979621942081), (2145, 0.0), (2146, 0.001239931674439172), (2147, 0.08565199421673302), (2148, 0.001525026109274432), (2149, 0.0016149318783959645), (2150, 0.0), (2151, 0.001620151729052011), (2152, 0.0), (2153, 0.0), (2154, 0.00961335230600227), (2155, 0.0764282634108563), (2156, 0.0), (2157, 0.013687246295549401), (2158, 0.005227104147152614), (2159, 0.001595328333918233), (2160, 0.0), (2161, 0.0), (2162, 0.007345831736231033), (2163, 0.0014484698297273918), (2164, 0.0), (2165, 0.0), (2166, 0.001728436612451903), (2167, 0.0), (2168, 0.0), (2169, 0.0015563045521743834), (2170, 0.0), (2171, 0.0), (2172, 0.0), (2173, 0.015094224110444792), (2174, 0.007918147892150618), (2175, 0.0), (2176, 0.0014436305434125788), (2177, 0.0), (2178, 0.008119280219579864), (2179, 0.0), (2180, 0.0), (2181, 0.003220449925865092), (2182, 0.0), (2183, 0.0), (2184, 0.0035339037551915943), (2185, 0.0), (2186, 0.0), (2187, 0.09093667434770496), (2188, 0.007725290296200094), (2189, 0.002678268913255392), (2190, 0.0019039579831021615), (2191, 0.006337522456744614), (2192, 0.0013926560237511438), (2193, 0.0018968949795669303), (2194, 0.0), (2195, 0.0015928086503591437), (2196, 0.010760619187060429), (2197, 0.0029670842623893984), (2198, 0.016567067848471173), (2199, 0.0020950912451095393), (2200, 0.0), (2201, 0.0014221135351869078), (2202, 0.0), (2203, 0.0), (2204, 0.0), (2205, 0.0), (2206, 0.007011969285622013), (2207, 0.0), (2208, 0.003509392978929237), (2209, 0.001490448167564221), (2210, 0.021663789119752218), (2211, 0.001167724464989165), (2212, 0.024742061353262026), (2213, 0.0016054079772732299), (2214, 0.09313344153734773), (2215, 0.0), (2216, 0.008666871522322357), (2217, 0.0), (2218, 0.0), (2219, 0.0), (2220, 0.0), (2221, 0.0017598125178452583), (2222, 0.0), (2223, 0.0015470184322977244), (2224, 0.009075975100923207), (2225, 0.0), (2226, 0.002052512714096453), (2227, 0.0), (2228, 0.005649944083317282), (2229, 0.013839650679919494), (2230, 0.002112557093307709), (2231, 0.002995563400884214), (2232, 0.00271298351478004), (2233, 0.0), (2234, 0.0), (2235, 0.012666419445760675), (2236, 0.0021373017304837953), (2237, 0.002040484890511634), (2238, 0.0), (2239, 0.0), (2240, 0.0011089463777820897), (2241, 0.0), (2242, 0.0015928245411721657), (2243, 0.0), (2244, 0.0), (2245, 0.0029803813307368973), (2246, 0.0028131170129676985), (2247, 0.0), (2248, 0.0012879483752513423), (2249, 0.0), (2250, 0.008162713492744207), (2251, 0.0028217684064272565), (2252, 0.0031837884342219023), (2253, 0.0), (2254, 0.01047413958974052), (2255, 0.007377857576570708), (2256, 0.0), (2257, 0.002611708404527967), (2258, 0.0), (2259, 0.0), (2260, 0.0015249295680672605), (2261, 0.0), (2262, 0.0), (2263, 0.0), (2264, 0.005427206418414321), (2265, 0.0015403999114325109), (2266, 0.0028643868437079846), (2267, 0.0), (2268, 0.0014303635417678444), (2269, 0.002907399863518922), (2270, 0.0012691128834337211), (2271, 0.0), (2272, 0.0), (2273, 0.004807770410547185), (2274, 0.0), (2275, 0.012490976156105813), (2276, 0.016509048740171613), (2277, 0.0014247166076455933), (2278, 0.0027458403221118127), (2279, 0.004672373732501759), (2280, 0.007435511877367119), (2281, 0.0), (2282, 0.0), (2283, 0.002941160213576632), (2284, 0.01175832763844071), (2285, 0.0012876817130921968), (2286, 0.0020920670297573944), (2287, 0.0012498070415673953), (2288, 0.00214767539018173), (2289, 0.0020162263127318216), (2290, 0.0), (2291, 0.0), (2292, 0.0015578022561233966), (2293, 0.0021761740675104607), (2294, 0.013060488982779719), (2295, 0.04208992129386503), (2296, 0.0), (2297, 0.0), (2298, 0.0), (2299, 0.0035002895684709363), (2300, 0.0), (2301, 0.0015545110145780236), (2302, 0.0017326823020877965), (2303, 0.0016383459884511606), (2304, 0.005291143487097943), (2305, 0.0), (2306, 0.0018763402680843188), (2307, 0.0), (2308, 0.08029588565105363), (2309, 0.0014411859297925246), (2310, 0.0024785453420451894), (2311, 0.0), (2312, 0.0), (2313, 0.0015449416019044804), (2314, 0.0028878483212694673), (2315, 0.0), (2316, 0.024128526636000364), (2317, 0.002158241218880036), (2318, 0.03127997022548218), (2319, 0.001729836773931287), (2320, 0.0026201655040258994), (2321, 0.08858045595047095), (2322, 0.0), (2323, 0.0014131519986160873), (2324, 0.007756344850232646), (2325, 0.0), (2326, 0.0025912791695764962), (2327, 0.0), (2328, 0.004525274404688593), (2329, 0.0), (2330, 0.003130039431294165), (2331, 0.0), (2332, 0.0), (2333, 0.0), (2334, 0.008494474146229523), (2335, 0.0), (2336, 0.006609017065416472), (2337, 0.0), (2338, 0.0013786174656493753), (2339, 0.0), (2340, 0.0020230719349893867), (2341, 0.0), (2342, 0.0), (2343, 0.016530295944279072), (2344, 0.004845788619729676), (2345, 0.0), (2346, 0.010013454607475884), (2347, 0.0013301188700989702), (2348, 0.004789696460435671), (2349, 0.00259032016435549), (2350, 0.002394654248081475), (2351, 0.0), (2352, 0.0), (2353, 0.0), (2354, 0.0016273246724634175), (2355, 0.0037483788947033133), (2356, 0.001644170469848543), (2357, 0.0), (2358, 0.02738806973113988), (2359, 0.0015577789169274395), (2360, 0.0), (2361, 0.0015465716893021714), (2362, 0.0016620620898111726), (2363, 0.006990769284955981), (2364, 0.0), (2365, 0.020295915245452004), (2366, 0.0), (2367, 0.0015325167239468379), (2368, 0.0), (2369, 0.0), (2370, 0.001660486801016089), (2371, 0.02234320681615053), (2372, 0.0), (2373, 0.0), (2374, 0.00437600072859759), (2375, 0.09058532287644308), (2376, 0.0), (2377, 0.0), (2378, 0.001693667882059826), (2379, 0.0028805246647555676), (2380, 0.0), (2381, 0.0), (2382, 0.0013778550000045097), (2383, 0.012269894894847429), (2384, 0.0), (2385, 0.0019738722356981023), (2386, 0.0015233551347225832), (2387, 0.0016337678636578088), (2388, 0.006873473125162159), (2389, 0.0), (2390, 0.0015125723752121773), (2391, 0.0022556133525837067), (2392, 0.002645689373345737), (2393, 0.0016538374994444502), (2394, 0.020527318663969202), (2395, 0.0), (2396, 0.0015504119673450912), (2397, 0.001675129705200604), (2398, 0.0), (2399, 0.0015422915859709617), (2400, 0.0025790838914734313), (2401, 0.0021020329734693383), (2402, 0.0015782596111645051), (2403, 0.0015745630949616364), (2404, 0.0027590650554132614), (2405, 0.0015558733486096662), (2406, 0.014314825631025263), (2407, 0.002806851708705328), (2408, 0.014331427299901531), (2409, 0.0), (2410, 0.002312684943485113), (2411, 0.0017217662825348393), (2412, 0.008728653254155616), (2413, 0.01973571115817811), (2414, 0.0), (2415, 0.002445273060099391), (2416, 0.002576209918064595), (2417, 0.024457515255574155), (2418, 0.0017624321607338257), (2419, 0.0015753488956316106), (2420, 0.0), (2421, 0.003279699070525279), (2422, 0.001649846100115311), (2423, 0.0025574096222126157), (2424, 0.004473130363403938), (2425, 0.00263146795576162), (2426, 0.0), (2427, 0.007509056141700891), (2428, 0.005969299481148875), (2429, 0.007141170554687742), (2430, 0.0016422451460444808), (2431, 0.0), (2432, 0.002528930298915992), (2433, 0.0), (2434, 0.0025174886336036995), (2435, 0.0), (2436, 0.0021222271767713887), (2437, 0.0018385154758344179), (2438, 0.0019180852016857709), (2439, 0.0), (2440, 0.0051375885719393815), (2441, 0.0013628830253089846), (2442, 0.002898873263736672), (2443, 0.004503646574515652), (2444, 0.00633577985201387), (2445, 0.0), (2446, 0.0015141117968269645), (2447, 0.009139334758960772), (2448, 0.0026279935854039913), (2449, 0.023836295206449403), (2450, 0.0), (2451, 0.0), (2452, 0.0), (2453, 0.0018456549480813616), (2454, 0.002451599219463355), (2455, 0.0), (2456, 0.0), (2457, 0.0013612725295797008), (2458, 0.0), (2459, 0.007442640426911993), (2460, 0.0), (2461, 0.0013743313680016863), (2462, 0.0), (2463, 0.0015667956786697883), (2464, 0.007791913391912306), (2465, 0.0), (2466, 0.001475777114694796), (2467, 0.017500183206215554), (2468, 0.004741296487999455), (2469, 0.0010702327120322133), (2470, 0.0), (2471, 0.0), (2472, 0.0), (2473, 0.0015265734984717652), (2474, 0.0015447821630694331), (2475, 0.0020868113476734556), (2476, 0.02985330054483476), (2477, 0.005113542634437267), (2478, 0.0017537454571602451), (2479, 0.0), (2480, 0.0031124466346414037), (2481, 0.001447788443214064), (2482, 0.001324840716693934), (2483, 0.0), (2484, 0.003396723746994404), (2485, 0.0), (2486, 0.009986922309213546), (2487, 0.012537888734050772), (2488, 0.0029494156662133847), (2489, 0.005672804638669502), (2490, 0.0029137633159923982), (2491, 0.0), (2492, 0.0027950474706054996), (2493, 0.0), (2494, 0.002691889954621465), (2495, 0.002314262710495848), (2496, 0.0038891572524285224), (2497, 0.0), (2498, 0.0), (2499, 0.0), (2500, 0.0), (2501, 0.002940992733930133), (2502, 0.0017811572903869582), (2503, 0.0), (2504, 0.0), (2505, 0.0017045750470810316), (2506, 0.003830244614482482), (2507, 0.0014216721649433159), (2508, 0.0), (2509, 0.0014135358237512225), (2510, 0.0), (2511, 0.0), (2512, 0.00671818961453786), (2513, 0.0), (2514, 0.0), (2515, 0.0), (2516, 0.0), (2517, 0.01284333175195975), (2518, 0.0), (2519, 0.0070939101623612956), (2520, 0.0017163347596082733), (2521, 0.0), (2522, 0.009216408659952807), (2523, 0.0), (2524, 0.007363170219962852), (2525, 0.001426700908397217), (2526, 0.0015093011220565873), (2527, 0.0017761972464135367), (2528, 0.0016776983832054598), (2529, 0.002943519007256797), (2530, 0.03290587565143326), (2531, 0.0025016768276969765), (2532, 0.0), (2533, 0.0017499871653397375), (2534, 0.0014982153737566044), (2535, 0.001819201119854415), (2536, 0.0), (2537, 0.0025472801428743416), (2538, 0.0013328221631484568), (2539, 0.0), (2540, 0.08254324604155751), (2541, 0.002842252230755111), (2542, 0.0), (2543, 0.0), (2544, 0.0020157838883053747), (2545, 0.0015968140957361837), (2546, 0.006184288405700355), (2547, 0.0), (2548, 0.0), (2549, 0.0), (2550, 0.0029847740383668565), (2551, 0.0), (2552, 0.0016762180037240494), (2553, 0.0014240993376077996), (2554, 0.0017121167208070237), (2555, 0.008195340519421009), (2556, 0.001641975896211883), (2557, 0.0017798774099836454), (2558, 0.20974490824584702), (2559, 0.002526090378068096), (2560, 0.002950361269257011), (2561, 0.0025747272019251235), (2562, 0.0), (2563, 0.0018138939894308673), (2564, 0.0), (2565, 0.001595373242560621), (2566, 0.0), (2567, 0.0030656845408317283), (2568, 0.0014731950379024683), (2569, 0.002761940849604798), (2570, 0.002443110272778631), (2571, 0.0016447104760942246), (2572, 0.0015990224860401444), (2573, 0.002109471342172815), (2574, 0.0), (2575, 0.0), (2576, 0.00285461913059939), (2577, 0.0), (2578, 0.0), (2579, 0.02864928383756299), (2580, 0.004873929125837216), (2581, 0.007769664839641222), (2582, 0.0), (2583, 0.0), (2584, 0.0), (2585, 0.002368936312273376), (2586, 0.0), (2587, 0.0012931113179503078), (2588, 0.0), (2589, 0.0), (2590, 0.0), (2591, 0.0025963099192040347), (2592, 0.001849257904062118), (2593, 0.0016272295243799004), (2594, 0.0), (2595, 0.0016231993777353132), (2596, 0.0), (2597, 0.0), (2598, 0.0044254971894422904), (2599, 0.0028751862938856875), (2600, 0.0068741049620688255), (2601, 0.0025069495636796946), (2602, 0.008039187838429131), (2603, 0.0014666743571927136), (2604, 0.0), (2605, 0.0), (2606, 0.004350418072505562), (2607, 0.007812609435224683), (2608, 0.0), (2609, 0.0015767348048451493), (2610, 0.0015324049672874127), (2611, 0.0016571799070682306), (2612, 0.0015358093912099455), (2613, 0.0022507554640837863), (2614, 0.018284529572699236), (2615, 0.0), (2616, 0.0), (2617, 0.009240416210583243), (2618, 0.004065446825045163), (2619, 0.002728533388686656), (2620, 0.0), (2621, 0.006871215299412781), (2622, 0.002448584801061059), (2623, 0.0017598978242776794), (2624, 0.0024588539119689353), (2625, 0.008721399118114578), (2626, 0.0029233324561109657), (2627, 0.0), (2628, 0.002291191756854296), (2629, 0.001648126703339023), (2630, 0.02750693650337983), (2631, 0.0), (2632, 0.004478114381633753), (2633, 0.0025323248645824467), (2634, 0.0016659065276008994), (2635, 0.004943843688121581), (2636, 0.0027521916686232364), (2637, 0.0), (2638, 0.014439228892685015), (2639, 0.0), (2640, 0.0024003599752014247), (2641, 0.0), (2642, 0.0019113716515503161), (2643, 0.0026224456683586065), (2644, 0.0), (2645, 0.00964627723353741), (2646, 0.01744157301077365), (2647, 0.0044406691587212995), (2648, 0.0), (2649, 0.020186708580940113), (2650, 0.0016451771833683538), (2651, 0.0020765946370218005), (2652, 0.0024396232875339265), (2653, 0.0014163340284602199), (2654, 0.0), (2655, 0.007579234589655004), (2656, 0.0), (2657, 0.0), (2658, 0.0), (2659, 0.0), (2660, 0.0), (2661, 0.0013308371976222802), (2662, 0.0), (2663, 0.0), (2664, 0.0015281359676671449), (2665, 0.0), (2666, 0.0), (2667, 0.0), (2668, 0.010246636300787308), (2669, 0.0), (2670, 0.0), (2671, 0.0), (2672, 0.0), (2673, 0.0028334205294932233), (2674, 0.001635875307941879), (2675, 0.0), (2676, 0.0), (2677, 0.0), (2678, 0.0025106406607388124), (2679, 0.0015281610766459106), (2680, 0.0033372454857472514), (2681, 0.0), (2682, 0.0030077287525238612), (2683, 0.0036057396920766323), (2684, 0.0), (2685, 0.0), (2686, 0.0), (2687, 0.017861385719214428), (2688, 0.0), (2689, 0.004218691835501657), (2690, 0.0), (2691, 0.0), (2692, 1.0000000000000002), (2693, 0.0), (2694, 0.09732820346324406), (2695, 0.009236701253626902), (2696, 0.002407756739598054), (2697, 0.007167004650286819), (2698, 0.0015970919872367552), (2699, 0.015339705783579297), (2700, 0.004142649179232018), (2701, 0.0), (2702, 0.001644024807398993), (2703, 0.0), (2704, 0.0), (2705, 0.002198277376400009), (2706, 0.018156755152530544), (2707, 0.0023792359960954496), (2708, 0.0), (2709, 0.0), (2710, 0.023849516257765217), (2711, 0.00315184478805048), (2712, 0.00245297495374695), (2713, 0.01341889290680918), (2714, 0.004180479822129571), (2715, 0.0), (2716, 0.08679913345483281), (2717, 0.0), (2718, 0.01452350176576421), (2719, 0.0), (2720, 0.002390004459520744), (2721, 0.00158093208226595), (2722, 0.002678313526722182), (2723, 0.016745195147819105), (2724, 0.004261637635345313), (2725, 0.0017953961695275236), (2726, 0.0), (2727, 0.008874224923820341), (2728, 0.0014099341014085728), (2729, 0.0), (2730, 0.0), (2731, 0.0027248312498329903), (2732, 0.0), (2733, 0.0029386252015231574), (2734, 0.0), (2735, 0.001264774195883292), (2736, 0.0024157784256101044), (2737, 0.0), (2738, 0.00226768386331164), (2739, 0.008037091308417869), (2740, 0.0024796745426211983), (2741, 0.0015643386122715774), (2742, 0.007524392326219388), (2743, 0.0011788735842665973), (2744, 0.002616687040830403), (2745, 0.016334949391625), (2746, 0.0017236523522960292), (2747, 0.0015907425998579815), (2748, 0.002012111417984498), (2749, 0.0), (2750, 0.0), (2751, 0.01195756804336624), (2752, 0.005593370455806661), (2753, 0.0015940956585142262), (2754, 0.0), (2755, 0.0018911126166599385), (2756, 0.0), (2757, 0.0031070622242435585), (2758, 0.001596941227777573), (2759, 0.003857079900043194), (2760, 0.018935829742805797), (2761, 0.013878027917406357), (2762, 0.0), (2763, 0.0), (2764, 0.0028878987814934666), (2765, 0.0017335092168171296), (2766, 0.0015630981850661464), (2767, 0.011228066607573929), (2768, 0.015747837916739026), (2769, 0.00200889553103075), (2770, 0.0), (2771, 0.009025325461832009), (2772, 0.002391220565455164), (2773, 0.0), (2774, 0.0), (2775, 0.002538806325637171), (2776, 0.0014826535860103926), (2777, 0.014347971636168088), (2778, 0.00691280215386106), (2779, 0.001599475992391265), (2780, 0.007493970826172463), (2781, 0.0), (2782, 0.023003253636283288), (2783, 0.0016068134473635621), (2784, 0.008342492243290095), (2785, 0.0), (2786, 0.0017161224841645303), (2787, 0.0029302144446240177), (2788, 0.00797252540838195), (2789, 0.002681813319608224), (2790, 0.0031180483614687273), (2791, 0.006714996773876297), (2792, 0.0016252251538631172), (2793, 0.0), (2794, 0.0), (2795, 0.01437148572548378), (2796, 0.001835370500187251), (2797, 0.0018393307088274313), (2798, 0.0015358064150764006), (2799, 0.0), (2800, 0.0015277422407692191), (2801, 0.002132393814580416), (2802, 0.021378390729839422), (2803, 0.004170000110955227), (2804, 0.0), (2805, 0.0), (2806, 0.0), (2807, 0.0), (2808, 0.008628986320162778), (2809, 0.00480220063303105), (2810, 0.0), (2811, 0.0), (2812, 0.0014256655399945437), (2813, 0.0), (2814, 0.0), (2815, 0.01440544286192736), (2816, 0.0), (2817, 0.0), (2818, 0.0), (2819, 0.003166807373838064), (2820, 0.0024377557397490487), (2821, 0.0021707285208870625), (2822, 0.014368348090647394), (2823, 0.0), (2824, 0.0), (2825, 0.004534782848196752), (2826, 0.0013905389596132055), (2827, 0.0), (2828, 0.0), (2829, 0.0), (2830, 0.001753714468022376), (2831, 0.002385320557182329), (2832, 0.0023591802339037187), (2833, 0.004701081196002707), (2834, 0.0029699898761708014), (2835, 0.0), (2836, 0.0), (2837, 0.0), (2838, 0.003038980362193967), (2839, 0.0), (2840, 0.008010236475913838), (2841, 0.0015877574072005096), (2842, 0.0), (2843, 0.0), (2844, 0.0016737104922720837), (2845, 0.0020393559383548683), (2846, 0.10076557714917393), (2847, 0.002824422539560621), (2848, 0.0018465172602970363), (2849, 0.008203602260699659), (2850, 0.0), (2851, 0.0), (2852, 0.0), (2853, 0.0018835558322925835), (2854, 0.008116053412592446), (2855, 0.0), (2856, 0.0), (2857, 0.0026702394413457343), (2858, 0.0028780369307589812), (2859, 0.0703332613312703), (2860, 0.0), (2861, 0.00254534739066593), (2862, 0.0014964312518094202), (2863, 0.0015398965089401446), (2864, 0.0), (2865, 0.0), (2866, 0.0), (2867, 0.0), (2868, 0.022548945786125957), (2869, 0.0), (2870, 0.0027470731663259995), (2871, 0.006312303177234439), (2872, 0.0023373677293988485), (2873, 0.0), (2874, 0.005005932905120799), (2875, 0.0), (2876, 0.0015147448169508637), (2877, 0.0), (2878, 0.0017345864360045055), (2879, 0.006461307743608461), (2880, 0.0), (2881, 0.004931259451999039), (2882, 0.0024158474639871855), (2883, 0.0025052132974265123), (2884, 0.002059050525999828), (2885, 0.010386281913361333), (2886, 0.006008210413820426), (2887, 0.0170209491299162), (2888, 0.0014473737505622162), (2889, 0.0027947731396266843), (2890, 0.0021239334620189658), (2891, 0.0), (2892, 0.0027401799689733396), (2893, 0.02326461396800582), (2894, 0.0016546700258423682), (2895, 0.0018060312532920274), (2896, 0.0), (2897, 0.004711273605345295), (2898, 0.0), (2899, 0.004485268525217199), (2900, 0.0018141254521293615), (2901, 0.0026061700118574344), (2902, 0.001423975608431255), (2903, 0.25470281295271086), (2904, 0.0018053446933491573), (2905, 0.0), (2906, 0.0), (2907, 0.0020564225332119503), (2908, 0.020700286112063194), (2909, 0.0016571972255819136), (2910, 0.00975859026257448), (2911, 0.0016717037805468492), (2912, 0.016126459972166114), (2913, 0.012026447541491783), (2914, 0.001999180023739097), (2915, 0.0014079449193861344), (2916, 0.002273451101209039), (2917, 0.0038790303076492788), (2918, 0.007777881073151154), (2919, 0.009149232858598338), (2920, 0.019750729177999894), (2921, 0.0), (2922, 0.0), (2923, 0.002484528021671096), (2924, 0.001808937073303636), (2925, 0.00976417511077646), (2926, 0.0016053757981073016), (2927, 0.0), (2928, 0.0), (2929, 0.002866360245731331), (2930, 0.0), (2931, 0.0014210272101568798), (2932, 0.015122824312479997), (2933, 0.0013828572599225136), (2934, 0.005626833203689133), (2935, 0.0), (2936, 0.0015731346730319274), (2937, 0.0026714049573019994), (2938, 0.0), (2939, 0.010198377046628404), (2940, 0.0017526462716251502), (2941, 0.0), (2942, 0.0015033318312208976), (2943, 0.0014871757522286581), (2944, 0.018069713488393885), (2945, 0.0016613649477151603), (2946, 0.0016963597111700603), (2947, 0.004069822540523855), (2948, 0.006358007395238048), (2949, 0.009139957347931521), (2950, 0.013863315648810007), (2951, 0.0), (2952, 0.0), (2953, 0.0017611660155395308), (2954, 0.0015263922091326837), (2955, 0.0), (2956, 0.0), (2957, 0.00283474654794346), (2958, 0.0), (2959, 0.003155689378084618), (2960, 0.002951692550152822), (2961, 0.007945252926010135), (2962, 0.003658576632267529), (2963, 0.00820773591845526), (2964, 0.001677575871473512), (2965, 0.001611137443333032), (2966, 0.00231492431708068), (2967, 0.0), (2968, 0.0), (2969, 0.0016972665604069847), (2970, 0.0016996843227948667), (2971, 0.029538344553522822), (2972, 0.017381968789453073), (2973, 0.0), (2974, 0.0018301315361361845), (2975, 0.001836455158912812), (2976, 0.0014539973024486174), (2977, 0.0017260838706186176), (2978, 0.008628820905632419), (2979, 0.0), (2980, 0.0016337330996105798), (2981, 0.01859458657355013), (2982, 0.0), (2983, 0.0), (2984, 0.0028501088662003745), (2985, 0.14531748046018916), (2986, 0.002198899383580142), (2987, 0.001631222629382846), (2988, 0.004639369485329659), (2989, 0.002829351829919558), (2990, 0.0), (2991, 0.0026509695444398174), (2992, 0.0028122324072016903), (2993, 0.0023375174353297756), (2994, 0.004948582761755166), (2995, 0.001619327188521424), (2996, 0.01031781332811241), (2997, 0.0015701480688916365), (2998, 0.003043995364219719), (2999, 0.001389665383455447), (3000, 0.0017308407541773397), (3001, 0.0), (3002, 0.0), (3003, 0.0018938622713904072), (3004, 0.027835893403313036), (3005, 0.0030651906854666697), (3006, 0.0), (3007, 0.0019022118807364096), (3008, 0.0), (3009, 0.0), (3010, 0.03801377991024867), (3011, 0.003014086096589596), (3012, 0.011329019403898664), (3013, 0.0019306036179049934), (3014, 0.0015752600581034023), (3015, 0.002387254732102451), (3016, 0.00153653146376194), (3017, 0.019271445040610475), (3018, 0.008542016741869548), (3019, 0.01244007081260729), (3020, 0.002148945159326414), (3021, 0.0), (3022, 0.004649562958942616), (3023, 0.024587022532912613), (3024, 0.001421430777794807), (3025, 0.0), (3026, 0.0015089749112863586), (3027, 0.0019926781471732227), (3028, 0.015518207387866835), (3029, 0.0), (3030, 0.0027507905587082107), (3031, 0.0017517441461597763), (3032, 0.004714500322519504), (3033, 0.0), (3034, 0.0), (3035, 0.005438907574553547), (3036, 0.001924577471074102), (3037, 0.0021433883521860824), (3038, 0.0), (3039, 0.0), (3040, 0.0028348916560041308), (3041, 0.0), (3042, 0.002536688957956985), (3043, 0.01183046137885692), (3044, 0.00183681136784897), (3045, 0.007290212119892136), (3046, 0.0015816587183367227), (3047, 0.0), (3048, 0.0), (3049, 0.004578472499403344), (3050, 0.0013724487727365038), (3051, 0.002895546856832276), (3052, 0.002772593335678518), (3053, 0.06006069004261332), (3054, 0.0), (3055, 0.0025180849845550593), (3056, 0.0015741659743246587), (3057, 0.0019353114817936003), (3058, 0.0), (3059, 0.0), (3060, 0.0), (3061, 0.0), (3062, 0.002250626798633546), (3063, 0.0), (3064, 0.0016274090622666725), (3065, 0.003757833039862), (3066, 0.0), (3067, 0.0020526608458369074), (3068, 0.014679669612368208), (3069, 0.0016881161967476751), (3070, 0.007093092668419931), (3071, 0.0014907663466713432), (3072, 0.0018521787630858713), (3073, 0.0), (3074, 0.002236098856038712), (3075, 0.0015096275653754994), (3076, 0.010774777559112738), (3077, 0.0), (3078, 0.0), (3079, 0.0024085903955321773), (3080, 0.0), (3081, 0.002116980713734843), (3082, 0.0), (3083, 0.015088296065079096), (3084, 0.001411055383930683), (3085, 0.007211957896111086), (3086, 0.011723833051637104), (3087, 0.0), (3088, 0.0), (3089, 0.0), (3090, 0.0), (3091, 0.02168358464485535), (3092, 0.0), (3093, 0.0014736737893365588), (3094, 0.0015687958652522117), (3095, 0.0078085054826372725), (3096, 0.001255507445986902), (3097, 0.01833077083765658), (3098, 0.0), (3099, 0.005690894989921381), (3100, 0.002438120503695803), (3101, 0.002612844830028044), (3102, 0.0), (3103, 0.0), (3104, 0.0), (3105, 0.0), (3106, 0.0), (3107, 0.0), (3108, 0.00479940147593737), (3109, 0.0), (3110, 0.011597878004973878), (3111, 0.0016216054783946524), (3112, 0.004456560683358519), (3113, 0.0013627981303390574), (3114, 0.0), (3115, 0.0), (3116, 0.0028675251897851053), (3117, 0.004255915134717845), (3118, 0.007379027603514458), (3119, 0.010577749789629734), (3120, 0.005996898638463632), (3121, 0.0), (3122, 0.004412665796704829), (3123, 0.006526785391930624), (3124, 0.0031107517931479502), (3125, 0.005172762749656153), (3126, 0.002900041222828913), (3127, 0.005630411992672033), (3128, 0.0023493037941367477), (3129, 0.002713930494240417), (3130, 0.0), (3131, 0.0030662865140134395), (3132, 0.0), (3133, 0.0027118843519097747), (3134, 0.0025881735600006266), (3135, 0.0023478273847742427), (3136, 0.002853005832934655), (3137, 0.0957934979902875), (3138, 0.0), (3139, 0.0026886793939314944), (3140, 0.0028978559207661018), (3141, 0.0), (3142, 0.011985018587535472), (3143, 0.003393593131338802), (3144, 0.0), (3145, 0.0), (3146, 0.018532960928840145), (3147, 0.0014797684397701968), (3148, 0.0015926890946391737), (3149, 0.005091539548358802), (3150, 0.0014159637674511791), (3151, 0.0019373293208818628), (3152, 0.0012691072592218879), (3153, 0.004323045262986558), (3154, 0.025496325095154204), (3155, 0.0065495508922743546), (3156, 0.015828840486052084), (3157, 0.0024617025892354426), (3158, 0.003143848231977362), (3159, 0.002617323518946963), (3160, 0.0023782555210313835), (3161, 0.0030342767197511942), (3162, 0.0), (3163, 0.0029606935102846313), (3164, 0.0), (3165, 0.002330933674104181), (3166, 0.002947005662462428), (3167, 0.015809947362616435), (3168, 0.004621242621278518), (3169, 0.0), (3170, 0.0014360276498972008), (3171, 0.005574023550552629), (3172, 0.0), (3173, 0.0014746075874129216), (3174, 0.01683096492316199), (3175, 0.0), (3176, 0.0), (3177, 0.0), (3178, 0.0032088024136151146), (3179, 0.002925161524142534), (3180, 0.003057559620369882), (3181, 0.0), (3182, 0.0016895356227240393), (3183, 0.00230688685470082), (3184, 0.0017201871448861898), (3185, 0.005594661465569302), (3186, 0.0016160885381036347), (3187, 0.0016174397842372346), (3188, 0.0), (3189, 0.0), (3190, 0.0), (3191, 0.0028368325199142506), (3192, 0.005274793540159897), (3193, 0.0), (3194, 0.0014230537147562603), (3195, 0.004039410501738584), (3196, 0.004756111841025827), (3197, 0.0), (3198, 0.002143758575076384), (3199, 0.0014730161165339634), (3200, 0.0013291373770548168), (3201, 0.0), (3202, 0.0), (3203, 0.03804263898363753), (3204, 0.0), (3205, 0.0), (3206, 0.002471310067158393), (3207, 0.0), (3208, 0.0), (3209, 0.0), (3210, 0.009047307695051203), (3211, 0.0014622323909992633), (3212, 0.0), (3213, 0.003137409262385781), (3214, 0.0019272072502714592), (3215, 0.002596931448693552), (3216, 0.0016273224228105852), (3217, 0.0), (3218, 0.002560495975159846), (3219, 0.0027532013889705657), (3220, 0.002555714470904497), (3221, 0.0), (3222, 0.0), (3223, 0.0), (3224, 0.001379597278824295), (3225, 0.0016766350079593876), (3226, 0.0014737030163238542), (3227, 0.0081254652333702), (3228, 0.007834206556879835), (3229, 0.0), (3230, 0.001773527188530074), (3231, 0.0), (3232, 0.007010042257490703), (3233, 0.0041981474409072805), (3234, 0.0028547550956105915), (3235, 0.0024424729904202083), (3236, 0.0), (3237, 0.001617188742493585), (3238, 0.0014404363399431856), (3239, 0.0021849326258341433), (3240, 0.004804500480716317), (3241, 0.002264107092478141), (3242, 0.0023180442562224074), (3243, 0.0015086376279062933), (3244, 0.0), (3245, 0.004251384132278434), (3246, 0.0015388836520069823), (3247, 0.0022106070963064588), (3248, 0.05318254212977117), (3249, 0.0913166780315885), (3250, 0.0), (3251, 0.0), (3252, 0.0018346140508866391), (3253, 0.0), (3254, 0.01412061043791499), (3255, 0.027047183818233768), (3256, 0.0), (3257, 0.0019372470150154978), (3258, 0.002208021258266366), (3259, 0.004796013830792624), (3260, 0.016617889272282988), (3261, 0.0), (3262, 0.0026116631218202893), (3263, 0.0029015727233296044), (3264, 0.0023337216274863194), (3265, 0.0), (3266, 0.0), (3267, 0.009374581110967483), (3268, 0.001416916755475784), (3269, 0.0022256183555313187), (3270, 0.0), (3271, 0.001711262888894139), (3272, 0.0), (3273, 0.002098267156048137), (3274, 0.0022878850339495857), (3275, 0.01614368232648728), (3276, 0.09509424960806385), (3277, 0.0), (3278, 0.0014465285827348678), (3279, 0.0025178489627753647), (3280, 0.06941565434594699), (3281, 0.0), (3282, 0.002680088387844486), (3283, 0.0023434010718824494), (3284, 0.008148426225758176), (3285, 0.001353518166400792), (3286, 0.0), (3287, 0.0), (3288, 0.0), (3289, 0.0018030424599384948), (3290, 0.001559434055479012), (3291, 0.0025660445860078724), (3292, 0.002072441210747711), (3293, 0.007888140475511961), (3294, 0.0), (3295, 0.0), (3296, 0.0023094965223257238), (3297, 0.014465264846871488), (3298, 0.0016787050282839008), (3299, 0.0021477214767501897), (3300, 0.0013310086517884518), (3301, 0.0009040734563906437), (3302, 0.0023504245927969004), (3303, 0.006118953695522033), (3304, 0.0012937532192205158), (3305, 0.0), (3306, 0.01698385153416771), (3307, 0.001932967821289889), (3308, 0.001912167810054255), (3309, 0.0), (3310, 0.0), (3311, 0.0014527705474300032), (3312, 0.012177902497274106), (3313, 0.0015561027806072804), (3314, 0.002023643812515922), (3315, 0.022579635219003125), (3316, 0.002434028701349879), (3317, 0.007676260589074718), (3318, 0.007845249406044117), (3319, 0.012640378631680162), (3320, 0.0), (3321, 0.0), (3322, 0.0026133784203871287), (3323, 0.0), (3324, 0.0), (3325, 0.01507484973706271), (3326, 0.018200738381062932), (3327, 0.0013842013164716558), (3328, 0.01685292978278345), (3329, 0.0016174042755009352), (3330, 0.02229259216975718), (3331, 0.004557026062460099), (3332, 0.0), (3333, 0.0), (3334, 0.03354501807626984), (3335, 0.0015709451502982047), (3336, 0.001659050952684369), (3337, 0.001618785743177929), (3338, 0.0027517421668325683), (3339, 0.004057349851643248), (3340, 0.0), (3341, 0.0016945933693838595), (3342, 0.004350266533338398), (3343, 0.0), (3344, 0.005232920123540988), (3345, 0.0), (3346, 0.001491416069794712), (3347, 0.0014191311649989036), (3348, 0.0016791048219090582), (3349, 0.005930231542793821), (3350, 0.0), (3351, 0.0996337808238145), (3352, 0.001588634258425766), (3353, 0.0024910245901052824), (3354, 0.00238686024500716), (3355, 0.0016755072278860806), (3356, 0.0), (3357, 0.002638448700856716), (3358, 0.0017587722032541082), (3359, 0.0022259984631115017), (3360, 0.11513426621824431), (3361, 0.002543831481224884), (3362, 0.012522148761692962), (3363, 0.0027230376670610494), (3364, 0.0028547662535514987), (3365, 0.001148622999960004), (3366, 0.0), (3367, 0.002808965402132408), (3368, 0.0), (3369, 0.0015898196953621508), (3370, 0.010530707109196569), (3371, 0.0), (3372, 0.0015159584646487032), (3373, 0.018298101727809546), (3374, 0.011887222079370931), (3375, 0.0), (3376, 0.0014622964636641811), (3377, 0.012998421607758208), (3378, 0.0), (3379, 0.0013287905937160224), (3380, 0.0017308332656987876), (3381, 0.0013531844191064374), (3382, 0.008866101751505658), (3383, 0.0), (3384, 0.009588623958942475), (3385, 0.038290353131254264), (3386, 0.0018157222422563765), (3387, 0.003303298488403997), (3388, 0.001674834838595692), (3389, 0.0016378609322874934), (3390, 0.00168393246300833), (3391, 0.0045489164025191604), (3392, 0.0012977658356437246), (3393, 0.0014852808650377394), (3394, 0.0), (3395, 0.021180695547689612), (3396, 0.0023416004082896244), (3397, 0.0), (3398, 0.0029391989584275943), (3399, 0.0015954902272133742), (3400, 0.0), (3401, 0.0), (3402, 0.0015101807018952048), (3403, 0.007526748883336622), (3404, 0.003054860276361364), (3405, 0.002448127090898565), (3406, 0.0017289324317089013), (3407, 0.005732651777214354), (3408, 0.03688969051849976), (3409, 0.022175121260776715), (3410, 0.0016154468018750585), (3411, 0.0), (3412, 0.0016903985645226388), (3413, 0.0017127972861410992), (3414, 0.0023015297295170614), (3415, 0.0), (3416, 0.006127009631774029), (3417, 0.0016512370683045515), (3418, 0.00536259009784661), (3419, 0.0015336998554801625), (3420, 0.0), (3421, 0.0012015515457714158), (3422, 0.0), (3423, 0.0018419694400403856), (3424, 0.0), (3425, 0.0024197168568321184), (3426, 0.002832553186676133), (3427, 0.03146001585173968), (3428, 0.02697678325171685), (3429, 0.0023497510762165194), (3430, 0.012562276073701528), (3431, 0.0012538909230971407), (3432, 0.0026753070403314036), (3433, 0.004214396591929945), (3434, 0.0017105463009067542), (3435, 0.004263736231223092), (3436, 0.004236289998744042), (3437, 0.00884362403905805), (3438, 0.0035719600947613723), (3439, 0.0), (3440, 0.0031575344251552227), (3441, 0.0012540732793466622), (3442, 0.0), (3443, 0.002987152258579232), (3444, 0.0), (3445, 0.0015519460071560544), (3446, 0.0028916722114209906), (3447, 0.0016732805465389424), (3448, 0.0044330206176947376), (3449, 0.0018555829050255254), (3450, 0.04053168411463574), (3451, 0.0027038633851174582), (3452, 0.0036487801092766137), (3453, 0.009985513221576111), (3454, 0.0), (3455, 0.0012092137230406625), (3456, 0.0029311270983902052), (3457, 0.0), (3458, 0.0018668198174524048), (3459, 0.0), (3460, 0.004386183851843351), (3461, 0.0), (3462, 0.023432087378764756), (3463, 0.01485853677109725), (3464, 0.004651282219580786), (3465, 0.11165330562748672), (3466, 0.014220822644073166), (3467, 0.0), (3468, 0.0028807542861450704), (3469, 0.0), (3470, 0.020800247117184437), (3471, 0.003235868334005981), (3472, 0.0), (3473, 0.0), (3474, 0.00472773886546446), (3475, 0.0), (3476, 0.0), (3477, 0.002244354026055395), (3478, 0.0014778950941279805), (3479, 0.002480654970833406), (3480, 0.02258300082149991), (3481, 0.0), (3482, 0.0), (3483, 0.009250529245333794), (3484, 0.0024843921941961203), (3485, 0.0), (3486, 0.0814618142448723), (3487, 0.00449016398365179), (3488, 0.01697861420127668), (3489, 0.0), (3490, 0.0), (3491, 0.0015047972443255956), (3492, 0.0015304323781260161), (3493, 0.0014491055444567687), (3494, 0.0), (3495, 0.002687500207060515), (3496, 0.0016212340422895914), (3497, 0.0020775330604843392), (3498, 0.004218296353864218), (3499, 0.004121982760875468), (3500, 0.0015030738587859893), (3501, 0.004508565537910301), (3502, 0.004905828000321939), (3503, 0.0017446483752716886), (3504, 0.009215826213291221), (3505, 0.0), (3506, 0.002899971369045219), (3507, 0.007150298414854574), (3508, 0.004058081158068943), (3509, 0.0), (3510, 0.0), (3511, 0.023583942814045838), (3512, 0.0031132000418336255), (3513, 0.003864049228389426), (3514, 0.004777501260458096), (3515, 0.0), (3516, 0.005555977501990805), (3517, 0.0016066320217799233), (3518, 0.0756438704078793), (3519, 0.0), (3520, 0.0025311797128221973), (3521, 0.006566051005364468), (3522, 0.0), (3523, 0.002899250484879596), (3524, 0.0018502842950435072), (3525, 0.0), (3526, 0.0019095835202662674), (3527, 0.002098202779246033), (3528, 0.0), (3529, 0.0), (3530, 0.0), (3531, 0.004295296758097685), (3532, 0.0), (3533, 0.0), (3534, 0.004734407651201231), (3535, 0.007523261265080729), (3536, 0.0015214151921997343), (3537, 0.002957986981883283), (3538, 0.0013745951416667696), (3539, 0.0), (3540, 0.0016132163359816915), (3541, 0.001502640177703047), (3542, 0.0014745276124505352), (3543, 0.0), (3544, 0.002168662837172883), (3545, 0.0), (3546, 0.001055070162241397), (3547, 0.0), (3548, 0.0012815634483767874), (3549, 0.0), (3550, 0.0), (3551, 0.001659499378178413), (3552, 0.03081354763620789), (3553, 0.013085107911837802), (3554, 0.0), (3555, 0.0029559997458472745), (3556, 0.005109418289168053), (3557, 0.0016008021999711327), (3558, 0.0015349413308960794), (3559, 0.023577924467419985), (3560, 0.001721547655708723), (3561, 0.0027595067471036295), (3562, 0.0), (3563, 0.0), (3564, 0.0015766175373969342), (3565, 0.0017513248884476222), (3566, 0.0), (3567, 0.0), (3568, 0.0), (3569, 0.0015798487382334893), (3570, 0.004144003010504704), (3571, 0.004312201074423138), (3572, 0.023623117591600126), (3573, 0.012545083184619756), (3574, 0.016684303103247044), (3575, 0.0012484071155634885), (3576, 0.0028762811477813536), (3577, 0.0031850531376710306), (3578, 0.0), (3579, 0.0021878822723500257), (3580, 0.0), (3581, 0.0), (3582, 0.006519893151750334), (3583, 0.0026853484243217615), (3584, 0.0030783451584788448), (3585, 0.0), (3586, 0.004599799178162685), (3587, 0.0017318389340097962), (3588, 0.004959344136363535), (3589, 0.0), (3590, 0.0019277778445715823), (3591, 0.0), (3592, 0.0), (3593, 0.0015484161597519007), (3594, 0.0), (3595, 0.0), (3596, 0.0016241452883956234), (3597, 0.0139011556322327), (3598, 0.0), (3599, 0.0015957132057410632), (3600, 0.0), (3601, 0.0024640055713519636), (3602, 0.0024959166972693355), (3603, 0.0), (3604, 0.003462729319599949), (3605, 0.01958175407604041), (3606, 0.0013415390405809191), (3607, 0.0), (3608, 0.0011978688979310047), (3609, 0.0), (3610, 0.0), (3611, 0.001792626736602193), (3612, 0.006843552720165775), (3613, 0.002281081700651843), (3614, 0.0014455139434327636), (3615, 0.0015350979004434607), (3616, 0.003081391992509607), (3617, 0.0), (3618, 0.004667132152390598), (3619, 0.002308674962608025), (3620, 0.002029147443909165), (3621, 0.0017084412695914997), (3622, 0.0), (3623, 0.004288843650819357), (3624, 0.004465843797335526), (3625, 0.0), (3626, 0.0011024977570773763), (3627, 0.0013340301443461058), (3628, 0.0), (3629, 0.01030672386448123), (3630, 0.0), (3631, 0.0), (3632, 0.0), (3633, 0.0), (3634, 0.0012170043397980717), (3635, 0.007726497587125836), (3636, 0.0016456679170342896), (3637, 0.009284514853157639), (3638, 0.008813651840088926), (3639, 0.0021926736649736265), (3640, 0.009356215980697406), (3641, 0.001447531541365083), (3642, 0.008939423343593801), (3643, 0.0016087627588662347), (3644, 0.0), (3645, 0.005538319853213866), (3646, 0.0014232298222929404), (3647, 0.001903678722695965), (3648, 0.0), (3649, 0.0), (3650, 0.0), (3651, 0.0025634422236229626), (3652, 0.029690883544939872), (3653, 0.0044828478749465404), (3654, 0.0017159804770247257), (3655, 0.08685117748644397), (3656, 0.018039297880666088), (3657, 0.0012813186978903259), (3658, 0.004029016745013926), (3659, 0.008214550567328043), (3660, 0.008316143728085226), (3661, 0.004337110786879695), (3662, 0.0), (3663, 0.0), (3664, 0.0024822270075245336), (3665, 0.00158383314227602), (3666, 0.004947802098364794), (3667, 0.0012676558384251096), (3668, 0.0018037990368576663), (3669, 0.0016581737045202026), (3670, 0.010071054180500222), (3671, 0.0), (3672, 0.0026245113340138586), (3673, 0.0015573818893019418), (3674, 0.005100836244114044), (3675, 0.013647122951983006), (3676, 0.0), (3677, 0.0019326211552980618), (3678, 0.002101359023602862), (3679, 0.00774733711767374), (3680, 0.005201796760647505), (3681, 0.0), (3682, 0.0), (3683, 0.0), (3684, 0.006396737570767151), (3685, 0.0), (3686, 0.0), (3687, 0.0023668431142518987), (3688, 0.01742293440880976), (3689, 0.0017056681772944884), (3690, 0.0), (3691, 0.0012946856027860286), (3692, 0.005021436794054142), (3693, 0.0), (3694, 0.008777628372310326), (3695, 0.0), (3696, 0.0042430987839464675), (3697, 0.0), (3698, 0.0), (3699, 0.009847154512351991), (3700, 0.0), (3701, 0.01940536746460416), (3702, 0.0), (3703, 0.0), (3704, 0.004800231846269827), (3705, 0.004088131850167119), (3706, 0.001705382358052065), (3707, 0.0016148019065475743), (3708, 0.011902688311449501), (3709, 0.0), (3710, 0.002879243055272449), (3711, 0.006551517257081967), (3712, 0.0), (3713, 0.0058401646091578475), (3714, 0.0017022114107886374), (3715, 0.004757513580794712), (3716, 0.0), (3717, 0.0), (3718, 0.0), (3719, 0.0018863700372166543), (3720, 0.015934109011584513), (3721, 0.004295542983156934), (3722, 0.0), (3723, 0.002571004369789043), (3724, 0.0), (3725, 0.0012443222685145467), (3726, 0.0), (3727, 0.003745594226131849), (3728, 0.0017187722222511655), (3729, 0.0019184645238338517), (3730, 0.0), (3731, 0.022740418518402923), (3732, 0.0), (3733, 0.0014137545184269267), (3734, 0.003940449361529358), (3735, 0.0), (3736, 0.0), (3737, 0.002161881420273663), (3738, 0.0), (3739, 0.0019413953640208853), (3740, 0.0), (3741, 0.009618386682832198), (3742, 0.0014711252677080033), (3743, 0.0), (3744, 0.00335601326565538), (3745, 0.0015468626571436344), (3746, 0.014749489751632493), (3747, 0.0028778421954101198), (3748, 0.0), (3749, 0.001637635035821027), (3750, 0.0), (3751, 0.015805473613852875), (3752, 0.0), (3753, 0.030693939230755085), (3754, 0.0027717553171376533), (3755, 0.001313540001656311), (3756, 0.0089763087712481), (3757, 0.0018618921780930821), (3758, 0.0), (3759, 0.0), (3760, 0.0), (3761, 0.0), (3762, 0.0026453413073079454), (3763, 0.002442061502685887), (3764, 0.0), (3765, 0.0016072027022241266), (3766, 0.015222124422253038), (3767, 0.01429133462153905), (3768, 0.007548828611236878), (3769, 0.002896743634752323), (3770, 0.0019309158407459844), (3771, 0.0050027411619216755), (3772, 0.0019164339227533988), (3773, 0.015503587402345826), (3774, 0.00330192712188649), (3775, 0.008473591538468763), (3776, 0.0022920182196135303), (3777, 0.009762204540549881), (3778, 0.0021133673217456003), (3779, 0.11093024819876875), (3780, 0.005287348317091546), (3781, 0.0014292903287983069), (3782, 0.0025446077470208145), (3783, 0.0), (3784, 0.001524579472614118), (3785, 0.0), (3786, 0.0), (3787, 0.00319470487232602), (3788, 0.002631763026160091), (3789, 0.0), (3790, 0.0), (3791, 0.0), (3792, 0.0015799613635312886), (3793, 0.029019306125815242), (3794, 0.007907458442135744), (3795, 0.0012972268287700997), (3796, 0.0), (3797, 0.004731123041800153), (3798, 0.0), (3799, 0.0015663401780679313), (3800, 0.0), (3801, 0.0067997399579344375), (3802, 0.00444570546401229), (3803, 0.0), (3804, 0.0026780140738222654), (3805, 0.0), (3806, 0.0024058686095205025), (3807, 0.008491586969527006), (3808, 0.0), (3809, 0.0013808299343777285), (3810, 0.004437407409171938), (3811, 0.001530323343998352), (3812, 0.0), (3813, 0.0024951880734356284), (3814, 0.02030374117981658), (3815, 0.0033015957764870327), (3816, 0.0), (3817, 0.0), (3818, 0.0), (3819, 0.007575686591902669), (3820, 0.0), (3821, 0.001496737962706767), (3822, 0.0021468259953021525), (3823, 0.0027304477169266027), (3824, 0.00290740629271986), (3825, 0.0), (3826, 0.0016894063480652301), (3827, 0.001990655105856189), (3828, 0.014412510053021927), (3829, 0.001491921037802821), (3830, 0.0), (3831, 0.0), (3832, 0.0025011948293578727), (3833, 0.0029505792841460154), (3834, 0.0), (3835, 0.0010264145716759134), (3836, 0.0), (3837, 0.0), (3838, 0.0), (3839, 0.0015079755700413097), (3840, 0.0), (3841, 0.003886829629693567), (3842, 0.008501714191295225), (3843, 0.0), (3844, 0.005012026694462701), (3845, 0.0015884578817712957), (3846, 0.0), (3847, 0.0), (3848, 0.0024010524346784303), (3849, 0.00829611903233774), (3850, 0.01822587054152818), (3851, 0.0), (3852, 0.015552276701675832), (3853, 0.002582888609897326), (3854, 0.058223550444340674), (3855, 0.0015185293364202207), (3856, 0.0), (3857, 0.0021175938137311117), (3858, 0.0), (3859, 0.0), (3860, 0.006527484313362765), (3861, 0.0), (3862, 0.011959960349483448), (3863, 0.0012561165761101579), (3864, 0.0), (3865, 0.0), (3866, 0.0017676483414183785), (3867, 0.024966468001143636), (3868, 0.015452534106377064), (3869, 0.0), (3870, 0.0), (3871, 0.0172768120823909), (3872, 0.014278017087632081), (3873, 0.001662928159233029), (3874, 0.002198803001554912), (3875, 0.001419390529135029), (3876, 0.003478855131981518), (3877, 0.0017655543268860398), (3878, 0.0023885494324085237), (3879, 0.0), (3880, 0.01477568983873047), (3881, 0.003052260640261634), (3882, 0.0015096423929013352), (3883, 0.014535687705352768), (3884, 0.0025184040315394374), (3885, 0.0), (3886, 0.0030191525051128185), (3887, 0.0), (3888, 0.005996939347374592), (3889, 0.0021284647468612495), (3890, 0.0016207746642714835), (3891, 0.024184093770437346), (3892, 0.0026272588359304364), (3893, 0.001664006092764684), (3894, 0.001142539973962112), (3895, 0.0011348894077171628), (3896, 0.0), (3897, 0.003966054898554383), (3898, 0.0015999428123275104), (3899, 0.007913342047347402), (3900, 0.0014035343818572968), (3901, 0.007154757404730979), (3902, 0.0014099312033237796), (3903, 0.001906500778341672), (3904, 0.015512226739536243), (3905, 0.0052339997441618455), (3906, 0.0017878425833363959), (3907, 0.0028526766582836725), (3908, 0.003108800236569355), (3909, 0.0), (3910, 0.0038343177971765885), (3911, 0.0015175293176001659), (3912, 0.0), (3913, 0.01776098418284917), (3914, 0.0), (3915, 0.001602599081594958), (3916, 0.011712094796518613), (3917, 0.001532743355349532), (3918, 0.0), (3919, 0.0015557034223811668), (3920, 0.0017291884524605811), (3921, 0.0), (3922, 0.00250669104242312), (3923, 0.0114605131597165), (3924, 0.007191297223482228), (3925, 0.0027628800559824354), (3926, 0.0), (3927, 0.0014489126937286404), (3928, 0.001157382326540946), (3929, 0.0), (3930, 0.0), (3931, 0.0), (3932, 0.004244891237730937), (3933, 0.0), (3934, 0.0), (3935, 0.0017866997910395155), (3936, 0.0), (3937, 0.0), (3938, 0.0031045602502863664), (3939, 0.0027044107876269875), (3940, 0.0), (3941, 0.004917176602492911), (3942, 0.004959873812873078), (3943, 0.0), (3944, 0.0019564323079871975), (3945, 0.0058243271918740945), (3946, 0.11987827488845841), (3947, 0.030457202888522696), (3948, 0.0), (3949, 0.007872999872920453), (3950, 0.0), (3951, 0.0024733914056649696), (3952, 0.0023286150437765666), (3953, 0.0012559652581122741), (3954, 0.001201446323062554), (3955, 0.0), (3956, 0.00609745102585584), (3957, 0.003919058714874426), (3958, 0.0), (3959, 0.0188157670215829), (3960, 0.005327080885074599), (3961, 0.009853025866341226), (3962, 0.002188150032726715), (3963, 0.017785134282362617), (3964, 0.0), (3965, 0.0), (3966, 0.002255884821555525), (3967, 0.0019335483272339932), (3968, 0.0), (3969, 0.0), (3970, 0.0031601284466808563), (3971, 0.0), (3972, 0.0), (3973, 0.08963570883759163), (3974, 0.004299761957113164), (3975, 0.005213543884263915), (3976, 0.0), (3977, 0.0), (3978, 0.017959897606215205), (3979, 0.0), (3980, 0.0), (3981, 0.0), (3982, 0.0), (3983, 0.01959279314848808), (3984, 0.009350099532691624), (3985, 0.0), (3986, 0.0014659625867924956), (3987, 0.0014154828728196935), (3988, 0.0), (3989, 0.002709003298902233), (3990, 0.0027995509507887577), (3991, 0.0), (3992, 0.007270662892728913), (3993, 0.006888589286476521), (3994, 0.0), (3995, 0.004039433473759881), (3996, 0.0), (3997, 0.003393108701333183), (3998, 0.0), (3999, 0.013634722756202727), (4000, 0.00781870556828213), (4001, 0.0), (4002, 0.0022197673486145206), (4003, 0.0), (4004, 0.008357737194206728), (4005, 0.02159243569198244), (4006, 0.0), (4007, 0.009711446353337925), (4008, 0.0), (4009, 0.0), (4010, 0.0), (4011, 0.0016220761320929681), (4012, 0.0), (4013, 0.005115585415982599), (4014, 0.0020524489320659146), (4015, 0.0014448698127116817), (4016, 0.0021874961732124606), (4017, 0.002268695370327765), (4018, 0.0), (4019, 0.0022895331741297218), (4020, 0.001711664357381947), (4021, 0.0), (4022, 0.0), (4023, 0.0028730240685293632), (4024, 0.0025281026668096647), (4025, 0.001676437785364379), (4026, 0.0), (4027, 0.0), (4028, 0.0), (4029, 0.0), (4030, 0.0023767203261291087), (4031, 0.0), (4032, 0.0030965180672296393), (4033, 0.007743214032482396), (4034, 0.0), (4035, 0.011751924800280455), (4036, 0.0015480040418280592), (4037, 0.0), (4038, 0.004798671657517979), (4039, 0.003299330463647013), (4040, 0.0), (4041, 0.0), (4042, 0.0017852016901480185), (4043, 0.003159092863156087), (4044, 0.0025886119225320384), (4045, 0.0051223085888133365), (4046, 0.004815752720484777), (4047, 0.0049064511065162915), (4048, 0.008472061760965653), (4049, 0.0015930578980129547), (4050, 0.0041398667513237964), (4051, 0.0019833071267529685), (4052, 0.0014045681168017472), (4053, 0.005965492183799256), (4054, 0.001908502974915252), (4055, 0.0), (4056, 0.0015693677779779229), (4057, 0.0), (4058, 0.0), (4059, 0.0014994990937436479), (4060, 0.006228164410262406), (4061, 0.0), (4062, 0.0028585010415155534), (4063, 0.0), (4064, 0.03863266704975144), (4065, 0.0), (4066, 0.001547412707712706), (4067, 0.0), (4068, 0.010276835401223025), (4069, 0.0013773824851712826), (4070, 0.0), (4071, 0.0026807961929233484), (4072, 0.0), (4073, 0.0), (4074, 0.0015126300836429095), (4075, 0.001604002506928701), (4076, 0.0033670473421221667), (4077, 0.0), (4078, 0.0), (4079, 0.0017092523826342718), (4080, 0.0014443175551004095), (4081, 0.0017431745326385857), (4082, 0.0032514852264580525), (4083, 0.001462010258175762), (4084, 0.0), (4085, 0.0016497527208830735), (4086, 0.0), (4087, 0.0019322966344756276), (4088, 0.01551464036275875), (4089, 0.00531122204972392), (4090, 0.0032547068602230785), (4091, 0.0029425329873471835), (4092, 0.006912762260304606), (4093, 0.004180604943808265), (4094, 0.005402699237807202), (4095, 0.006757307352833482), (4096, 0.023649015488882725), (4097, 0.0), (4098, 0.004759564340765205), (4099, 0.0), (4100, 0.0), (4101, 0.002407236124710484), (4102, 0.0022423768293006476), (4103, 0.003035450695165334), (4104, 0.027522078597659153), (4105, 0.004700254763608068), (4106, 0.0024796977254589263), (4107, 0.0030621788559671583), (4108, 0.0), (4109, 0.0), (4110, 0.0), (4111, 0.0016052640128497706), (4112, 0.0), (4113, 0.0019643629916944933), (4114, 0.0), (4115, 0.0), (4116, 0.09010253627929525), (4117, 0.0017883831118274977), (4118, 0.005649083945478929), (4119, 0.0033439371233565367), (4120, 0.0036890594785918994), (4121, 0.008051460677548049), (4122, 0.008352333268905334), (4123, 0.030479446816300503), (4124, 0.00722098730698502), (4125, 0.0), (4126, 0.0022055916378294115), (4127, 0.0), (4128, 0.013911206482630587), (4129, 0.0013112751988844928), (4130, 0.0016290452217494658), (4131, 0.0), (4132, 0.0016751209653488146), (4133, 0.00483088543239104), (4134, 0.0033087313850113237), (4135, 0.0017243650409937807), (4136, 0.0016122683289063688), (4137, 0.037218694779197696), (4138, 0.0016023145000762468), (4139, 0.0016567705525171808), (4140, 0.0016566820279370698), (4141, 0.0048714348235621326), (4142, 0.001505275129538705), (4143, 0.001318812327416755), (4144, 0.0), (4145, 0.0018551281909459949), (4146, 0.0), (4147, 0.0017021330472503902), (4148, 0.008440983318727268), (4149, 0.0), (4150, 0.0), (4151, 0.004908263298237588), (4152, 0.021363101228319272), (4153, 0.0), (4154, 0.003781283973511393), (4155, 0.0014166663369767692), (4156, 0.0013984169489163736), (4157, 0.0), (4158, 0.0031462793980427846), (4159, 0.0), (4160, 0.01820730156327237), (4161, 0.0016250858081683969), (4162, 0.003065146797110162), (4163, 0.006253427762669033), (4164, 0.007943953332337283), (4165, 0.016502091606657998), (4166, 0.0), (4167, 0.0), (4168, 0.0), (4169, 0.002623305497950061), (4170, 0.0), (4171, 0.0019137641965995978), (4172, 0.0026824714348282616), (4173, 0.0), (4174, 0.0014519512981423504), (4175, 0.017849845648394373), (4176, 0.00418614558216031), (4177, 0.0), (4178, 0.008781233671668586), (4179, 0.0), (4180, 0.0), (4181, 0.0), (4182, 0.0014379568976821376), (4183, 0.001595516699859757), (4184, 0.0), (4185, 0.0), (4186, 0.0), (4187, 0.006523030297668771), (4188, 0.0), (4189, 0.00902199593703592), (4190, 0.0), (4191, 0.0), (4192, 0.005609890718603891), (4193, 0.0025951292051044684), (4194, 0.0), (4195, 0.019724235905535337), (4196, 0.0), (4197, 0.00164186491116417), (4198, 0.0), (4199, 0.0), (4200, 0.0016288851017446564), (4201, 0.0), (4202, 0.002839290298952554), (4203, 0.008248346895237962), (4204, 0.0), (4205, 0.0013367163917033132), (4206, 0.002229936615834108), (4207, 0.0), (4208, 0.0038312970498504506), (4209, 0.026763580089918002), (4210, 0.0), (4211, 0.0031582311603714146), (4212, 0.0), (4213, 0.0015286816272175735), (4214, 0.0), (4215, 0.0), (4216, 0.0074293182113677105), (4217, 0.0), (4218, 0.0), (4219, 0.004731898759077294), (4220, 0.0013917671046250165), (4221, 0.0027139979975135653), (4222, 0.0027216049626014533), (4223, 0.0), (4224, 0.0), (4225, 0.0024331859344644286), (4226, 0.0), (4227, 0.007215817994743176), (4228, 0.0018838133866561145), (4229, 0.0), (4230, 0.0026017919683148385), (4231, 0.012212860106285646), (4232, 0.006382775715539256), (4233, 0.004846772401031118), (4234, 0.0), (4235, 0.006298723077464461), (4236, 0.0), (4237, 0.0), (4238, 0.0), (4239, 0.0), (4240, 0.003594274182305245), (4241, 0.0), (4242, 0.015486765326974343), (4243, 0.0023108893169442226), (4244, 0.009719392099174138), (4245, 0.001420898229201422), (4246, 0.01623986175336012), (4247, 0.0015145526281543737), (4248, 0.0027861194967605907), (4249, 0.00417386512945452), (4250, 0.0), (4251, 0.0034350145968187378), (4252, 0.06988184793255475), (4253, 0.0), (4254, 0.0016602184873817526), (4255, 0.004298711304382839), (4256, 0.0), (4257, 0.0014001580003842624), (4258, 0.0), (4259, 0.001947236694051176), (4260, 0.0), (4261, 0.0037396392305923338), (4262, 0.002177857050457819), (4263, 0.0028991160533350623), (4264, 0.0028925945868839634), (4265, 0.0075987122426560555), (4266, 0.0016778420416076235), (4267, 0.0025920972513227185), (4268, 0.00600172490720817), (4269, 0.0020216841357238017), (4270, 0.0), (4271, 0.0), (4272, 0.014642135339297866), (4273, 0.0016076749321629552), (4274, 0.002460262028437345), (4275, 0.0029083724598456553), (4276, 0.0), (4277, 0.0017668377438968326), (4278, 0.0), (4279, 0.0), (4280, 0.002020778402514382), (4281, 0.004005832436204605), (4282, 0.004673714396635022), (4283, 0.004971435893996387), (4284, 0.005933757165949571), (4285, 0.0034229846274475067), (4286, 0.0025739738342679206), (4287, 0.0019206487092997971), (4288, 0.022991462623214973), (4289, 0.004813338150169406), (4290, 0.002657695676876481), (4291, 0.0), (4292, 0.0027069406689815335), (4293, 0.009793833966773961), (4294, 0.015319238949959556), (4295, 0.0016614383095632666), (4296, 0.001378446206374454), (4297, 0.0), (4298, 0.0020514352534805463), (4299, 0.0042399311623719455), (4300, 0.0), (4301, 0.0012288695432829935), (4302, 0.0), (4303, 0.0), (4304, 0.0017033903229156154), (4305, 0.0), (4306, 0.002028630501155723), (4307, 0.004421588725387903), (4308, 0.002093719440148265), (4309, 0.004177515578830768), (4310, 0.0027739832931215525), (4311, 0.0013898837567685228), (4312, 0.003001343379394339), (4313, 0.0), (4314, 0.0), (4315, 0.0), (4316, 0.0), (4317, 0.0), (4318, 0.0016023574441719347), (4319, 0.0), (4320, 0.0015358116809828404), (4321, 0.0017675511737494396), (4322, 0.0026436363752035293), (4323, 0.0), (4324, 0.0), (4325, 0.007314698242918924), (4326, 0.0014854939583966531), (4327, 0.0), (4328, 0.002491340451371065), (4329, 0.0), (4330, 0.0016246723892947511), (4331, 0.004064714956485754), (4332, 0.0), (4333, 0.002301705045371052), (4334, 0.001709690767025365), (4335, 0.0), (4336, 0.001465077556977585), (4337, 0.0033535326222750915), (4338, 0.0), (4339, 0.0027005622091743828), (4340, 0.0018437044944823971), (4341, 0.0), (4342, 0.0), (4343, 0.0015072373548838383), (4344, 0.0034024552700392076), (4345, 0.0014676070114129243), (4346, 0.0), (4347, 0.0), (4348, 0.001583967957121626), (4349, 0.0015985125111534285), (4350, 0.0013917633072924598), (4351, 0.0), (4352, 0.0), (4353, 0.0), (4354, 0.014694357556554493), (4355, 0.0016289045951203341), (4356, 0.0015133641016305457), (4357, 0.0014839684314658485), (4358, 0.0), (4359, 0.0017876864513110633), (4360, 0.0028777265383733647), (4361, 0.0019762672441495884), (4362, 0.0790158093154293), (4363, 0.001565219315915421), (4364, 0.0), (4365, 0.0027817111744837604), (4366, 0.0027289963878549335), (4367, 0.0), (4368, 0.0021878475996496382), (4369, 0.0020203939244973386), (4370, 0.0), (4371, 0.0016573444413771736), (4372, 0.0), (4373, 0.0), (4374, 0.009575733114662099), (4375, 0.0863151720133026), (4376, 0.002614713019171479), (4377, 0.003609782478828059), (4378, 0.13197561006808298), (4379, 0.009452829638716503), (4380, 0.007810218011441487), (4381, 0.0017273744861200128), (4382, 0.0015345484484007587), (4383, 0.002717970872167958), (4384, 0.0029468319690489917), (4385, 0.0), (4386, 0.0015978091982424565), (4387, 0.008633264674139125), (4388, 0.0), (4389, 0.035964815646809305), (4390, 0.004393704627957434), (4391, 0.0015223303057557251), (4392, 0.002895292175785769), (4393, 0.0), (4394, 0.0015964582794598722), (4395, 0.0019284709480439182), (4396, 0.08583741387982335), (4397, 0.0016114017761895652), (4398, 0.03274169583144751), (4399, 0.0015349610699294963), (4400, 0.0022958456872023947), (4401, 0.0017561816712351691), (4402, 0.01685989964694108), (4403, 0.01544985777089699), (4404, 0.0), (4405, 0.0), (4406, 0.0), (4407, 0.0032955578933861565), (4408, 0.0), (4409, 0.0015232129793820782), (4410, 0.0), (4411, 0.0012094543798478042), (4412, 0.00543247389437079), (4413, 0.0), (4414, 0.0), (4415, 0.0), (4416, 0.0018511868239925971), (4417, 0.0), (4418, 0.002326160481267831), (4419, 0.001837408179870977), (4420, 0.0015163939770074233), (4421, 0.0), (4422, 0.001413725299767397), (4423, 0.002626134573270454), (4424, 0.0), (4425, 0.0), (4426, 0.0023495198813337373), (4427, 0.0015724425827834147), (4428, 0.0013992151991723792), (4429, 0.0012421056083778985), (4430, 0.003963822485171035), (4431, 0.006021574898297263), (4432, 0.0044994431892895126), (4433, 0.0), (4434, 0.0), (4435, 0.005693962440477667), (4436, 0.009021023933237095), (4437, 0.0), (4438, 0.0025831665234811872), (4439, 0.0), (4440, 0.007974682981278703), (4441, 0.0026427215392417287), (4442, 0.005517377691551237), (4443, 0.03159362028286296), (4444, 0.008391528716214902), (4445, 0.0013239797618709809), (4446, 0.00199597145608173), (4447, 0.0), (4448, 0.0017049338569664124), (4449, 0.0), (4450, 0.006221640007381608), (4451, 0.0), (4452, 0.026750540260572334), (4453, 0.0), (4454, 0.0), (4455, 0.0), (4456, 0.0), (4457, 0.0), (4458, 0.0024214558883502105), (4459, 0.0), (4460, 0.0), (4461, 0.0015732829952456449), (4462, 0.003024197156291339), (4463, 0.0), (4464, 0.003671390266869606), (4465, 0.01704024801199924), (4466, 0.003022098058592212), (4467, 0.0), (4468, 0.0028644787215004967), (4469, 0.009689378118290945), (4470, 0.004603434266786284), (4471, 0.001626311148338352), (4472, 0.0016074177676676511), (4473, 0.0011491563174327785), (4474, 0.011017681519606269), (4475, 0.00758939189661499), (4476, 0.0013676072313740782), (4477, 0.008493211992413353), (4478, 0.0), (4479, 0.0014776834196179819), (4480, 0.0), (4481, 0.00784588385038409), (4482, 0.0), (4483, 0.0), (4484, 0.002043133622524155), (4485, 0.0), (4486, 0.004436750383092821), (4487, 0.0016032704862774937), (4488, 0.03187668845833612), (4489, 0.0016812769531224933), (4490, 0.007550417629975715), (4491, 0.0), (4492, 0.0), (4493, 0.0), (4494, 0.005089704452649707), (4495, 0.0021786626587588236), (4496, 0.0), (4497, 0.0018758638812701198), (4498, 0.0), (4499, 0.0), (4500, 0.0), (4501, 0.0015464613577311683), (4502, 0.005786266857851222), (4503, 0.03498033560666712), (4504, 0.0014092176461729094), (4505, 0.001893672710856426), (4506, 0.0), (4507, 0.0016004469343274814), (4508, 0.0), (4509, 0.0), (4510, 0.007907077756652399), (4511, 0.0013921423628893903), (4512, 0.01043524841264951), (4513, 0.002840787336286447), (4514, 0.004461780886679049), (4515, 0.004789571874971067), (4516, 0.0016700399083611497), (4517, 0.0057969276606980565), (4518, 0.004083313396538915), (4519, 0.0), (4520, 0.0014082512888976063), (4521, 0.002319786862823626), (4522, 0.006232778838507693), (4523, 0.004609488808587551), (4524, 0.003813992272477234), (4525, 0.0), (4526, 0.0), (4527, 0.004241441537318537), (4528, 0.0016734738149061475), (4529, 0.002125393052302043), (4530, 0.0012596905828033181), (4531, 0.009391953491678054), (4532, 0.0), (4533, 0.017846957273791663), (4534, 0.0032356939427952707), (4535, 0.0016842025085607808), (4536, 0.001498693036283163), (4537, 0.004797337512647043), (4538, 0.019650246694855444), (4539, 0.0), (4540, 0.0021818575001513164), (4541, 0.0), (4542, 0.0), (4543, 0.00733331635502299), (4544, 0.0023419561559117957), (4545, 0.0018519628698822838), (4546, 0.0067618016800210425), (4547, 0.0), (4548, 0.02333194552970356), (4549, 0.0), (4550, 0.0015626667919588625), (4551, 0.008124572023511497), (4552, 0.002755851048355166), (4553, 0.0075245176040858045), (4554, 0.015953673932401678), (4555, 0.002227624280191667), (4556, 0.0), (4557, 0.004802973266603085), (4558, 0.0), (4559, 0.0), (4560, 0.0), (4561, 0.0), (4562, 0.0), (4563, 0.0015321610018567352), (4564, 0.0), (4565, 0.0), (4566, 0.0016736507213063886), (4567, 0.0020427572205403157), (4568, 0.0), (4569, 0.0), (4570, 0.0), (4571, 0.003226406228713054), (4572, 0.002488795154115113), (4573, 0.0019027774114576666), (4574, 0.0017349600620642268), (4575, 0.0016745486878963097), (4576, 0.004720189565802679), (4577, 0.0), (4578, 0.0), (4579, 0.004730511094125888), (4580, 0.0), (4581, 0.003912103206014911), (4582, 0.002718622538711145), (4583, 0.0), (4584, 0.0022478738519955874), (4585, 0.0026262998710086423), (4586, 0.002807730124211971), (4587, 0.003366753978769465), (4588, 0.023492384231906662), (4589, 0.0028090927749657994), (4590, 0.020440119464273435), (4591, 0.0037136932061905964), (4592, 0.0), (4593, 0.006823598948386108), (4594, 0.047575805384710075), (4595, 0.003869974035402454), (4596, 0.0), (4597, 0.0), (4598, 0.0015231648753356436), (4599, 0.0), (4600, 0.0), (4601, 0.006817209144594678), (4602, 0.018378105558909504), (4603, 0.0013945996327816431), (4604, 0.0018672538946358504), (4605, 0.0017114489349173915), (4606, 0.002569626252510724), (4607, 0.0035842825880946596), (4608, 0.011300773582610849), (4609, 0.0), (4610, 0.005194658256430804), (4611, 0.002547515560055751), (4612, 0.0072847177590228285), (4613, 0.0), (4614, 0.18491529766417558), (4615, 0.0), (4616, 0.0014034030901044917), (4617, 0.010605411214290879), (4618, 0.0), (4619, 0.009431358426782879), (4620, 0.0013369838955712345), (4621, 0.002896942380462099), (4622, 0.0), (4623, 0.007438774462220931), (4624, 0.004917851057717518), (4625, 0.00166337972715694), (4626, 0.0013087517192491346), (4627, 0.0018106665366664947), (4628, 0.0), (4629, 0.005138431127788688), (4630, 0.0034947132847743642), (4631, 0.0), (4632, 0.002393324558709071), (4633, 0.001696383987280153), (4634, 0.0015475090466025054), (4635, 0.0), (4636, 0.0014042100369913487), (4637, 0.013583087128094725), (4638, 0.0016310694232181259), (4639, 0.00315627616401075), (4640, 0.0014120909440751958), (4641, 0.001389106967132032), (4642, 0.0037392387863051176), (4643, 0.0025577201276436043), (4644, 0.0), (4645, 0.020313211305358465), (4646, 0.004913637126084845), (4647, 0.0), (4648, 0.0), (4649, 0.0015182079333679942), (4650, 0.0022113342043503163), (4651, 0.0), (4652, 0.0017358966774005504), (4653, 0.003787300028848633), (4654, 0.0), (4655, 0.0), (4656, 0.007143628199447316), (4657, 0.0015494750143559767), (4658, 0.01008377132186377), (4659, 0.02162199342672735), (4660, 0.007721540277938425), (4661, 0.0036440629024584014), (4662, 0.0), (4663, 0.021043061932042882), (4664, 0.008281322840321112), (4665, 0.0036291310469149228), (4666, 0.004993015123364211), (4667, 0.0), (4668, 0.018056665550952998), (4669, 0.009400476587474546), (4670, 0.004495556421229588), (4671, 0.0), (4672, 0.0), (4673, 0.008987753087251492), (4674, 0.0041934062262580325), (4675, 0.0), (4676, 0.0), (4677, 0.004541937922942937), (4678, 0.0028672042256709957), (4679, 0.007622849000432147), (4680, 0.0017800350499211027), (4681, 0.0), (4682, 0.014359954883082811), (4683, 0.0), (4684, 0.007977590150234675), (4685, 0.002029647686650015), (4686, 0.001643386110592064), (4687, 0.0015939113603423817), (4688, 0.0), (4689, 0.002541261610300481), (4690, 0.0), (4691, 0.004559391239612595), (4692, 0.002234966516520084), (4693, 0.0019724490827450272), (4694, 0.001804906685623291), (4695, 0.002538402214836195), (4696, 0.0024960037712750682), (4697, 0.004429960655106415), (4698, 0.004449910629807263), (4699, 0.007281337446965056), (4700, 0.0), (4701, 0.007881854247233788), (4702, 0.0), (4703, 0.021080724930103642), (4704, 0.0027740156936402393), (4705, 0.0024015168686797395), (4706, 0.002028765712920392), (4707, 0.007409285276126516), (4708, 0.002966650111494531), (4709, 0.012766110018685398), (4710, 0.0061963995654287065), (4711, 0.0), (4712, 0.0015862522262973622), (4713, 0.0021944352586670108), (4714, 0.0), (4715, 0.004800691597831471), (4716, 0.0), (4717, 0.0023926905257658834), (4718, 0.002167340177626634), (4719, 0.017248807942589945), (4720, 0.0), (4721, 0.03320968894408249), (4722, 0.016606627214119114), (4723, 0.002349578351824873), (4724, 0.03767022847953442), (4725, 0.0), (4726, 0.0), (4727, 0.01853167847027145), (4728, 0.0), (4729, 0.001746980602161024), (4730, 0.0), (4731, 0.0071275204918859435), (4732, 0.0023044812649091876), (4733, 0.004279434557951534), (4734, 0.0019227641629871335), (4735, 0.014625038326735312), (4736, 0.0), (4737, 0.0), (4738, 0.0), (4739, 0.05970117118219888), (4740, 0.0), (4741, 0.0), (4742, 0.0), (4743, 0.0016808250977205594), (4744, 0.0014387583093684168), (4745, 0.0), (4746, 0.0037211294620560333), (4747, 0.01181634982920977), (4748, 0.0012392727102664013), (4749, 0.002349419366672489), (4750, 0.0), (4751, 0.0), (4752, 0.0010854296881015076), (4753, 0.0023154226279888655), (4754, 0.0), (4755, 0.0), (4756, 0.0024411956747685225), (4757, 0.005609077172358944), (4758, 0.0), (4759, 0.0)]\n"
          ]
        }
      ]
    },
    {
      "cell_type": "code",
      "source": [
        "len(Recommendation_Score)"
      ],
      "metadata": {
        "colab": {
          "base_uri": "https://localhost:8080/"
        },
        "id": "cZah1wsxoncT",
        "outputId": "7711700b-35db-496f-e9e7-38a6fa987e31"
      },
      "execution_count": null,
      "outputs": [
        {
          "output_type": "execute_result",
          "data": {
            "text/plain": [
              "4760"
            ]
          },
          "metadata": {},
          "execution_count": 40
        }
      ]
    },
    {
      "cell_type": "markdown",
      "source": [
        "# **Get All Movies Sorted Based on Recommendation Score wrt Favourite Movie**"
      ],
      "metadata": {
        "id": "n_2buT_fpAio"
      }
    },
    {
      "cell_type": "code",
      "source": [
        "#sorting the movie based on their similarity score\n",
        "Sorted_Similar_Movies = sorted(Recommendation_Score, key = lambda x:x[1], reverse = True)\n",
        "print(Sorted_Similar_Movies)"
      ],
      "metadata": {
        "colab": {
          "base_uri": "https://localhost:8080/"
        },
        "id": "-aCXVCqnpJ2X",
        "outputId": "e6b4e175-ba3f-4aeb-e179-6d850899b991"
      },
      "execution_count": null,
      "outputs": [
        {
          "output_type": "stream",
          "name": "stdout",
          "text": [
            "[(2692, 1.0000000000000002), (2903, 0.25470281295271086), (45, 0.23650003180147045), (2558, 0.20974490824584702), (1070, 0.20718202656978668), (4614, 0.18491529766417558), (628, 0.16793159418608875), (2985, 0.14531748046018916), (4378, 0.13197561006808298), (3946, 0.11987827488845841), (277, 0.11834176655057234), (3360, 0.11513426621824431), (590, 0.11392757649685986), (3465, 0.11165330562748672), (3779, 0.11093024819876875), (455, 0.11079609026699273), (1982, 0.10983090455662378), (1320, 0.10556531608610391), (2846, 0.10076557714917393), (3351, 0.0996337808238145), (2694, 0.09732820346324406), (84, 0.09593799736523811), (3137, 0.0957934979902875), (3276, 0.09509424960806385), (2123, 0.09341330438820208), (2214, 0.09313344153734773), (3249, 0.0913166780315885), (2187, 0.09093667434770496), (2375, 0.09058532287644308), (2026, 0.09022355579355816), (4116, 0.09010253627929525), (3973, 0.08963570883759163), (2321, 0.08858045595047095), (360, 0.08809639772032121), (830, 0.08806285671067424), (3655, 0.08685117748644397), (2716, 0.08679913345483281), (1991, 0.08645636379732094), (1118, 0.08639599722333738), (4375, 0.0863151720133026), (1363, 0.08626605635286229), (4396, 0.08583741387982335), (2147, 0.08565199421673302), (1821, 0.08537599533992646), (1148, 0.08505004569115207), (1311, 0.08429104252014744), (694, 0.08391806895662728), (172, 0.08334895138596105), (2540, 0.08254324604155751), (3486, 0.0814618142448723), (2308, 0.08029588565105363), (4362, 0.0790158093154293), (2014, 0.07817688263361004), (179, 0.0776083466135313), (381, 0.07734672311351487), (1362, 0.07726479755573082), (2155, 0.0764282634108563), (213, 0.07621126267749867), (3518, 0.0756438704078793), (873, 0.07470331488326534), (2122, 0.07432852043802728), (67, 0.07324150410653313), (935, 0.0718636467524597), (65, 0.0716226018112321), (328, 0.07155282796313128), (2859, 0.0703332613312703), (4252, 0.06988184793255475), (3280, 0.06941565434594699), (836, 0.06752788333785277), (387, 0.06356106683942009), (3053, 0.06006069004261332), (4739, 0.05970117118219888), (3854, 0.058223550444340674), (1647, 0.05675778122365038), (710, 0.05575205122895572), (3248, 0.05318254212977117), (110, 0.05180882796503691), (1977, 0.049788693812149766), (4594, 0.047575805384710075), (2295, 0.04208992129386503), (3450, 0.04053168411463574), (1886, 0.03955947366641051), (4064, 0.03863266704975144), (3385, 0.038290353131254264), (3203, 0.03804263898363753), (3010, 0.03801377991024867), (4724, 0.03767022847953442), (424, 0.037391871695261425), (4137, 0.037218694779197696), (3408, 0.03688969051849976), (4389, 0.035964815646809305), (2112, 0.03561156962623487), (4503, 0.03498033560666712), (254, 0.03384738881461677), (1102, 0.033672919410457615), (3334, 0.03354501807626984), (904, 0.033228366701960416), (4721, 0.03320968894408249), (2530, 0.03290587565143326), (4398, 0.03274169583144751), (479, 0.032253152235200706), (682, 0.0319454228167399), (2109, 0.03188547077401338), (4488, 0.03187668845833612), (761, 0.03166167837335743), (4443, 0.03159362028286296), (3427, 0.03146001585173968), (2318, 0.03127997022548218), (3552, 0.03081354763620789), (3753, 0.030693939230755085), (384, 0.03066811458231314), (4123, 0.030479446816300503), (3947, 0.030457202888522696), (2476, 0.02985330054483476), (3652, 0.029690883544939872), (637, 0.029649995955552278), (2971, 0.029538344553522822), (3793, 0.029019306125815242), (2579, 0.02864928383756299), (673, 0.028532932923773707), (1021, 0.027993830696991875), (3004, 0.027835893403313036), (2012, 0.027563963645165907), (4104, 0.027522078597659153), (2630, 0.02750693650337983), (2358, 0.02738806973113988), (3255, 0.027047183818233768), (3428, 0.02697678325171685), (89, 0.02687540843545426), (4209, 0.026763580089918002), (4452, 0.026750540260572334), (1809, 0.026087166956002703), (3154, 0.025496325095154204), (3867, 0.024966468001143636), (2212, 0.024742061353262026), (3023, 0.024587022532912613), (2417, 0.024457515255574155), (774, 0.024273833150370565), (3891, 0.024184093770437346), (2316, 0.024128526636000364), (210, 0.023872685819754148), (2710, 0.023849516257765217), (2449, 0.023836295206449403), (632, 0.023652851449655725), (4096, 0.023649015488882725), (3572, 0.023623117591600126), (3511, 0.023583942814045838), (3559, 0.023577924467419985), (408, 0.02357748917716906), (4588, 0.023492384231906662), (3462, 0.023432087378764756), (4548, 0.02333194552970356), (2893, 0.02326461396800582), (1024, 0.023244140161681307), (62, 0.023102314992459703), (1236, 0.023075134998141355), (2782, 0.023003253636283288), (4288, 0.022991462623214973), (1970, 0.022940695369980068), (3731, 0.022740418518402923), (1257, 0.022661648342696034), (1878, 0.02259582303995419), (3480, 0.02258300082149991), (3315, 0.022579635219003125), (1085, 0.022573231058662383), (2868, 0.022548945786125957), (1702, 0.022509652205477855), (2371, 0.02234320681615053), (3330, 0.02229259216975718), (3409, 0.022175121260776715), (1652, 0.02178900802279291), (1994, 0.02169044676615499), (3091, 0.02168358464485535), (2210, 0.021663789119752218), (4659, 0.02162199342672735), (4005, 0.02159243569198244), (462, 0.021543168034547647), (2018, 0.021456289095045378), (282, 0.021386446772554284), (2802, 0.021378390729839422), (4152, 0.021363101228319272), (874, 0.021236535207433335), (161, 0.021208796307509575), (138, 0.02118286162154398), (3395, 0.021180695547689612), (4703, 0.021080724930103642), (4663, 0.021043061932042882), (185, 0.020956980698360085), (3470, 0.020800247117184437), (2908, 0.020700286112063194), (1137, 0.020567682776895323), (615, 0.020559130825740127), (2394, 0.020527318663969202), (1369, 0.020452111650091476), (4590, 0.020440119464273435), (721, 0.020388233815587395), (4645, 0.020313211305358465), (3814, 0.02030374117981658), (2365, 0.020295915245452004), (1351, 0.020236402889839748), (1383, 0.02020497832458457), (2649, 0.020186708580940113), (1063, 0.020135921438087078), (1713, 0.020022348085673634), (1398, 0.019789228905031476), (2920, 0.019750729177999894), (2413, 0.01973571115817811), (4195, 0.019724235905535337), (1675, 0.01972339913717756), (1134, 0.019718491060590385), (2082, 0.019701137148508234), (4538, 0.019650246694855444), (3983, 0.01959279314848808), (3605, 0.01958175407604041), (1030, 0.019573298020535174), (2100, 0.01954909700270034), (3701, 0.01940536746460416), (3017, 0.019271445040610475), (284, 0.01904687551706272), (2760, 0.018935829742805797), (3959, 0.0188157670215829), (519, 0.01878775636509785), (522, 0.01875677985654357), (2981, 0.01859458657355013), (1560, 0.018589398186967393), (3146, 0.018532960928840145), (4727, 0.01853167847027145), (1837, 0.01843348412228178), (547, 0.01838540470579662), (4602, 0.018378105558909504), (3097, 0.01833077083765658), (3373, 0.018298101727809546), (2614, 0.018284529572699236), (1059, 0.018266057403033185), (3850, 0.01822587054152818), (4160, 0.01820730156327237), (3326, 0.018200738381062932), (2706, 0.018156755152530544), (1499, 0.01807854395816983), (1976, 0.018071627218349227), (2944, 0.018069713488393885), (4668, 0.018056665550952998), (3656, 0.018039297880666088), (3978, 0.017959897606215205), (68, 0.01787884384956587), (2687, 0.017861385719214428), (4175, 0.017849845648394373), (4533, 0.017846957273791663), (3963, 0.017785134282362617), (2102, 0.017780260941467594), (3913, 0.01776098418284917), (2467, 0.017500183206215554), (167, 0.01746084939311899), (2646, 0.01744157301077365), (3688, 0.01742293440880976), (903, 0.017407424907864445), (2972, 0.017381968789453073), (1530, 0.017360416413982893), (430, 0.01729770041463055), (3871, 0.0172768120823909), (4719, 0.017248807942589945), (1885, 0.017180226043981107), (823, 0.017150171420373925), (1634, 0.017139352125179978), (4465, 0.01704024801199924), (1430, 0.01703709610103006), (2887, 0.0170209491299162), (693, 0.017010454926540304), (1482, 0.017005870234597934), (240, 0.016999953378385172), (250, 0.01698464877291411), (3306, 0.01698385153416771), (3488, 0.01697861420127668), (1720, 0.016920887238009857), (885, 0.016881886655779756), (4402, 0.01685989964694108), (3328, 0.01685292978278345), (3174, 0.01683096492316199), (2723, 0.016745195147819105), (3574, 0.016684303103247044), (1990, 0.01665566875584088), (3260, 0.016617889272282988), (4722, 0.016606627214119114), (421, 0.01658717172477799), (2198, 0.016567067848471173), (2343, 0.016530295944279072), (2276, 0.016509048740171613), (4165, 0.016502091606657998), (788, 0.01644203534434261), (1261, 0.016373084932208716), (2745, 0.016334949391625), (4246, 0.01623986175336012), (1205, 0.016188081253797008), (3275, 0.01614368232648728), (1749, 0.016137561252964838), (2912, 0.016126459972166114), (459, 0.01598217790445644), (4554, 0.015953673932401678), (3720, 0.015934109011584513), (3156, 0.015828840486052084), (3167, 0.015809947362616435), (3751, 0.015805473613852875), (1057, 0.01579012994554005), (2768, 0.015747837916739026), (1770, 0.015629435236628585), (1763, 0.015566859605622003), (3852, 0.015552276701675832), (3028, 0.015518207387866835), (4088, 0.01551464036275875), (3904, 0.015512226739536243), (1146, 0.015508687260854699), (3773, 0.015503587402345826), (4242, 0.015486765326974343), (858, 0.015479468689500984), (257, 0.015464456969717754), (3868, 0.015452534106377064), (4403, 0.01544985777089699), (123, 0.015402436103420012), (241, 0.015397285655319412), (2699, 0.015339705783579297), (1973, 0.015325804321516052), (4294, 0.015319238949959556), (3766, 0.015222124422253038), (1060, 0.01519353667158329), (812, 0.015144599020228177), (2932, 0.015122824312479997), (1195, 0.015094682303917384), (2173, 0.015094224110444792), (3083, 0.015088296065079096), (3325, 0.01507484973706271), (787, 0.015066742907410993), (1115, 0.015064320697449587), (176, 0.014860007317990944), (3463, 0.01485853677109725), (3880, 0.01477568983873047), (3746, 0.014749489751632493), (4354, 0.014694357556554493), (3068, 0.014679669612368208), (2048, 0.014657285012481095), (852, 0.014647287829630179), (1283, 0.014646347288523903), (4272, 0.014642135339297866), (4735, 0.014625038326735312), (1186, 0.014582800623148397), (3883, 0.014535687705352768), (2718, 0.01452350176576421), (3297, 0.014465264846871488), (1757, 0.01446494766814647), (2638, 0.014439228892685015), (3828, 0.014412510053021927), (2815, 0.01440544286192736), (1999, 0.014378579145446891), (2795, 0.01437148572548378), (2822, 0.014368348090647394), (1358, 0.014367342210327514), (1572, 0.014366103262279368), (4682, 0.014359954883082811), (2777, 0.014347971636168088), (2408, 0.014331427299901531), (2406, 0.014314825631025263), (3767, 0.01429133462153905), (3872, 0.014278017087632081), (1181, 0.014257263227315999), (3466, 0.014220822644073166), (593, 0.014191270332843403), (155, 0.01415449420485102), (3254, 0.01412061043791499), (428, 0.013930875871418563), (4128, 0.013911206482630587), (3597, 0.0139011556322327), (2761, 0.013878027917406357), (2950, 0.013863315648810007), (2229, 0.013839650679919494), (672, 0.013821474416647415), (2023, 0.013790786312065501), (2157, 0.013687246295549401), (398, 0.013650124603574492), (3675, 0.013647122951983006), (3999, 0.013634722756202727), (109, 0.01358320945924861), (4637, 0.013583087128094725), (1098, 0.01353874389588252), (1095, 0.01353440384083277), (766, 0.013470055840225214), (2713, 0.01341889290680918), (947, 0.01337910122303905), (174, 0.013331560707774399), (888, 0.01330818042697851), (3553, 0.013085107911837802), (2294, 0.013060488982779719), (25, 0.013014522850261178), (3377, 0.012998421607758208), (2517, 0.01284333175195975), (4709, 0.012766110018685398), (1241, 0.012682180470386297), (2235, 0.012666419445760675), (3319, 0.012640378631680162), (3430, 0.012562276073701528), (1397, 0.012550286014267727), (3573, 0.012545083184619756), (1752, 0.01254368458132684), (2487, 0.012537888734050772), (3362, 0.012522148761692962), (2275, 0.012490976156105813), (3019, 0.01244007081260729), (383, 0.012424392684717058), (181, 0.01240393473505557), (2383, 0.012269894894847429), (4231, 0.012212860106285646), (917, 0.012183826925311492), (458, 0.012179752581018135), (3312, 0.012177902497274106), (678, 0.01211425069133042), (2913, 0.012026447541491783), (618, 0.01200241291016692), (3142, 0.011985018587535472), (641, 0.011978671068325196), (3862, 0.011959960349483448), (2751, 0.01195756804336624), (2013, 0.011952754091961691), (3708, 0.011902688311449501), (3374, 0.011887222079370931), (3043, 0.01183046137885692), (4747, 0.01181634982920977), (2284, 0.01175832763844071), (4035, 0.011751924800280455), (3086, 0.011723833051637104), (3916, 0.011712094796518613), (3110, 0.011597878004973878), (905, 0.011535027178321345), (3923, 0.0114605131597165), (1657, 0.011398255243140004), (3012, 0.011329019403898664), (4608, 0.011300773582610849), (1325, 0.011271921413622406), (2767, 0.011228066607573929), (2037, 0.011141528996417117), (4474, 0.011017681519606269), (2020, 0.011007050989861294), (481, 0.010780021654916205), (3076, 0.010774777559112738), (2196, 0.010760619187060429), (928, 0.010647999373354939), (4617, 0.010605411214290879), (3119, 0.010577749789629734), (643, 0.010574131006547922), (450, 0.010540402885061244), (3370, 0.010530707109196569), (1058, 0.010521466503074423), (1224, 0.010497664000450511), (1335, 0.010481125446370714), (2254, 0.01047413958974052), (1983, 0.010447071870315482), (4512, 0.01043524841264951), (2885, 0.010386281913361333), (1716, 0.010377567542872515), (2996, 0.01031781332811241), (3629, 0.01030672386448123), (689, 0.010301423767005796), (4068, 0.010276835401223025), (124, 0.010262197297991974), (2668, 0.010246636300787308), (429, 0.010219685351759487), (2939, 0.010198377046628404), (2053, 0.010158090371919549), (1997, 0.01015169409784331), (21, 0.010142686152518444), (1015, 0.010138768504789647), (447, 0.010106587972703605), (2040, 0.010090301095075244), (584, 0.010085102409666362), (4658, 0.01008377132186377), (3670, 0.010071054180500222), (675, 0.010054594196552226), (2346, 0.010013454607475884), (2486, 0.009986922309213546), (3453, 0.009985513221576111), (701, 0.009951632129397498), (622, 0.009901134049482008), (1064, 0.009874010111227885), (3961, 0.009853025866341226), (3699, 0.009847154512351991), (676, 0.009805372883517498), (760, 0.009805310929403881), (4293, 0.009793833966773961), (2925, 0.00976417511077646), (3777, 0.009762204540549881), (2910, 0.00975859026257448), (236, 0.009738405559433418), (1141, 0.009720874580967648), (1478, 0.009719762201605111), (4244, 0.009719392099174138), (4007, 0.009711446353337925), (879, 0.009692842162920424), (4469, 0.009689378118290945), (896, 0.009649780627183432), (162, 0.009646876088890666), (2645, 0.00964627723353741), (2096, 0.009632324931637518), (3741, 0.009618386682832198), (2154, 0.00961335230600227), (986, 0.009596163630337348), (3384, 0.009588623958942475), (4374, 0.009575733114662099), (875, 0.009551574225279195), (48, 0.009544574664176343), (87, 0.009523100197251541), (1483, 0.009498246421613874), (4379, 0.009452829638716503), (4619, 0.009431358426782879), (878, 0.009430806499655874), (1248, 0.00941044190325642), (4669, 0.009400476587474546), (4531, 0.009391953491678054), (3267, 0.009374581110967483), (1985, 0.009357892697414834), (3640, 0.009356215980697406), (3984, 0.009350099532691624), (1509, 0.009336526689588079), (853, 0.00933537464110427), (1275, 0.009317411881690964), (1442, 0.009308721124524888), (1740, 0.009287778909324253), (3637, 0.009284514853157639), (988, 0.009283492528145816), (3483, 0.009250529245333794), (2617, 0.009240416210583243), (2695, 0.009236701253626902), (461, 0.009216913488494568), (2522, 0.009216408659952807), (3504, 0.009215826213291221), (1237, 0.00921493382699919), (1132, 0.0092127720450746), (2919, 0.009149232858598338), (2949, 0.009139957347931521), (2447, 0.009139334758960772), (1481, 0.009138965443202494), (533, 0.009088444847553185), (2224, 0.009075975100923207), (1184, 0.009072200416369853), (3210, 0.009047307695051203), (2771, 0.009025325461832009), (4189, 0.00902199593703592), (4436, 0.009021023933237095), (500, 0.009003025547039068), (1017, 0.00900279248857535), (1343, 0.008993559518096467), (4673, 0.008987753087251492), (3756, 0.0089763087712481), (860, 0.008970293265796422), (497, 0.008965789894800085), (870, 0.008957938859156835), (1506, 0.008952101792930186), (422, 0.008944571150494959), (502, 0.008944193250250997), (3642, 0.008939423343593801), (51, 0.00892955079724532), (753, 0.008916070341965935), (112, 0.008914056739573902), (534, 0.008910777390469173), (18, 0.008901705410367113), (2727, 0.008874224923820341), (3382, 0.008866101751505658), (1252, 0.008864821208222958), (937, 0.00885030411199896), (3437, 0.00884362403905805), (3638, 0.008813651840088926), (1687, 0.008798733921277191), (4178, 0.008781233671668586), (3694, 0.008777628372310326), (1337, 0.00874993715936068), (1815, 0.008734151965637137), (2412, 0.008728653254155616), (2625, 0.008721399118114578), (1183, 0.008713417856435129), (1119, 0.00871126603935448), (1942, 0.008682540537437736), (2216, 0.008666871522322357), (1360, 0.008646669937196977), (4387, 0.008633264674139125), (2808, 0.008628986320162778), (2978, 0.008628820905632419), (1417, 0.008600584065700785), (1542, 0.008595754643384485), (842, 0.008592383651712873), (1232, 0.008580858517177214), (1967, 0.008569958078988062), (1739, 0.008559344343305804), (2070, 0.008554975425058814), (122, 0.008548667228618283), (652, 0.008546961322278678), (3018, 0.008542016741869548), (1385, 0.00853258787851605), (1681, 0.008515263409471709), (825, 0.008508361612275884), (876, 0.008503068476286993), (3842, 0.008501714191295225), (2024, 0.008498683941214537), (2334, 0.008494474146229523), (4477, 0.008493211992413353), (3807, 0.008491586969527006), (799, 0.008481515945210936), (543, 0.008479546622041013), (3775, 0.008473591538468763), (4048, 0.008472061760965653), (1388, 0.008466262134313483), (669, 0.008464092235154874), (1629, 0.008462904869896442), (542, 0.008457112234313845), (1047, 0.008446637611802192), (1621, 0.00844502347375818), (4148, 0.008440983318727268), (613, 0.008428438367526785), (1035, 0.008426746489678264), (1412, 0.008422501442834204), (370, 0.008396529652913369), (199, 0.00839652940159374), (1371, 0.008393933634550176), (4444, 0.008391528716214902), (530, 0.008365234234081984), (4004, 0.008357737194206728), (4122, 0.008352333268905334), (2784, 0.008342492243290095), (3660, 0.008316143728085226), (166, 0.008310175028749554), (3849, 0.00829611903233774), (145, 0.00829487858164087), (621, 0.008281536207567799), (4664, 0.008281322840321112), (1949, 0.008273746549832105), (939, 0.008262156395384634), (866, 0.008260256255679957), (4203, 0.008248346895237962), (3659, 0.008214550567328043), (1680, 0.008209351696716424), (2963, 0.00820773591845526), (2849, 0.008203602260699659), (501, 0.008198521328022979), (2555, 0.008195340519421009), (190, 0.008172814922709909), (2250, 0.008162713492744207), (3284, 0.008148426225758176), (3227, 0.0081254652333702), (4551, 0.008124572023511497), (2178, 0.008119280219579864), (2854, 0.008116053412592446), (418, 0.008109857624809579), (918, 0.008103189190442195), (1595, 0.008102738285924206), (942, 0.008087975716722137), (1853, 0.008078862907953807), (560, 0.00806935380439284), (1678, 0.008064075909230039), (532, 0.00806375910248933), (1667, 0.008055580738072032), (4121, 0.008051460677548049), (463, 0.008044137492555111), (224, 0.00804113121140098), (2602, 0.008039187838429131), (2739, 0.008037091308417869), (2840, 0.008010236475913838), (653, 0.00799966714516942), (2066, 0.007998781609715004), (4684, 0.007977590150234675), (4440, 0.007974682981278703), (2788, 0.00797252540838195), (207, 0.00795984727588498), (2961, 0.007945252926010135), (4164, 0.007943953332337283), (1671, 0.007919417181380523), (2174, 0.007918147892150618), (3899, 0.007913342047347402), (3794, 0.007907458442135744), (4510, 0.007907077756652399), (989, 0.007892292016243915), (3293, 0.007888140475511961), (4701, 0.007881854247233788), (3949, 0.007872999872920453), (276, 0.00784596841044444), (4481, 0.00784588385038409), (3318, 0.007845249406044117), (148, 0.007841590625526485), (3228, 0.007834206556879835), (4000, 0.00781870556828213), (2607, 0.007812609435224683), (4380, 0.007810218011441487), (3095, 0.0078085054826372725), (1107, 0.00779355616262415), (2464, 0.007791913391912306), (2918, 0.007777881073151154), (1591, 0.007776447291188919), (2581, 0.007769664839641222), (1665, 0.007759803774974575), (2324, 0.007756344850232646), (1436, 0.007753598055412541), (3679, 0.00774733711767374), (4033, 0.007743214032482396), (3635, 0.007726497587125836), (2188, 0.007725290296200094), (4660, 0.007721540277938425), (137, 0.007708408227325965), (3317, 0.007676260589074718), (915, 0.0076708031125860155), (1419, 0.007666397941242091), (1292, 0.007650939767689185), (304, 0.007650661171159118), (1054, 0.007635947283640129), (1303, 0.007634749004359079), (4679, 0.007622849000432147), (654, 0.00761146698573107), (1061, 0.007609957647952225), (4265, 0.0075987122426560555), (4475, 0.00758939189661499), (2655, 0.007579234589655004), (3819, 0.007575686591902669), (1314, 0.007565738533131451), (291, 0.007564847805225282), (1104, 0.007563829638461269), (4490, 0.007550417629975715), (3768, 0.007548828611236878), (3403, 0.007526748883336622), (4553, 0.0075245176040858045), (2742, 0.007524392326219388), (3535, 0.007523261265080729), (2427, 0.007509056141700891), (2780, 0.007493970826172463), (1264, 0.007488680691140656), (147, 0.007468531190448862), (2459, 0.007442640426911993), (4623, 0.007438774462220931), (2280, 0.007435511877367119), (4216, 0.0074293182113677105), (1162, 0.007420971213614098), (334, 0.007409611972325857), (4707, 0.007409285276126516), (201, 0.007396738383073611), (604, 0.007387638067109858), (3118, 0.007379027603514458), (2255, 0.007377857576570708), (1432, 0.007366104200563054), (2524, 0.007363170219962852), (1471, 0.007348609563819161), (2162, 0.007345831736231033), (4543, 0.00733331635502299), (52, 0.007329606496515315), (4325, 0.007314698242918924), (3045, 0.007290212119892136), (4612, 0.0072847177590228285), (149, 0.007282320541194348), (4699, 0.007281337446965056), (3992, 0.007270662892728913), (1074, 0.007261430299521135), (1789, 0.0072606619551604246), (2097, 0.0072572423967638385), (4124, 0.00722098730698502), (4227, 0.007215817994743176), (3085, 0.007211957896111086), (806, 0.0072092731737251475), (1989, 0.007206558424286037), (3924, 0.007191297223482228), (83, 0.007174021760019767), (2697, 0.007167004650286819), (916, 0.007158697851791407), (3901, 0.007154757404730979), (3507, 0.007150298414854574), (4656, 0.007143628199447316), (2429, 0.007141170554687742), (976, 0.007129598869997456), (4731, 0.0071275204918859435), (1992, 0.007114853025435232), (2519, 0.0070939101623612956), (3070, 0.007093092668419931), (629, 0.00708313590075179), (1796, 0.007082984833297352), (695, 0.007073789728445629), (2126, 0.007072694567930599), (795, 0.007066485046199342), (1832, 0.007036480310785907), (1858, 0.007026325424561971), (2206, 0.007011969285622013), (3232, 0.007010042257490703), (1000, 0.007009584278666778), (2363, 0.006990769284955981), (70, 0.006973817460584211), (2778, 0.00691280215386106), (4092, 0.006912762260304606), (2119, 0.006909996129897838), (931, 0.006904192957675281), (1774, 0.006903220859330015), (827, 0.00689853096398809), (3993, 0.006888589286476521), (2600, 0.0068741049620688255), (2388, 0.006873473125162159), (2621, 0.006871215299412781), (105, 0.0068673850142222225), (485, 0.0068526672489492135), (3612, 0.006843552720165775), (1230, 0.006835628938276196), (1958, 0.006827062071314271), (4593, 0.006823598948386108), (342, 0.006821147913057881), (4601, 0.006817209144594678), (3801, 0.0067997399579344375), (1387, 0.006795568049609933), (670, 0.006768765129078928), (1455, 0.006766433147069204), (4546, 0.0067618016800210425), (144, 0.006758818760641465), (4095, 0.006757307352833482), (1406, 0.00675369940815266), (1259, 0.006732195261296668), (274, 0.006729355085855605), (1185, 0.0067188621021782614), (2512, 0.00671818961453786), (2791, 0.006714996773876297), (801, 0.006710825164634814), (683, 0.006684223662032716), (1018, 0.00667039448474455), (790, 0.006668598271989037), (1923, 0.006663292356358225), (967, 0.006659720302493389), (667, 0.006639411068198984), (435, 0.0066116875709064885), (483, 0.00660950219644652), (2336, 0.006609017065416472), (1776, 0.006600470342930741), (948, 0.006597353717753299), (2029, 0.006596585591272824), (2057, 0.006595402359750516), (1173, 0.006576967603372756), (3521, 0.006566051005364468), (3711, 0.006551517257081967), (3155, 0.0065495508922743546), (1874, 0.0065401670698929), (3860, 0.006527484313362765), (3123, 0.006526785391930624), (4187, 0.006523030297668771), (3582, 0.006519893151750334), (1694, 0.006513268309888044), (1736, 0.0064795663735217664), (1226, 0.006474884344810741), (2879, 0.006461307743608461), (1300, 0.0064549714878167595), (1937, 0.006443096643811274), (1092, 0.006435172884057405), (142, 0.0063981372813564225), (3684, 0.006396737570767151), (1053, 0.006384822675537339), (4232, 0.006382775715539256), (209, 0.006379495337174865), (2948, 0.006358007395238048), (952, 0.00635449086885508), (1339, 0.006343067562084756), (2191, 0.006337522456744614), (2444, 0.00633577985201387), (829, 0.006331116151885129), (1438, 0.006318562707824853), (544, 0.006317203036666701), (2871, 0.006312303177234439), (5, 0.006311607288711885), (4235, 0.006298723077464461), (396, 0.00629046996646564), (1377, 0.006278308315319912), (244, 0.006268016660396839), (2110, 0.006266221482297926), (1334, 0.006263090948675597), (1527, 0.00625470235535432), (4163, 0.006253427762669033), (170, 0.006233766707082195), (4522, 0.006232778838507693), (4060, 0.006228164410262406), (991, 0.006226699779570125), (4450, 0.006221640007381608), (4710, 0.0061963995654287065), (99, 0.0061905539797729335), (2546, 0.006184288405700355), (792, 0.006176199784414942), (287, 0.006175940221878109), (1727, 0.00616083057574192), (1348, 0.006127808153607202), (3416, 0.006127009631774029), (1234, 0.0061242600202184895), (3303, 0.006118953695522033), (1440, 0.006118534109985943), (1071, 0.006106169040361569), (3956, 0.00609745102585584), (2016, 0.006076176026394728), (1754, 0.006056812656257965), (558, 0.006052810108608214), (4431, 0.006021574898297263), (270, 0.006020105584332946), (692, 0.006015523549815051), (333, 0.0060101107275099385), (2886, 0.006008210413820426), (1068, 0.00600412692274776), (4268, 0.00600172490720817), (3888, 0.005996939347374592), (3120, 0.005996898638463632), (216, 0.005991238835417936), (2080, 0.005988606060442287), (757, 0.005986358107556095), (2428, 0.005969299481148875), (47, 0.005968932537762898), (72, 0.005966792636986112), (4053, 0.005965492183799256), (994, 0.005962428033909589), (281, 0.005954581076512107), (43, 0.0059430113197180955), (4284, 0.005933757165949571), (111, 0.005933409100703812), (3349, 0.005930231542793821), (126, 0.0059224212737049465), (1317, 0.005906050927271306), (1338, 0.005904381904897998), (1582, 0.005877900642077361), (3713, 0.0058401646091578475), (3945, 0.0058243271918740945), (206, 0.005820414713563424), (173, 0.005813738842623062), (2075, 0.005797182267083501), (4517, 0.0057969276606980565), (4502, 0.005786266857851222), (684, 0.005764017170725527), (668, 0.005737633413736847), (3407, 0.005732651777214354), (4435, 0.005693962440477667), (3099, 0.005690894989921381), (2055, 0.0056742133788795), (2489, 0.005672804638669502), (894, 0.005659729412713458), (2228, 0.005649944083317282), (4118, 0.005649083945478929), (85, 0.005647697102056937), (3127, 0.005630411992672033), (1971, 0.005628557520296077), (2934, 0.005626833203689133), (256, 0.005624522165715207), (96, 0.00562228603994187), (4192, 0.005609890718603891), (4757, 0.005609077172358944), (3185, 0.005594661465569302), (2752, 0.005593370455806661), (1160, 0.0055846397136408606), (1968, 0.0055830227056299486), (3171, 0.005574023550552629), (2077, 0.005562278248194756), (3516, 0.005555977501990805), (3645, 0.005538319853213866), (864, 0.005536406837173078), (1290, 0.005525156906390333), (88, 0.005523552841547341), (4442, 0.005517377691551237), (930, 0.005511851032471525), (1513, 0.0054872507494460945), (1540, 0.005452390705764933), (3035, 0.005438907574553547), (1276, 0.005434670418129652), (4412, 0.00543247389437079), (2264, 0.005427206418414321), (285, 0.005412601743889939), (2093, 0.005403714387915899), (1138, 0.005402917683912585), (4094, 0.005402699237807202), (1806, 0.005401286276432332), (417, 0.00539967029069726), (3418, 0.00536259009784661), (1781, 0.005361971369569097), (120, 0.0053591972435200145), (1498, 0.005344316983826706), (3960, 0.005327080885074599), (1620, 0.005326217429329306), (251, 0.005318991118959253), (4089, 0.00531122204972392), (845, 0.005305477534156562), (581, 0.005302050333531507), (1507, 0.005295776136471007), (2304, 0.005291143487097943), (851, 0.005289886871301063), (816, 0.0052888363340247175), (3780, 0.005287348317091546), (3192, 0.005274793540159897), (436, 0.0052745423277236435), (861, 0.005263147052550759), (3905, 0.0052339997441618455), (3344, 0.005232920123540988), (2065, 0.005228922328404382), (2158, 0.005227104147152614), (443, 0.005226868330819942), (3975, 0.005213543884263915), (1854, 0.005208135317257985), (996, 0.005204820075933433), (1861, 0.005201805272764733), (3680, 0.005201796760647505), (911, 0.0052008767565863406), (4610, 0.005194658256430804), (563, 0.005189499565497356), (1429, 0.0051812422493754205), (3125, 0.005172762749656153), (1229, 0.005151649317026572), (910, 0.005149534517308934), (1489, 0.005138655302295705), (4629, 0.005138431127788688), (2440, 0.0051375885719393815), (1192, 0.005137301782576955), (280, 0.005135960215449247), (729, 0.005135605928285226), (4045, 0.0051223085888133365), (832, 0.00511738492677355), (4013, 0.005115585415982599), (2477, 0.005113542634437267), (687, 0.005110195466259392), (3556, 0.005109418289168053), (3674, 0.005100836244114044), (1922, 0.005100344801005972), (3149, 0.005091539548358802), (4494, 0.005089704452649707), (728, 0.005081793783178491), (1454, 0.005076018963298911), (106, 0.005072189985890384), (1876, 0.005060260017864055), (2076, 0.005059245118935706), (696, 0.005049617996198936), (566, 0.0050456497664225185), (869, 0.005033693202999379), (3692, 0.005021436794054142), (3844, 0.005012026694462701), (716, 0.005010779304365824), (2874, 0.005005932905120799), (3771, 0.0050027411619216755), (4666, 0.004993015123364211), (1472, 0.004979656711189705), (1735, 0.004978980445294667), (4283, 0.004971435893996387), (1918, 0.004965934886318169), (606, 0.004960408284358868), (3942, 0.004959873812873078), (3588, 0.004959344136363535), (828, 0.004957793869199756), (1484, 0.004948994511182309), (2994, 0.004948582761755166), (3666, 0.004947802098364794), (2635, 0.004943843688121581), (743, 0.004933190150705662), (2881, 0.004931259451999039), (4624, 0.004917851057717518), (3941, 0.004917176602492911), (4646, 0.004913637126084845), (1567, 0.0049112578880046364), (1510, 0.004909741237961746), (4151, 0.004908263298237588), (660, 0.004907599417739575), (4047, 0.0049064511065162915), (3502, 0.004905828000321939), (1005, 0.004901012890077074), (515, 0.0048924714497087735), (368, 0.004888355338673548), (217, 0.004885523948760309), (1344, 0.004877214087852032), (38, 0.004877107854729608), (2580, 0.004873929125837216), (1488, 0.004872192097384457), (4141, 0.0048714348235621326), (1987, 0.004870389210006893), (1866, 0.0048630054011555065), (494, 0.004861408474208965), (4233, 0.004846772401031118), (2344, 0.004845788619729676), (108, 0.004843549321488932), (2061, 0.004842199998156986), (4133, 0.00483088543239104), (1330, 0.004821177050545438), (1255, 0.004820409347785635), (2089, 0.0048173594448634866), (1393, 0.004816677057588758), (4046, 0.004815752720484777), (1865, 0.004815005336435448), (844, 0.00481436051290261), (4289, 0.004813338150169406), (808, 0.004808207455942602), (2273, 0.004807770410547185), (3240, 0.004804500480716317), (4557, 0.004802973266603085), (470, 0.004802512665094579), (2809, 0.00480220063303105), (4715, 0.004800691597831471), (3704, 0.004800231846269827), (3108, 0.00479940147593737), (4038, 0.004798671657517979), (732, 0.004798054897421882), (4537, 0.004797337512647043), (580, 0.004796267233607253), (3259, 0.004796013830792624), (2348, 0.004789696460435671), (4515, 0.004789571874971067), (3514, 0.004777501260458096), (1188, 0.004771136824984275), (719, 0.004768308076967026), (880, 0.004767745424137753), (1504, 0.0047623175194204635), (750, 0.004759930713628196), (4098, 0.004759564340765205), (3715, 0.004757513580794712), (1191, 0.0047565003068294875), (3196, 0.004756111841025827), (2104, 0.004754498774833965), (2468, 0.004741296487999455), (3534, 0.004734407651201231), (4219, 0.004731898759077294), (1544, 0.004731609467699894), (3797, 0.004731123041800153), (4579, 0.004730511094125888), (371, 0.004730004641511247), (3474, 0.00472773886546446), (4576, 0.004720189565802679), (688, 0.004715629882673279), (3032, 0.004714500322519504), (2897, 0.004711273605345295), (238, 0.004703402647257092), (2833, 0.004701081196002707), (4105, 0.004700254763608068), (367, 0.004686086017240367), (345, 0.00468111148879308), (981, 0.004679010947124316), (4282, 0.004673714396635022), (2279, 0.004672373732501759), (385, 0.004668041333804773), (3618, 0.004667132152390598), (1050, 0.004663268512433647), (1864, 0.004662364338984296), (727, 0.004655352840636255), (3464, 0.004651282219580786), (3022, 0.004649562958942616), (266, 0.004647785477327027), (222, 0.0046468187094123), (923, 0.004646757279055925), (833, 0.004642314093320121), (2988, 0.004639369485329659), (1536, 0.0046367856733857135), (3168, 0.004621242621278518), (4523, 0.004609488808587551), (4470, 0.004603434266786284), (2121, 0.004602635752702995), (3586, 0.004599799178162685), (42, 0.004597225053200314), (1924, 0.004592948538726828), (2031, 0.00458968729529349), (86, 0.004586610331129914), (1140, 0.004581859365288857), (3049, 0.004578472499403344), (1260, 0.004577693080253611), (107, 0.004565629266046569), (1231, 0.004562857879581183), (493, 0.0045607868133475124), (4691, 0.004559391239612595), (3331, 0.004557026062460099), (3391, 0.0045489164025191604), (4677, 0.004541937922942937), (2825, 0.004534782848196752), (255, 0.004530315251559262), (1225, 0.004527279459410689), (804, 0.00452557489615006), (1779, 0.004525289687383435), (2328, 0.004525274404688593), (1413, 0.004524166420073251), (1078, 0.004520598485212704), (350, 0.0045109016548975445), (3501, 0.004508565537910301), (139, 0.004504949317711768), (1179, 0.004504307612289486), (2443, 0.004503646574515652), (4432, 0.0044994431892895126), (4670, 0.004495556421229588), (143, 0.004494172018132289), (3487, 0.00449016398365179), (2899, 0.004485268525217199), (3653, 0.0044828478749465404), (2632, 0.004478114381633753), (2424, 0.004473130363403938), (1537, 0.004467933278208473), (3624, 0.004465843797335526), (356, 0.004462069813161471), (4514, 0.004461780886679049), (3112, 0.004456560683358519), (968, 0.004455259940921684), (1816, 0.004451285445001151), (4698, 0.004449910629807263), (908, 0.004446355642127762), (3802, 0.00444570546401229), (2088, 0.0044417632268388295), (2647, 0.0044406691587212995), (3810, 0.004437407409171938), (4486, 0.004436750383092821), (1705, 0.0044349442180291266), (3448, 0.0044330206176947376), (4697, 0.004429960655106415), (2598, 0.0044254971894422904), (1643, 0.004423275555665367), (4307, 0.004421588725387903), (34, 0.004419681896756324), (10, 0.004419440339639146), (3122, 0.004412665796704829), (1400, 0.004408482564766233), (644, 0.004408368182698789), (980, 0.00440536218970335), (1223, 0.004403783763404586), (69, 0.004399750756470066), (1931, 0.004397866215449869), (4390, 0.004393704627957434), (3460, 0.004386183851843351), (2374, 0.00437600072859759), (180, 0.004374941229585204), (1608, 0.004373791090215061), (769, 0.004364277902480866), (1116, 0.004360214176041336), (868, 0.0043599759964627685), (1555, 0.004351223978621545), (2606, 0.004350418072505562), (1902, 0.0043503582930524975), (3342, 0.004350266533338398), (369, 0.004345576483338974), (3661, 0.004337110786879695), (1811, 0.004329511667400146), (3153, 0.004323045262986558), (1760, 0.004320631316300172), (3571, 0.004312201074423138), (50, 0.004301373343244596), (3974, 0.004299761957113164), (4255, 0.004298711304382839), (3721, 0.004295542983156934), (3531, 0.004295296758097685), (2045, 0.004292711600853207), (1738, 0.004290637983922217), (208, 0.004290361280310343), (1707, 0.004290196668339917), (509, 0.004289559123806808), (3623, 0.004288843650819357), (690, 0.004285229841570843), (4733, 0.004279434557951534), (1019, 0.004271243149115307), (745, 0.0042640879683801085), (3435, 0.004263736231223092), (2724, 0.004261637635345313), (2069, 0.004261201306490577), (1076, 0.004259876686405491), (800, 0.004259119347757079), (3117, 0.004255915134717845), (3245, 0.004251384132278434), (3932, 0.004244891237730937), (3696, 0.0042430987839464675), (4527, 0.004241441537318537), (4299, 0.0042399311623719455), (3436, 0.004236289998744042), (1375, 0.004234334618719381), (1819, 0.004230329084619702), (2689, 0.004218691835501657), (3498, 0.004218296353864218), (3433, 0.004214396591929945), (406, 0.004209817200385745), (1433, 0.004209372367098945), (1585, 0.00419829176454995), (1986, 0.0041982399968552376), (3233, 0.0041981474409072805), (4674, 0.0041934062262580325), (31, 0.004190076845402322), (4176, 0.00418614558216031), (1220, 0.004180688176098549), (4093, 0.004180604943808265), (2714, 0.004180479822129571), (4309, 0.004177515578830768), (1981, 0.0041747567870183125), (4249, 0.00417386512945452), (474, 0.004171209851756454), (2803, 0.004170000110955227), (1674, 0.004168767779459787), (81, 0.004166630240102518), (936, 0.004166271310550099), (744, 0.004166252841373129), (1897, 0.004166012149322341), (0, 0.0041647147479082075), (1653, 0.004149461800516353), (1799, 0.004149361513755085), (311, 0.004146683793996755), (44, 0.004144360065420581), (3570, 0.004144003010504704), (2700, 0.004142649179232018), (1041, 0.004140837788748218), (4050, 0.0041398667513237964), (1282, 0.004137388667186047), (733, 0.004133963895131888), (1001, 0.004128058799808726), (642, 0.004124508019331046), (3499, 0.004121982760875468), (1213, 0.004099718440454897), (1174, 0.00408816606842099), (3705, 0.004088131850167119), (4518, 0.004083313396538915), (1847, 0.004076040101659868), (636, 0.004072787368410618), (2947, 0.004069822540523855), (2618, 0.004065446825045163), (4331, 0.004064714956485754), (608, 0.004062430274080523), (664, 0.004059878038260013), (1462, 0.004059244618691189), (3508, 0.004058081158068943), (3339, 0.004057349851643248), (2091, 0.004054894522779868), (40, 0.004041497049608702), (3995, 0.004039433473759881), (3195, 0.004039410501738584), (433, 0.004038603111607017), (953, 0.004030361020808816), (3658, 0.004029016745013926), (1945, 0.004026422864307223), (1960, 0.004023382729858593), (900, 0.004022170695715177), (831, 0.0040194918537855475), (1461, 0.0040178813522849305), (1065, 0.004010499614832002), (1128, 0.004010002830236466), (4281, 0.004005832436204605), (1721, 0.004004549466852403), (1421, 0.00400220080818645), (1083, 0.003990000140601451), (1044, 0.003971667930019358), (482, 0.003968138035616072), (2008, 0.003967974637719364), (3897, 0.003966054898554383), (4430, 0.003963822485171035), (1939, 0.003948091143928945), (891, 0.003944836340400088), (200, 0.003942277564236614), (3734, 0.003940449361529358), (1177, 0.003938409664111918), (1845, 0.003929369182128815), (1964, 0.0039203338011803614), (3957, 0.003919058714874426), (1214, 0.003915826674588599), (4581, 0.003912103206014911), (1215, 0.003904124759553375), (1356, 0.0038987619183696205), (2496, 0.0038891572524285224), (3841, 0.003886829629693567), (2917, 0.0038790303076492788), (243, 0.00387689233674777), (539, 0.0038745947635650557), (4595, 0.003869974035402454), (3513, 0.003864049228389426), (2759, 0.003857079900043194), (503, 0.0038499508557261687), (1892, 0.0038448822037637307), (1519, 0.0038428036969854725), (3910, 0.0038343177971765885), (4208, 0.0038312970498504506), (2506, 0.003830244614482482), (16, 0.0038244799268297605), (617, 0.003818979241200028), (4524, 0.003813992272477234), (329, 0.0038105518430109715), (4653, 0.003787300028848633), (1123, 0.0037832520062414557), (4154, 0.003781283973511393), (3065, 0.003757833039862), (2355, 0.0037483788947033133), (3727, 0.003745594226131849), (4261, 0.0037396392305923338), (4642, 0.0037392387863051176), (4746, 0.0037211294620560333), (442, 0.0037186363681732185), (4591, 0.0037136932061905964), (963, 0.0037035790602423357), (571, 0.003701248358948369), (562, 0.0036975271967680176), (4120, 0.0036890594785918994), (1829, 0.0036873515091426067), (271, 0.0036748648032920456), (4464, 0.003671390266869606), (2962, 0.003658576632267529), (3452, 0.0036487801092766137), (4661, 0.0036440629024584014), (512, 0.0036385101000036206), (742, 0.003629714870685102), (4665, 0.0036291310469149228), (1940, 0.003620198595887917), (116, 0.0036160129237867962), (4377, 0.003609782478828059), (2683, 0.0036057396920766323), (1797, 0.0035943763967806507), (4240, 0.003594274182305245), (4607, 0.0035842825880946596), (3438, 0.0035719600947613723), (863, 0.003567341627626225), (2184, 0.0035339037551915943), (296, 0.003516517806085197), (1414, 0.003512904910062561), (2208, 0.003509392978929237), (1627, 0.0035083718842603695), (2299, 0.0035002895684709363), (1448, 0.0034964752444712616), (4630, 0.0034947132847743642), (3876, 0.003478855131981518), (1788, 0.003465523372802742), (3604, 0.003462729319599949), (513, 0.0034383336471714102), (4251, 0.0034350145968187378), (4285, 0.0034229846274475067), (4344, 0.0034024552700392076), (2484, 0.003396723746994404), (1962, 0.0033940623581212278), (3143, 0.003393593131338802), (3997, 0.003393108701333183), (1443, 0.003382816417873631), (802, 0.003380205683968549), (4076, 0.0033670473421221667), (4587, 0.003366753978769465), (523, 0.003358707495570037), (3744, 0.00335601326565538), (1934, 0.003354022918002682), (4337, 0.0033535326222750915), (4119, 0.0033439371233565367), (2680, 0.0033372454857472514), (1812, 0.0033337200348503653), (2094, 0.003333080425357681), (1391, 0.0033327611161415244), (862, 0.0033233258498674904), (1202, 0.003312608459687904), (425, 0.003310824761099578), (4134, 0.0033087313850113237), (3387, 0.003303298488403997), (3774, 0.00330192712188649), (3815, 0.0033015957764870327), (4039, 0.003299330463647013), (4407, 0.0032955578933861565), (1194, 0.003294339337970806), (1420, 0.0032858476811098497), (2421, 0.003279699070525279), (1531, 0.003276148810750139), (1588, 0.003263970799465477), (1279, 0.003255189462304693), (4090, 0.0032547068602230785), (793, 0.003254449544199706), (4082, 0.0032514852264580525), (634, 0.003246178458280906), (1332, 0.0032458844751990785), (1925, 0.0032432781346496777), (3471, 0.003235868334005981), (4534, 0.0032356939427952707), (1280, 0.0032275460373430236), (2044, 0.0032274593631294204), (4571, 0.003226406228713054), (927, 0.0032263145312861076), (1381, 0.00322369826306539), (2181, 0.003220449925865092), (1167, 0.003220273314596519), (1975, 0.003209726126010187), (3178, 0.0032088024136151146), (6, 0.0032050400644213248), (380, 0.0032028636432555393), (849, 0.0032010332087903685), (810, 0.003199250913511547), (3787, 0.00319470487232602), (666, 0.003187708509199609), (3577, 0.0031850531376710306), (2252, 0.0031837884342219023), (233, 0.0031817879563810114), (1901, 0.003181202426174811), (1452, 0.003181149971577616), (992, 0.0031773905602969646), (738, 0.0031759426074758003), (1873, 0.003174745162552793), (2819, 0.003166807373838064), (2136, 0.0031615510363288955), (118, 0.003160206461020755), (3970, 0.0031601284466808563), (4043, 0.003159092863156087), (1435, 0.0031583703010564556), (4211, 0.0031582311603714146), (3440, 0.0031575344251552227), (4639, 0.00315627616401075), (2959, 0.003155689378084618), (2711, 0.00315184478805048), (633, 0.003150572207733091), (514, 0.0031479434832295938), (4158, 0.0031462793980427846), (3158, 0.003143848231977362), (3213, 0.003137409262385781), (1614, 0.0031353962014688585), (2330, 0.003130039431294165), (426, 0.0031201684354739308), (2074, 0.0031199366000113173), (2790, 0.0031180483614687273), (3512, 0.0031132000418336255), (2480, 0.0031124466346414037), (3124, 0.0031107517931479502), (1158, 0.0031089947506630837), (3908, 0.003108800236569355), (2757, 0.0031070622242435585), (3938, 0.0031045602502863664), (1857, 0.003103882975946113), (1154, 0.0030991496960210215), (811, 0.0030973574956376384), (4032, 0.0030965180672296393), (1568, 0.0030909029815970645), (2130, 0.003090044098240369), (1566, 0.0030871300525758937), (1426, 0.003086556958776272), (1009, 0.0030860750486317308), (1502, 0.0030849032050347834), (932, 0.0030846086791132977), (1575, 0.00308447383165933), (3616, 0.003081391992509607), (1941, 0.0030797675037559937), (3584, 0.0030783451584788448), (341, 0.003076866675545769), (1859, 0.0030754078510368496), (635, 0.003074808930678644), (1480, 0.003073800280471148), (855, 0.0030717275402444605), (39, 0.003070896774576597), (320, 0.0030702153386083795), (1724, 0.003070115010763409), (3131, 0.0030662865140134395), (540, 0.0030662580118281197), (2567, 0.0030656845408317283), (3005, 0.0030651906854666697), (4162, 0.003065146797110162), (4107, 0.0030621788559671583), (919, 0.00306055300346338), (3180, 0.003057559620369882), (2084, 0.0030568069487847283), (3404, 0.003054860276361364), (3881, 0.003052260640261634), (550, 0.003050877160447166), (1396, 0.0030507183460336787), (2998, 0.003043995364219719), (315, 0.003040477645875328), (2838, 0.003038980362193967), (1469, 0.003037820566646466), (4103, 0.003035450695165334), (3161, 0.0030342767197511942), (1431, 0.003028879060465123), (4462, 0.003024197156291339), (1723, 0.0030235836636074015), (4466, 0.003022098058592212), (3886, 0.0030191525051128185), (1791, 0.0030147277197803755), (3011, 0.003014086096589596), (1952, 0.0030140321161098373), (1380, 0.0030096056652333197), (2078, 0.003009211093301992), (2682, 0.0030077287525238612), (1817, 0.003007221582758624), (95, 0.0030043541636045608), (310, 0.003003221102917523), (4312, 0.003001343379394339), (1996, 0.002998918208919693), (2231, 0.002995563400884214), (1632, 0.0029955317581686603), (1407, 0.0029949202124196434), (1150, 0.002988853318490928), (3443, 0.002987152258579232), (2550, 0.0029847740383668565), (1449, 0.0029827960739526762), (2245, 0.0029803813307368973), (537, 0.002971902548037467), (2834, 0.0029699898761708014), (2197, 0.0029670842623893984), (4708, 0.002966650111494531), (1428, 0.0029664564045044322), (375, 0.0029642736776808593), (3163, 0.0029606935102846313), (420, 0.0029596065074554297), (125, 0.0029583419071133577), (3537, 0.002957986981883283), (3555, 0.0029559997458472745), (1662, 0.0029548521511665563), (2960, 0.002951692550152822), (1933, 0.002951512313735912), (1127, 0.0029508909342933075), (3833, 0.0029505792841460154), (2560, 0.002950361269257011), (2488, 0.0029494156662133847), (1846, 0.002949176245248516), (30, 0.0029477017842081746), (3166, 0.002947005662462428), (4384, 0.0029468319690489917), (1631, 0.0029439092227986005), (2529, 0.002943519007256797), (4091, 0.0029425329873471835), (2283, 0.002941160213576632), (2501, 0.002940992733930133), (3398, 0.0029391989584275943), (2733, 0.0029386252015231574), (1661, 0.0029345538016849297), (1573, 0.0029327428630776613), (3456, 0.0029311270983902052), (2787, 0.0029302144446240177), (102, 0.0029293727934446598), (1099, 0.002926778675003199), (3179, 0.002925161524142534), (1302, 0.002924646708927906), (2626, 0.0029233324561109657), (460, 0.0029200611059534325), (2490, 0.0029137633159923982), (313, 0.002910455059232765), (4275, 0.0029083724598456553), (389, 0.002908130553065413), (3824, 0.00290740629271986), (2269, 0.002907399863518922), (1998, 0.0029068351887216654), (1930, 0.0029038168405543163), (3263, 0.0029015727233296044), (1554, 0.0029004543622707622), (3126, 0.002900041222828913), (3506, 0.002899971369045219), (3523, 0.002899250484879596), (4263, 0.0028991160533350623), (2442, 0.002898873263736672), (3140, 0.0028978559207661018), (4621, 0.002896942380462099), (3769, 0.002896743634752323), (902, 0.0028965800802309405), (3051, 0.002895546856832276), (4392, 0.002895292175785769), (354, 0.0028944947991657406), (4264, 0.0028925945868839634), (1993, 0.002891834228887388), (3446, 0.0028916722114209906), (1953, 0.0028894462732246004), (2764, 0.0028878987814934666), (2314, 0.0028878483212694673), (685, 0.0028866802216479023), (1384, 0.0028829810467664013), (3468, 0.0028807542861450704), (2379, 0.0028805246647555676), (3710, 0.002879243055272449), (305, 0.0028791237734833225), (2858, 0.0028780369307589812), (3747, 0.0028778421954101198), (4360, 0.0028777265383733647), (2137, 0.002877378616080495), (1546, 0.0028770594695182103), (332, 0.002876776115467807), (3576, 0.0028762811477813536), (2599, 0.0028751862938856875), (4023, 0.0028730240685293632), (3116, 0.0028675251897851053), (4678, 0.0028672042256709957), (779, 0.0028666298260585582), (2929, 0.002866360245731331), (288, 0.002865895547669845), (4468, 0.0028644787215004967), (2266, 0.0028643868437079846), (1659, 0.002859547286109411), (4062, 0.0028585010415155534), (347, 0.0028572092117398885), (3364, 0.0028547662535514987), (3234, 0.0028547550956105915), (2576, 0.00285461913059939), (1900, 0.0028543588174551964), (3136, 0.002853005832934655), (3907, 0.0028526766582836725), (2984, 0.0028501088662003745), (1840, 0.0028456163535122638), (2541, 0.002842252230755111), (1910, 0.002841470121806293), (4513, 0.002840787336286447), (4202, 0.002839290298952554), (3191, 0.0028368325199142506), (3040, 0.0028348916560041308), (2957, 0.00283474654794346), (2062, 0.0028335243800194365), (2673, 0.0028334205294932233), (294, 0.002832804342069346), (3426, 0.002832553186676133), (2989, 0.002829351829919558), (306, 0.002827821297323498), (2847, 0.002824422539560621), (1590, 0.002823815801532673), (2251, 0.0028217684064272565), (1562, 0.0028200976916728485), (762, 0.0028165273385728586), (2246, 0.0028131170129676985), (2992, 0.0028122324072016903), (1129, 0.002811947890281946), (128, 0.002809954724054586), (4589, 0.0028090927749657994), (3367, 0.002808965402132408), (303, 0.002807968026581522), (4586, 0.002807730124211971), (2407, 0.002806851708705328), (1270, 0.002804143352021522), (295, 0.002800677321535712), (322, 0.0028005459064717802), (3990, 0.0027995509507887577), (1210, 0.0027993328745524286), (1927, 0.0027981767588776264), (2492, 0.0027950474706054996), (2889, 0.0027947731396266843), (1622, 0.0027944134282767595), (1458, 0.0027934094629791604), (4248, 0.0027861194967605907), (803, 0.002782660057029183), (4365, 0.0027817111744837604), (1904, 0.0027809906730879297), (220, 0.002780935461029015), (2015, 0.0027794582113051564), (4704, 0.0027740156936402393), (4310, 0.0027739832931215525), (3052, 0.002772593335678518), (3754, 0.0027717553171376533), (1272, 0.0027687708200241114), (1551, 0.0027634297490839814), (3925, 0.0027628800559824354), (2569, 0.002761940849604798), (3561, 0.0027595067471036295), (2404, 0.0027590650554132614), (4552, 0.002755851048355166), (1630, 0.0027549052296959474), (1772, 0.0027536058928722827), (3219, 0.0027532013889705657), (2636, 0.0027521916686232364), (1197, 0.0027521169018717147), (3338, 0.0027517421668325683), (27, 0.0027510207664755157), (619, 0.002750921699807903), (3030, 0.0027507905587082107), (2870, 0.0027470731663259995), (2278, 0.0027458403221118127), (1347, 0.0027437263693307484), (1003, 0.0027435856995330463), (327, 0.002741805825939387), (2892, 0.0027401799689733396), (321, 0.002738109474630547), (1773, 0.0027313921610818354), (3823, 0.0027304477169266027), (1266, 0.0027296574814091703), (4366, 0.0027289963878549335), (2619, 0.002728533388686656), (1881, 0.0027281949053875403), (2731, 0.0027248312498329903), (3363, 0.0027230376670610494), (4222, 0.0027216049626014533), (4582, 0.002718622538711145), (4383, 0.002717970872167958), (974, 0.0027178525870766514), (1701, 0.0027161141010047427), (239, 0.0027145728133766943), (467, 0.0027145191162827004), (4221, 0.0027139979975135653), (3129, 0.002713930494240417), (93, 0.0027131481618762466), (2232, 0.00271298351478004), (3133, 0.0027118843519097747), (3989, 0.002709003298902233), (775, 0.002707230637301852), (4292, 0.0027069406689815335), (1623, 0.002706764292823453), (1732, 0.00270554127202958), (3939, 0.0027044107876269875), (3451, 0.0027038633851174582), (4339, 0.0027005622091743828), (640, 0.002694997685334019), (1262, 0.002693604639738057), (2494, 0.002691889954621465), (3139, 0.0026886793939314944), (1281, 0.0026884480680449026), (3495, 0.002687500207060515), (3583, 0.0026853484243217615), (4172, 0.0026824714348282616), (468, 0.002681824045874883), (2789, 0.002681813319608224), (4071, 0.0026807961929233484), (3282, 0.002680088387844486), (2722, 0.002678313526722182), (2189, 0.002678268913255392), (3804, 0.0026780140738222654), (3432, 0.0026753070403314036), (1576, 0.00267218206743909), (2937, 0.0026714049573019994), (1012, 0.002670321340639349), (2857, 0.0026702394413457343), (625, 0.002664095449716594), (559, 0.002662844414515026), (595, 0.0026584293219080713), (4290, 0.002657695676876481), (1082, 0.0026575636246388176), (809, 0.0026561343358665417), (1784, 0.0026516516674802084), (2991, 0.0026509695444398174), (765, 0.002650319086188805), (1838, 0.002650190898041564), (1207, 0.002649435609672026), (152, 0.002649164168184714), (511, 0.00264751045044896), (191, 0.0026466245719192418), (187, 0.0026461079296557838), (2392, 0.002645689373345737), (3762, 0.0026453413073079454), (261, 0.002645082783589213), (4322, 0.0026436363752035293), (4441, 0.0026427215392417287), (1761, 0.0026420126181334854), (3357, 0.002638448700856716), (469, 0.00263546545166702), (1914, 0.00263396224642894), (3788, 0.002631763026160091), (2425, 0.00263146795576162), (290, 0.0026309847446284074), (997, 0.0026291237552483427), (2448, 0.0026279935854039913), (1120, 0.0026275971238788024), (3892, 0.0026272588359304364), (1211, 0.0026269343894545936), (234, 0.002626792732126987), (4585, 0.0026262998710086423), (4423, 0.002626134573270454), (3672, 0.0026245113340138586), (4169, 0.002623305497950061), (2643, 0.0026224456683586065), (2320, 0.0026201655040258994), (3159, 0.002617323518946963), (2744, 0.002616687040830403), (4376, 0.002614713019171479), (3322, 0.0026133784203871287), (3101, 0.002612844830028044), (1451, 0.002611801747769915), (2257, 0.002611708404527967), (3262, 0.0026116631218202893), (2901, 0.0026061700118574344), (397, 0.0026060551263216666), (1852, 0.00260508343340986), (4230, 0.0026017919683148385), (1633, 0.002600077617307407), (1587, 0.0025996862902988296), (3215, 0.002596931448693552), (2591, 0.0025963099192040347), (723, 0.002595552405465007), (4193, 0.0025951292051044684), (160, 0.002594233224545139), (756, 0.0025927884205576503), (4267, 0.0025920972513227185), (2326, 0.0025912791695764962), (135, 0.0025904850028231237), (2349, 0.00259032016435549), (4044, 0.0025886119225320384), (3134, 0.0025881735600006266), (4438, 0.0025831665234811872), (3853, 0.002582888609897326), (2400, 0.0025790838914734313), (76, 0.002578238982192201), (2416, 0.002576209918064595), (2561, 0.0025747272019251235), (4286, 0.0025739738342679206), (3723, 0.002571004369789043), (4606, 0.002569626252510724), (77, 0.0025682737000214707), (94, 0.002567462112621009), (3291, 0.0025660445860078724), (3651, 0.0025634422236229626), (3218, 0.002560495975159846), (4643, 0.0025577201276436043), (2423, 0.0025574096222126157), (3220, 0.002555714470904497), (2139, 0.002551520964020905), (4611, 0.002547515560055751), (2537, 0.0025472801428743416), (438, 0.0025457382027777578), (2861, 0.00254534739066593), (3782, 0.0025446077470208145), (46, 0.002544492958217929), (3361, 0.002543831481224884), (4689, 0.002541261610300481), (2775, 0.002538806325637171), (4695, 0.002538402214836195), (3042, 0.002536688957956985), (2633, 0.0025323248645824467), (3520, 0.0025311797128221973), (2432, 0.002528930298915992), (4024, 0.0025281026668096647), (2559, 0.002526090378068096), (3884, 0.0025184040315394374), (3055, 0.0025180849845550593), (1635, 0.0025180276679361907), (3279, 0.0025178489627753647), (2434, 0.0025174886336036995), (323, 0.0025135235285132238), (877, 0.0025131767002105915), (2678, 0.0025106406607388124), (273, 0.002510410184137519), (2601, 0.0025069495636796946), (3922, 0.00250669104242312), (2883, 0.0025052132974265123), (451, 0.002503687624592651), (2531, 0.0025016768276969765), (3832, 0.0025011948293578727), (4696, 0.0024960037712750682), (3602, 0.0024959166972693355), (3813, 0.0024951880734356284), (4328, 0.002491340451371065), (3353, 0.0024910245901052824), (1145, 0.0024896127739877454), (4572, 0.002488795154115113), (80, 0.002485742455427129), (2923, 0.002484528021671096), (3484, 0.0024843921941961203), (3664, 0.0024822270075245336), (3479, 0.002480654970833406), (4106, 0.0024796977254589263), (2740, 0.0024796745426211983), (2310, 0.0024785453420451894), (3951, 0.0024733914056649696), (189, 0.002471524310228819), (3206, 0.002471310067158393), (3601, 0.0024640055713519636), (893, 0.0024628221376604446), (3157, 0.0024617025892354426), (4274, 0.002460262028437345), (1493, 0.0024600615578581728), (2624, 0.0024588539119689353), (2712, 0.00245297495374695), (2454, 0.002451599219463355), (2622, 0.002448584801061059), (3405, 0.002448127090898565), (2415, 0.002445273060099391), (2570, 0.002443110272778631), (3235, 0.0024424729904202083), (3763, 0.002442061502685887), (4756, 0.0024411956747685225), (2652, 0.0024396232875339265), (3100, 0.002438120503695803), (2820, 0.0024377557397490487), (3316, 0.002434028701349879), (4225, 0.0024331859344644286), (260, 0.0024288109158739643), (4458, 0.0024214558883502105), (3425, 0.0024197168568321184), (661, 0.002418526692614107), (2882, 0.0024158474639871855), (2736, 0.0024157784256101044), (735, 0.0024113146699158493), (316, 0.002409675381824108), (3079, 0.0024085903955321773), (2696, 0.002407756739598054), (4101, 0.002407236124710484), (3806, 0.0024058686095205025), (4705, 0.0024015168686797395), (3848, 0.0024010524346784303), (2640, 0.0024003599752014247), (2350, 0.002394654248081475), (4632, 0.002393324558709071), (4717, 0.0023926905257658834), (2772, 0.002391220565455164), (979, 0.0023905561808433484), (2720, 0.002390004459520744), (314, 0.002388969779591265), (3878, 0.0023885494324085237), (3015, 0.002387254732102451), (3354, 0.00238686024500716), (2831, 0.002385320557182329), (1559, 0.0023836476225006483), (90, 0.00238175040621236), (2707, 0.0023792359960954496), (3160, 0.0023782555210313835), (4030, 0.0023767203261291087), (1696, 0.0023753208518100077), (2585, 0.002368936312273376), (3687, 0.0023668431142518987), (2832, 0.0023591802339037187), (791, 0.0023570682916767595), (3302, 0.0023504245927969004), (3429, 0.0023497510762165194), (4723, 0.002349578351824873), (4426, 0.0023495198813337373), (4749, 0.002349419366672489), (3128, 0.0023493037941367477), (3135, 0.0023478273847742427), (3283, 0.0023434010718824494), (1309, 0.0023431634244379038), (4544, 0.0023419561559117957), (3396, 0.0023416004082896244), (2993, 0.0023375174353297756), (2872, 0.0023373677293988485), (3264, 0.0023337216274863194), (3165, 0.002330933674104181), (3952, 0.0023286150437765666), (1208, 0.002326465474075208), (4418, 0.002326160481267831), (4521, 0.002319786862823626), (3242, 0.0023180442562224074), (4753, 0.0023154226279888655), (2966, 0.00231492431708068), (639, 0.0023144865524127502), (2495, 0.002314262710495848), (2410, 0.002312684943485113), (4243, 0.0023108893169442226), (3296, 0.0023094965223257238), (3619, 0.002308674962608025), (3183, 0.00230688685470082), (4732, 0.0023044812649091876), (4333, 0.002301705045371052), (3414, 0.0023015297295170614), (4400, 0.0022958456872023947), (3776, 0.0022920182196135303), (2628, 0.002291191756854296), (4019, 0.0022895331741297218), (3274, 0.0022878850339495857), (3613, 0.002281081700651843), (898, 0.0022741813673625706), (2916, 0.002273451101209039), (78, 0.002272847776924397), (4017, 0.002268695370327765), (2738, 0.00226768386331164), (3241, 0.002264107092478141), (3966, 0.002255884821555525), (2391, 0.0022556133525837067), (1153, 0.0022543001872363114), (2613, 0.0022507554640837863), (3062, 0.002250626798633546), (4584, 0.0022478738519955874), (970, 0.002247764433351941), (3477, 0.002244354026055395), (4102, 0.0022423768293006476), (3074, 0.002236098856038712), (4692, 0.002234966516520084), (1753, 0.002231907632907018), (4206, 0.002229936615834108), (4555, 0.002227624280191667), (3359, 0.0022259984631115017), (3269, 0.0022256183555313187), (4002, 0.0022197673486145206), (4650, 0.0022113342043503163), (3247, 0.0022106070963064588), (3258, 0.002208021258266366), (4126, 0.0022055916378294115), (2986, 0.002198899383580142), (3874, 0.002198803001554912), (2705, 0.002198277376400009), (4713, 0.0021944352586670108), (3639, 0.0021926736649736265), (3962, 0.002188150032726715), (3579, 0.0021878822723500257), (4368, 0.0021878475996496382), (4016, 0.0021874961732124606), (3239, 0.0021849326258341433), (4540, 0.0021818575001513164), (4495, 0.0021786626587588236), (4262, 0.002177857050457819), (2293, 0.0021761740675104607), (2821, 0.0021707285208870625), (3544, 0.002168662837172883), (4718, 0.002167340177626634), (1023, 0.002167216140995919), (1699, 0.002166881812804296), (3737, 0.002161881420273663), (2317, 0.002158241218880036), (3020, 0.002148945159326414), (3299, 0.0021477214767501897), (2288, 0.00214767539018173), (3822, 0.0021468259953021525), (3198, 0.002143758575076384), (3037, 0.0021433883521860824), (2236, 0.0021373017304837953), (289, 0.002135861833283219), (2801, 0.002132393814580416), (3889, 0.0021284647468612495), (4529, 0.002125393052302043), (2890, 0.0021239334620189658), (2436, 0.0021222271767713887), (3857, 0.0021175938137311117), (3081, 0.002116980713734843), (3778, 0.0021133673217456003), (2230, 0.002112557093307709), (2573, 0.002109471342172815), (2401, 0.0021020329734693383), (3678, 0.002101359023602862), (3273, 0.002098267156048137), (3527, 0.002098202779246033), (2199, 0.0020950912451095393), (4308, 0.002093719440148265), (2286, 0.0020920670297573944), (1088, 0.0020908665380069097), (2475, 0.0020868113476734556), (3497, 0.0020775330604843392), (2651, 0.0020765946370218005), (3292, 0.002072441210747711), (526, 0.0020592126715877077), (612, 0.00205920198199597), (2884, 0.002059050525999828), (2907, 0.0020564225332119503), (1395, 0.0020551997629641348), (3067, 0.0020526608458369074), (2226, 0.002052512714096453), (4014, 0.0020524489320659146), (2072, 0.002052128026450529), (4298, 0.0020514352534805463), (4484, 0.002043133622524155), (4567, 0.0020427572205403157), (2237, 0.002040484890511634), (2845, 0.0020393559383548683), (1366, 0.002029672365820015), (4685, 0.002029647686650015), (3620, 0.002029147443909165), (4706, 0.002028765712920392), (4306, 0.002028630501155723), (3314, 0.002023643812515922), (2340, 0.0020230719349893867), (4269, 0.0020216841357238017), (4280, 0.002020778402514382), (4369, 0.0020203939244973386), (2289, 0.0020162263127318216), (2544, 0.0020157838883053747), (2748, 0.002012111417984498), (2769, 0.00200889553103075), (2914, 0.001999180023739097), (4446, 0.00199597145608173), (1919, 0.001995712829038636), (3027, 0.0019926781471732227), (3827, 0.001990655105856189), (4051, 0.0019833071267529685), (1594, 0.001977827184273623), (4361, 0.0019762672441495884), (1518, 0.0019752943172046916), (2385, 0.0019738722356981023), (4693, 0.0019724490827450272), (1168, 0.0019720746525896107), (4113, 0.0019643629916944933), (1593, 0.001956435721664841), (3944, 0.0019564323079871975), (1655, 0.001951479836506688), (4259, 0.001947236694051176), (3739, 0.0019413953640208853), (985, 0.0019396722740268552), (3151, 0.0019373293208818628), (3257, 0.0019372470150154978), (2111, 0.001936551635439986), (3057, 0.0019353114817936003), (3967, 0.0019335483272339932), (3307, 0.001932967821289889), (3677, 0.0019326211552980618), (4087, 0.0019322966344756276), (3770, 0.0019309158407459844), (3013, 0.0019306036179049934), (2060, 0.0019297707291535788), (925, 0.001929185497806588), (4395, 0.0019284709480439182), (3590, 0.0019277778445715823), (3214, 0.0019272072502714592), (1533, 0.001925762270634336), (3036, 0.001924577471074102), (4734, 0.0019227641629871335), (4287, 0.0019206487092997971), (434, 0.0019197776301878482), (3729, 0.0019184645238338517), (2438, 0.0019180852016857709), (3772, 0.0019164339227533988), (4171, 0.0019137641965995978), (3308, 0.001912167810054255), (2642, 0.0019113716515503161), (3526, 0.0019095835202662674), (4054, 0.001908502974915252), (3903, 0.001906500778341672), (2190, 0.0019039579831021615), (3647, 0.001903678722695965), (4573, 0.0019027774114576666), (1805, 0.0019025953945459608), (3007, 0.0019022118807364096), (1357, 0.0018980239058051821), (1929, 0.0018973844881860727), (2193, 0.0018968949795669303), (3003, 0.0018938622713904072), (4505, 0.001893672710856426), (2755, 0.0018911126166599385), (1450, 0.001888377682987604), (3719, 0.0018863700372166543), (4228, 0.0018838133866561145), (2853, 0.0018835558322925835), (1100, 0.0018800082146913416), (1164, 0.0018768476883546008), (2306, 0.0018763402680843188), (4497, 0.0018758638812701198), (1813, 0.0018712115408360882), (1711, 0.0018703082473523734), (889, 0.0018700938485287934), (4604, 0.0018672538946358504), (3458, 0.0018668198174524048), (813, 0.001866595227986191), (933, 0.0018656115278675859), (3757, 0.0018618921780930821), (3449, 0.0018555829050255254), (4145, 0.0018551281909459949), (3072, 0.0018521787630858713), (4545, 0.0018519628698822838), (4416, 0.0018511868239925971), (3524, 0.0018502842950435072), (2592, 0.001849257904062118), (2848, 0.0018465172602970363), (2453, 0.0018456549480813616), (4340, 0.0018437044944823971), (3423, 0.0018419694400403856), (847, 0.0018414289561600506), (1848, 0.0018407927597328007), (2797, 0.0018393307088274313), (1637, 0.0018387507456742202), (2437, 0.0018385154758344179), (4419, 0.001837408179870977), (3044, 0.00183681136784897), (2975, 0.001836455158912812), (623, 0.0018360754504919675), (2796, 0.001835370500187251), (3252, 0.0018346140508866391), (2974, 0.0018301315361361845), (74, 0.0018250951782622915), (246, 0.0018240240735220624), (1946, 0.0018216072102379187), (2535, 0.001819201119854415), (1254, 0.0018189683853100903), (1887, 0.0018167414262348438), (3386, 0.0018157222422563765), (1109, 0.0018156512082565474), (490, 0.0018143297398681363), (2900, 0.0018141254521293615), (2563, 0.0018138939894308673), (456, 0.0018136121150265794), (4627, 0.0018106665366664947), (2924, 0.001808937073303636), (1494, 0.0018083486355859727), (1479, 0.0018080666716900925), (2895, 0.0018060312532920274), (1959, 0.0018057223949908597), (2904, 0.0018053446933491573), (4694, 0.001804906685623291), (3668, 0.0018037990368576663), (3289, 0.0018030424599384948), (614, 0.0017998150871298168), (1410, 0.0017994199326528252), (2725, 0.0017953961695275236), (587, 0.0017952839330020094), (278, 0.0017942703700586555), (1007, 0.0017937664923726884), (508, 0.0017936297196032376), (1049, 0.0017926336969011098), (3611, 0.001792626736602193), (957, 0.001792445415626982), (432, 0.0017915985582343977), (326, 0.001788953296709548), (249, 0.0017883841419538272), (4117, 0.0017883831118274977), (1666, 0.0017879621112117934), (3906, 0.0017878425833363959), (4359, 0.0017876864513110633), (3935, 0.0017866997910395155), (4042, 0.0017852016901480185), (2502, 0.0017811572903869582), (1782, 0.0017810385396897148), (499, 0.0017807197923921424), (1286, 0.001780457434095566), (4680, 0.0017800350499211027), (2557, 0.0017798774099836454), (605, 0.001778219697331276), (2527, 0.0017761972464135367), (1619, 0.001773784101966906), (3230, 0.001773527188530074), (783, 0.0017706966579518278), (589, 0.0017705227249614913), (3866, 0.0017676483414183785), (4321, 0.0017675511737494396), (4277, 0.0017668377438968326), (1456, 0.0017659609251157746), (3877, 0.0017655543268860398), (1110, 0.001762865800700928), (1793, 0.0017624518741062797), (2418, 0.0017624321607338257), (959, 0.0017614546901870394), (2953, 0.0017611660155395308), (2623, 0.0017598978242776794), (2221, 0.0017598125178452583), (3358, 0.0017587722032541082), (4401, 0.0017561816712351691), (1169, 0.001754321381804804), (2478, 0.0017537454571602451), (2830, 0.001753714468022376), (1043, 0.0017534488250336897), (2940, 0.0017526462716251502), (3031, 0.0017517441461597763), (3565, 0.0017513248884476222), (2533, 0.0017499871653397375), (121, 0.0017494906217274658), (198, 0.0017477189703315672), (4729, 0.001746980602161024), (777, 0.0017457619223614986), (1547, 0.0017451249987694066), (3503, 0.0017446483752716886), (1416, 0.0017435798709868357), (4081, 0.0017431745326385857), (1251, 0.001740865917679372), (857, 0.001740222041722321), (969, 0.0017394007967820447), (4652, 0.0017358966774005504), (1916, 0.0017354366145748105), (4574, 0.0017349600620642268), (2878, 0.0017345864360045055), (2765, 0.0017335092168171296), (98, 0.0017327274595930616), (2302, 0.0017326823020877965), (3587, 0.0017318389340097962), (3000, 0.0017308407541773397), (3380, 0.0017308332656987876), (1884, 0.001730784987689203), (731, 0.001730526533999292), (2319, 0.001729836773931287), (3920, 0.0017291884524605811), (3406, 0.0017289324317089013), (1359, 0.0017287367619739902), (2166, 0.001728436612451903), (1503, 0.0017276460784558662), (4381, 0.0017273744861200128), (226, 0.001727293273421731), (1284, 0.0017262949136694831), (2977, 0.0017260838706186176), (624, 0.0017256767017808986), (4135, 0.0017243650409937807), (2746, 0.0017236523522960292), (2411, 0.0017217662825348393), (3560, 0.001721547655708723), (1580, 0.0017209522637587486), (1890, 0.0017204876609813696), (3184, 0.0017201871448861898), (3728, 0.0017187722222511655), (193, 0.00171742881310872), (1243, 0.0017164035798931587), (2520, 0.0017163347596082733), (2786, 0.0017161224841645303), (3654, 0.0017159804770247257), (3413, 0.0017127972861410992), (2554, 0.0017121167208070237), (4020, 0.001711664357381947), (4605, 0.0017114489349173915), (3271, 0.001711262888894139), (3434, 0.0017105463009067542), (739, 0.0017099514312855478), (4334, 0.001709690767025365), (4079, 0.0017092523826342718), (3621, 0.0017084412695914997), (3689, 0.0017056681772944884), (3706, 0.001705382358052065), (1717, 0.0017053493011132427), (457, 0.0017052317290672519), (448, 0.001705159978718817), (4448, 0.0017049338569664124), (2505, 0.0017045750470810316), (4304, 0.0017033903229156154), (3714, 0.0017022114107886374), (4147, 0.0017021330472503902), (2047, 0.00170074853885534), (2970, 0.0016996843227948667), (203, 0.0016988144418314786), (1650, 0.001698080580805304), (2969, 0.0016972665604069847), (4633, 0.001696383987280153), (2946, 0.0016963597111700603), (1121, 0.00169567707798413), (3341, 0.0016945933693838595), (2378, 0.001693667882059826), (941, 0.0016933223292802885), (1187, 0.0016921926823424021), (431, 0.0016918978528171137), (1798, 0.0016906183824077793), (3412, 0.0016903985645226388), (737, 0.00168996862333715), (283, 0.0016895513849143214), (3182, 0.0016895356227240393), (3826, 0.0016894063480652301), (3069, 0.0016881161967476751), (1828, 0.0016860314127842596), (4535, 0.0016842025085607808), (3390, 0.00168393246300833), (949, 0.0016839252183190258), (715, 0.0016831898696318584), (1204, 0.001681987942977808), (4489, 0.0016812769531224933), (4743, 0.0016808250977205594), (388, 0.0016801971490044477), (3348, 0.0016791048219090582), (399, 0.001678849725653348), (3298, 0.0016787050282839008), (4266, 0.0016778420416076235), (2528, 0.0016776983832054598), (2964, 0.001677575871473512), (3225, 0.0016766350079593876), (4025, 0.001676437785364379), (2552, 0.0016762180037240494), (3355, 0.0016755072278860806), (2397, 0.001675129705200604), (4132, 0.0016751209653488146), (489, 0.0016748714966105958), (3388, 0.001674834838595692), (4575, 0.0016745486878963097), (579, 0.0016738354373842398), (2844, 0.0016737104922720837), (4566, 0.0016736507213063886), (4528, 0.0016734738149061475), (3447, 0.0016732805465389424), (1219, 0.0016727803369749215), (355, 0.001672055176228901), (2049, 0.0016720143966446415), (2911, 0.0016717037805468492), (1947, 0.001671365017461608), (4516, 0.0016700399083611497), (247, 0.0016695861432793877), (444, 0.0016672933294754257), (1710, 0.0016662674178159755), (1905, 0.001665984479452571), (2634, 0.0016659065276008994), (3893, 0.001664006092764684), (4625, 0.00166337972715694), (3873, 0.001662928159233029), (2362, 0.0016620620898111726), (4295, 0.0016614383095632666), (2945, 0.0016613649477151603), (782, 0.0016605948232159586), (2370, 0.001660486801016089), (4254, 0.0016602184873817526), (2099, 0.0016596850909653747), (1768, 0.001659618803438625), (3551, 0.001659499378178413), (3336, 0.001659050952684369), (1112, 0.0016582874581708507), (3669, 0.0016581737045202026), (962, 0.0016576853427959228), (1733, 0.001657673557023758), (655, 0.0016576080175380924), (1951, 0.0016574550850404803), (4371, 0.0016573444413771736), (2909, 0.0016571972255819136), (2611, 0.0016571799070682306), (4139, 0.0016567705525171808), (4140, 0.0016566820279370698), (204, 0.0016564322287258206), (2894, 0.0016546700258423682), (2393, 0.0016538374994444502), (1660, 0.0016530953392068447), (178, 0.0016526363989525167), (3417, 0.0016512370683045515), (2142, 0.0016506693255532862), (2422, 0.001649846100115311), (1404, 0.0016497672624843321), (4085, 0.0016497527208830735), (1597, 0.0016496335310130198), (1175, 0.001649351097446241), (2629, 0.001648126703339023), (638, 0.0016470381927381646), (1995, 0.001646612488644622), (1860, 0.0016463278185539433), (541, 0.0016458208728116252), (2133, 0.0016456840427512764), (3636, 0.0016456679170342896), (984, 0.0016452799451677628), (2650, 0.0016451771833683538), (221, 0.0016449846668453462), (627, 0.0016447936659875334), (2571, 0.0016447104760942246), (2356, 0.001644170469848543), (2702, 0.001644024807398993), (4686, 0.001643386110592064), (2430, 0.0016422451460444808), (1683, 0.001642029286278018), (2556, 0.001641975896211883), (4197, 0.00164186491116417), (478, 0.0016404023343894588), (218, 0.0016397977487807233), (518, 0.001639773665117697), (2303, 0.0016383459884511606), (3389, 0.0016378609322874934), (3749, 0.001637635035821027), (2108, 0.0016372991939103488), (2144, 0.001636979621942081), (1780, 0.0016362835438338452), (2674, 0.001635875307941879), (1409, 0.001635238623870456), (1096, 0.0016351644474675963), (1124, 0.0016348278613720828), (1247, 0.0016347641708271325), (2387, 0.0016337678636578088), (2980, 0.0016337330996105798), (402, 0.0016329571390165745), (1851, 0.001631289694013706), (2987, 0.001631222629382846), (4638, 0.0016310694232181259), (235, 0.0016310571742164438), (850, 0.0016303450170286784), (15, 0.0016292296265450904), (4130, 0.0016290452217494658), (4355, 0.0016289045951203341), (4200, 0.0016288851017446564), (3064, 0.0016274090622666725), (2354, 0.0016273246724634175), (3216, 0.0016273224228105852), (2593, 0.0016272295243799004), (1474, 0.0016270591253172604), (4471, 0.001626311148338352), (1682, 0.0016256597785299519), (2792, 0.0016252251538631172), (4161, 0.0016250858081683969), (826, 0.001624878606846787), (4330, 0.0016246723892947511), (3596, 0.0016241452883956234), (1349, 0.0016240284921851134), (2595, 0.0016231993777353132), (1748, 0.0016222009488073964), (4011, 0.0016220761320929681), (374, 0.0016217726296340654), (3111, 0.0016216054783946524), (3496, 0.0016212340422895914), (3890, 0.0016207746642714835), (2151, 0.001620151729052011), (2073, 0.0016200620118134023), (1617, 0.0016193866408828889), (2995, 0.001619327188521424), (3337, 0.001618785743177929), (1712, 0.0016182700096423165), (3187, 0.0016174397842372346), (3329, 0.0016174042755009352), (626, 0.0016172970768068063), (3237, 0.001617188742493585), (3186, 0.0016160885381036347), (3410, 0.0016154468018750585), (2149, 0.0016149318783959645), (3707, 0.0016148019065475743), (3540, 0.0016132163359816915), (1036, 0.0016125951850360577), (464, 0.001612429387347773), (4136, 0.0016122683289063688), (4397, 0.0016114017761895652), (2965, 0.001611137443333032), (1378, 0.0016094792417922156), (987, 0.0016091513515744948), (3643, 0.0016087627588662347), (4273, 0.0016076749321629552), (4472, 0.0016074177676676511), (3765, 0.0016072027022241266), (2783, 0.0016068134473635621), (3517, 0.0016066320217799233), (1318, 0.0016062336026223412), (1907, 0.001605931233581245), (2213, 0.0016054079772732299), (2926, 0.0016053757981073016), (4111, 0.0016052640128497706), (2011, 0.0016051541913771794), (1656, 0.0016048594625195482), (2116, 0.001604826933930308), (4075, 0.001604002506928701), (4487, 0.0016032704862774937), (3915, 0.001602599081594958), (4318, 0.0016023574441719347), (4138, 0.0016023145000762468), (1893, 0.0016018092698555336), (318, 0.0016017106966510145), (132, 0.0016015994768961597), (228, 0.0016013338862022907), (3557, 0.0016008021999711327), (4507, 0.0016004469343274814), (1543, 0.0016004207517644731), (749, 0.0016000484817807494), (3898, 0.0015999428123275104), (487, 0.0015996223606511237), (2779, 0.001599475992391265), (2572, 0.0015990224860401444), (4349, 0.0015985125111534285), (551, 0.0015984319133406876), (767, 0.0015981029275941119), (4386, 0.0015978091982424565), (887, 0.0015976792460381567), (2698, 0.0015970919872367552), (2758, 0.001596941227777573), (2545, 0.0015968140957361837), (4394, 0.0015964582794598722), (1616, 0.0015959984799934156), (3599, 0.0015957132057410632), (1052, 0.0015955299627835775), (4183, 0.001595516699859757), (3399, 0.0015954902272133742), (1170, 0.0015954804819180283), (2565, 0.001595373242560621), (2159, 0.001595328333918233), (407, 0.001595249799413474), (466, 0.0015943575954158445), (2753, 0.0015940956585142262), (4687, 0.0015939113603423817), (419, 0.001593712455077296), (4049, 0.0015930578980129547), (872, 0.0015928879926498953), (2242, 0.0015928245411721657), (2195, 0.0015928086503591437), (3148, 0.0015926890946391737), (1719, 0.0015925011850017599), (1402, 0.001592387331805906), (215, 0.0015918435436662146), (1382, 0.0015914652213959775), (1048, 0.0015912905022582701), (2747, 0.0015907425998579815), (192, 0.0015898641563888817), (3369, 0.0015898196953621508), (262, 0.0015896157234671488), (3352, 0.001588634258425766), (3845, 0.0015884578817712957), (212, 0.0015883765621033561), (975, 0.0015883367570940611), (279, 0.0015880369206192405), (2841, 0.0015877574072005096), (4712, 0.0015862522262973622), (1764, 0.0015857404134036618), (934, 0.0015854274036347154), (104, 0.001585348396930058), (922, 0.00158446346907516), (698, 0.0015844382773477599), (4348, 0.001583967957121626), (3665, 0.00158383314227602), (1301, 0.0015822218847581693), (3046, 0.0015816587183367227), (358, 0.0015816468006925948), (2721, 0.00158093208226595), (351, 0.0015808863392185917), (2000, 0.0015800727904824556), (3792, 0.0015799613635312886), (3569, 0.0015798487382334893), (1324, 0.001579761231043886), (631, 0.0015794771333753708), (495, 0.0015791587550410555), (33, 0.0015785524167352643), (2402, 0.0015782596111645051), (1827, 0.0015778384194574573), (1122, 0.0015770444049892957), (2609, 0.0015767348048451493), (3564, 0.0015766175373969342), (848, 0.001576295407519924), (23, 0.0015756172562358297), (2419, 0.0015753488956316106), (3014, 0.0015752600581034023), (1658, 0.001575239748615191), (576, 0.0015750422572529093), (2403, 0.0015745630949616364), (395, 0.0015744920427879304), (3056, 0.0015741659743246587), (4461, 0.0015732829952456449), (1497, 0.0015731849247259315), (2936, 0.0015731346730319274), (1075, 0.001572910873863821), (865, 0.0015725211106448764), (4427, 0.0015724425827834147), (2134, 0.001572054524751084), (12, 0.0015715458670944866), (973, 0.0015714449446876761), (1571, 0.0015713349548502657), (3335, 0.0015709451502982047), (1688, 0.0015703623052025246), (2997, 0.0015701480688916365), (4056, 0.0015693677779779229), (2039, 0.001569338791037611), (1476, 0.0015691187807559993), (2105, 0.0015690853422610667), (3094, 0.0015687958652522117), (2463, 0.0015667956786697883), (1862, 0.0015665578018193588), (3799, 0.0015663401780679313), (740, 0.0015662655570966306), (41, 0.0015660703344459043), (1871, 0.001565870879155229), (4363, 0.001565219315915421), (2741, 0.0015643386122715774), (1516, 0.001564067737616032), (2766, 0.0015630981850661464), (4550, 0.0015626667919588625), (1765, 0.0015618780453620898), (20, 0.0015614343365167992), (127, 0.001560891247907992), (3290, 0.001559434055479012), (2292, 0.0015578022561233966), (2359, 0.0015577789169274395), (3673, 0.0015573818893019418), (373, 0.0015567172820023915), (2169, 0.0015563045521743834), (3313, 0.0015561027806072804), (2405, 0.0015558733486096662), (3919, 0.0015557034223811668), (2301, 0.0015545110145780236), (1131, 0.0015543278571069018), (897, 0.00155407819727902), (651, 0.0015531539677331866), (1896, 0.0015528483535494461), (2117, 0.0015521989016761314), (3445, 0.0015519460071560544), (253, 0.0015508185505423361), (1909, 0.001550683968731249), (2396, 0.0015504119673450912), (353, 0.0015502700610158437), (4657, 0.0015494750143559767), (1807, 0.0015493087577254973), (1843, 0.0015492679176035173), (3593, 0.0015484161597519007), (4036, 0.0015480040418280592), (1792, 0.0015476511262281173), (1872, 0.001547543430095108), (4634, 0.0015475090466025054), (4066, 0.001547412707712706), (1722, 0.0015473420062226432), (871, 0.0015472850854313972), (2223, 0.0015470184322977244), (3745, 0.0015468626571436344), (1439, 0.0015466419126888282), (2361, 0.0015465716893021714), (4501, 0.0015464613577311683), (1475, 0.0015460183994489137), (883, 0.0015457752723962808), (1026, 0.0015457651870742527), (993, 0.0015456563718290123), (2313, 0.0015449416019044804), (2474, 0.0015447821630694331), (79, 0.0015444062584083669), (183, 0.0015443089722536672), (157, 0.0015442191743547022), (1364, 0.0015436001392951813), (175, 0.0015425124975889438), (2399, 0.0015422915859709617), (1306, 0.00154222561397595), (510, 0.0015419946803448155), (1080, 0.0015413346427756325), (2131, 0.0015410126892708438), (659, 0.0015408663384040915), (2265, 0.0015403999114325109), (2863, 0.0015398965089401446), (3246, 0.0015388836520069823), (169, 0.0015385663671213302), (998, 0.0015384390718835787), (3016, 0.00153653146376194), (4320, 0.0015358116809828404), (2612, 0.0015358093912099455), (2798, 0.0015358064150764006), (330, 0.0015357154373135565), (817, 0.0015355262540604905), (3615, 0.0015350979004434607), (4399, 0.0015349610699294963), (3558, 0.0015349413308960794), (4382, 0.0015345484484007587), (3419, 0.0015336998554801625), (3917, 0.001532743355349532), (2367, 0.0015325167239468379), (2610, 0.0015324049672874127), (4563, 0.0015321610018567352), (504, 0.0015318360317855835), (307, 0.001531626451905657), (999, 0.0015308484931307743), (3492, 0.0015304323781260161), (3811, 0.001530323343998352), (184, 0.0015295967853278252), (4213, 0.0015286816272175735), (1027, 0.0015286217437835258), (2679, 0.0015281610766459106), (2664, 0.0015281359676671449), (2800, 0.0015277422407692191), (1087, 0.0015274113420791328), (2473, 0.0015265734984717652), (2954, 0.0015263922091326837), (2148, 0.001525026109274432), (2260, 0.0015249295680672605), (3784, 0.001524579472614118), (2386, 0.0015233551347225832), (4409, 0.0015232129793820782), (4598, 0.0015231648753356436), (4391, 0.0015223303057557251), (29, 0.0015220915418811395), (3536, 0.0015214151921997343), (616, 0.0015207417305531682), (1304, 0.0015206724810038865), (1446, 0.0015197965587766269), (1570, 0.0015197308824600982), (378, 0.0015192040953345644), (3, 0.0015187696023336542), (3855, 0.0015185293364202207), (4649, 0.0015182079333679942), (3911, 0.0015175293176001659), (4420, 0.0015163939770074233), (2068, 0.0015161514676948153), (3372, 0.0015159584646487032), (1500, 0.0015154640866500465), (1625, 0.0015154578489907154), (597, 0.0015153400738475275), (1706, 0.0015149290785182296), (2051, 0.0015148426496368844), (2876, 0.0015147448169508637), (1553, 0.0015146371158106851), (4247, 0.0015145526281543737), (115, 0.0015143189873725778), (2446, 0.0015141117968269645), (596, 0.0015136519780206486), (4356, 0.0015133641016305457), (472, 0.0015132875052358155), (164, 0.0015130487646339349), (4074, 0.0015126300836429095), (2390, 0.0015125723752121773), (1477, 0.0015121224638423086), (1084, 0.0015121128493884542), (657, 0.0015116727208039893), (1691, 0.001510847832622261), (24, 0.001510822793096049), (1033, 0.001510788131266694), (114, 0.0015102561341833788), (3402, 0.0015101807018952048), (1206, 0.0015100217329311117), (3882, 0.0015096423929013352), (3075, 0.0015096275653754994), (2526, 0.0015093011220565873), (901, 0.0015092531069943894), (2004, 0.0015092508730726788), (480, 0.0015091366106324703), (3026, 0.0015089749112863586), (3243, 0.0015086376279062933), (286, 0.0015085762737100461), (3839, 0.0015079755700413097), (4343, 0.0015072373548838383), (349, 0.0015067053025159126), (1598, 0.0015056527114638964), (588, 0.0015056396788654383), (1808, 0.0015055218136730494), (4142, 0.001505275129538705), (1216, 0.0015050294233318155), (1294, 0.0015048330189660166), (3491, 0.0015047972443255956), (1365, 0.0015042407235320418), (2942, 0.0015033318312208976), (3500, 0.0015030738587859893), (3541, 0.001502640177703047), (2027, 0.0015020803670734034), (324, 0.001500347927952826), (2083, 0.0015000212921506605), (4059, 0.0014994990937436479), (4536, 0.001498693036283163), (2534, 0.0014982153737566044), (1163, 0.0014977092505481008), (8, 0.0014968751745809128), (3821, 0.001496737962706767), (2862, 0.0014964312518094202), (1392, 0.0014964197514502923), (4, 0.0014963370354512788), (26, 0.00149519156472017), (348, 0.0014949807736648728), (449, 0.0014949208518797675), (867, 0.0014942794284509265), (182, 0.0014936928656293516), (476, 0.0014922015077483762), (400, 0.001492168412812381), (3829, 0.001491921037802821), (3346, 0.001491416069794712), (3071, 0.0014907663466713432), (2209, 0.001490448167564221), (2943, 0.0014871757522286581), (921, 0.001486807665076944), (446, 0.0014855794712134978), (4326, 0.0014854939583966531), (1463, 0.0014854660642079996), (3393, 0.0014852808650377394), (267, 0.0014850244846546863), (2141, 0.0014845629479363883), (1550, 0.0014841576435721917), (4357, 0.0014839684314658485), (2103, 0.0014832527228598228), (154, 0.001483039948775485), (2776, 0.0014826535860103926), (717, 0.0014820774276161732), (269, 0.0014819825407652424), (705, 0.001479857550233093), (759, 0.0014798552491797016), (3147, 0.0014797684397701968), (3478, 0.0014778950941279805), (4479, 0.0014776834196179819), (1875, 0.00147656244708052), (2466, 0.001475777114694796), (1032, 0.001475658702220569), (3173, 0.0014746075874129216), (3542, 0.0014745276124505352), (3226, 0.0014737030163238542), (3093, 0.0014736737893365588), (2568, 0.0014731950379024683), (3199, 0.0014730161165339634), (343, 0.0014713552277108685), (3742, 0.0014711252677080033), (1685, 0.0014706235684563676), (1411, 0.0014703719874654046), (607, 0.0014698437792957935), (1117, 0.0014698133037464882), (202, 0.0014692596471208791), (1403, 0.0014692305471218623), (1423, 0.001467670173243995), (4345, 0.0014676070114129243), (1176, 0.00146681854104054), (2603, 0.0014666743571927136), (3986, 0.0014659625867924956), (2035, 0.0014658885672475665), (4336, 0.001465077556977585), (71, 0.0014646635690262523), (1822, 0.001463477607289328), (66, 0.0014623993208725124), (3376, 0.0014622964636641811), (3211, 0.0014622323909992633), (4083, 0.001462010258175762), (471, 0.0014609191360113597), (578, 0.0014604331958245464), (794, 0.0014592456475993434), (1350, 0.001458364266979924), (1936, 0.0014583007215660082), (1703, 0.0014578654153657692), (1313, 0.00145669515442702), (242, 0.0014554117816307681), (475, 0.0014544617706430658), (2976, 0.0014539973024486174), (890, 0.0014536815964256752), (1006, 0.0014535766103032635), (1319, 0.0014530218152962898), (3311, 0.0014527705474300032), (4174, 0.0014519512981423504), (292, 0.001450211177702285), (3493, 0.0014491055444567687), (3927, 0.0014489126937286404), (2163, 0.0014484698297273918), (1663, 0.0014483672637226924), (346, 0.00144824897107477), (818, 0.0014480014375559615), (1528, 0.0014479480382178186), (2481, 0.001447788443214064), (3641, 0.001447531541365083), (2888, 0.0014473737505622162), (1565, 0.0014471217205643044), (1203, 0.001447117733909911), (1869, 0.0014470657784394565), (3278, 0.0014465285827348678), (2132, 0.001446516262610459), (1245, 0.001446445032316093), (3614, 0.0014455139434327636), (609, 0.0014454050912514668), (798, 0.0014449951701352682), (4015, 0.0014448698127116817), (1645, 0.0014445310635581691), (4080, 0.0014443175551004095), (2176, 0.0014436305434125788), (158, 0.0014432294009228954), (2309, 0.0014411859297925246), (372, 0.0014405525854890157), (1367, 0.001440484557434661), (3238, 0.0014404363399431856), (4744, 0.0014387583093684168), (4182, 0.0014379568976821376), (805, 0.001437559739183952), (1002, 0.0014372304639049221), (3170, 0.0014360276498972008), (1370, 0.0014352328475855441), (377, 0.0014318430757975387), (1408, 0.0014307072015370351), (2268, 0.0014303635417678444), (308, 0.0014293803278588337), (3781, 0.0014292903287983069), (441, 0.001427833478649663), (1539, 0.0014269229338478438), (2525, 0.001426700908397217), (1762, 0.0014263336453089628), (2812, 0.0014256655399945437), (63, 0.0014250950217297254), (1814, 0.0014247487493144518), (2277, 0.0014247166076455933), (2553, 0.0014240993376077996), (2902, 0.001423975608431255), (3646, 0.0014232298222929404), (3194, 0.0014230537147562603), (197, 0.0014223731727661594), (2201, 0.0014221135351869078), (2507, 0.0014216721649433159), (3024, 0.001421430777794807), (165, 0.0014211666119556818), (2931, 0.0014210272101568798), (4245, 0.001420898229201422), (3875, 0.001419390529135029), (3347, 0.0014191311649989036), (211, 0.0014189707349268224), (1298, 0.0014186829844257786), (1891, 0.0014171759550765607), (3268, 0.001416916755475784), (2034, 0.001416915369319401), (4155, 0.0014166663369767692), (2653, 0.0014163340284602199), (899, 0.0014161572168788058), (524, 0.0014161456744603658), (156, 0.001416052251354972), (884, 0.0014160055515531104), (3150, 0.0014159637674511791), (92, 0.0014159112223124794), (796, 0.0014158774742233141), (3987, 0.0014154828728196935), (196, 0.0014145434351996587), (1305, 0.0014143247586686789), (3733, 0.0014137545184269267), (4422, 0.001413725299767397), (2509, 0.0014135358237512225), (2323, 0.0014131519986160873), (4640, 0.0014120909440751958), (1920, 0.0014119768243435636), (2129, 0.001411686448835204), (3084, 0.001411055383930683), (195, 0.001411014317965293), (445, 0.0014106987781210439), (1759, 0.0014100394992189575), (2728, 0.0014099341014085728), (3902, 0.0014099312033237796), (4504, 0.0014092176461729094), (1877, 0.0014086813865429352), (838, 0.001408389017266287), (4520, 0.0014082512888976063), (2915, 0.0014079449193861344), (815, 0.0014076192810200804), (227, 0.001407112853792088), (357, 0.0014070487428876036), (2067, 0.0014060370409168254), (856, 0.0014059278029448243), (309, 0.0014058812842873563), (680, 0.001405682415992641), (1114, 0.0014056358537574618), (907, 0.0014051325912012558), (129, 0.0014049839028627813), (4052, 0.0014045681168017472), (4636, 0.0014042100369913487), (3900, 0.0014035343818572968), (159, 0.0014035165386619211), (268, 0.0014034296148936305), (4616, 0.0014034030901044917), (1830, 0.00140333450598378), (61, 0.0014020843586037765), (1308, 0.001400803127118519), (646, 0.0014005865157229948), (734, 0.0014004502208575), (4257, 0.0014001580003842624), (11, 0.0014000714596581385), (1690, 0.0013998336267567), (364, 0.0013992364075584595), (4428, 0.0013992151991723792), (4156, 0.0013984169489163736), (564, 0.0013981874057088148), (1072, 0.001396119855477763), (32, 0.0013957611064241864), (4603, 0.0013945996327816431), (1969, 0.001392915689136903), (2192, 0.0013926560237511438), (620, 0.0013926513956759882), (140, 0.001392215297964527), (4511, 0.0013921423628893903), (4220, 0.0013917671046250165), (4350, 0.0013917633072924598), (412, 0.0013912892161671883), (2826, 0.0013905389596132055), (4311, 0.0013898837567685228), (2999, 0.001389665383455447), (1464, 0.0013895945422292798), (1372, 0.0013895352922209969), (4641, 0.001389106967132032), (1730, 0.0013887538840611912), (1670, 0.0013881322697937017), (1394, 0.001387303348483754), (1950, 0.001387291518585651), (1355, 0.0013861681451602006), (1943, 0.0013860432274497383), (1743, 0.0013842476586739916), (3327, 0.0013842013164716558), (2933, 0.0013828572599225136), (465, 0.0013815285272241334), (3809, 0.0013808299343777285), (843, 0.0013808078005461094), (3224, 0.001379597278824295), (1642, 0.0013793671306373818), (697, 0.0013793192488259338), (2338, 0.0013786174656493753), (1434, 0.0013785730031733458), (4296, 0.001378446206374454), (2382, 0.0013778550000045097), (4069, 0.0013773824851712826), (1352, 0.0013760902300405272), (496, 0.0013754685427118916), (1199, 0.0013746484793788923), (3538, 0.0013745951416667696), (2461, 0.0013743313680016863), (1954, 0.0013730932640977351), (3050, 0.0013724487727365038), (1708, 0.0013718781774895428), (410, 0.0013711009450346461), (1004, 0.0013706623749356955), (1161, 0.001369209620645896), (4476, 0.0013676072313740782), (527, 0.0013669480658824301), (1209, 0.0013665137670813992), (1628, 0.0013646590037858597), (1574, 0.0013635784305499477), (886, 0.001362934719364689), (2441, 0.0013628830253089846), (3113, 0.0013627981303390574), (1641, 0.0013625518998394593), (1612, 0.0013615335060587197), (2457, 0.0013612725295797008), (1921, 0.0013592816654750893), (1312, 0.0013583146306891207), (895, 0.0013568208535414382), (2143, 0.0013564377614238986), (3285, 0.001353518166400792), (3381, 0.0013531844191064374), (1744, 0.0013513126403799467), (1422, 0.0013467206831844405), (1672, 0.0013467056060425143), (703, 0.0013461472413963), (944, 0.001343560263222284), (924, 0.00134294424278922), (229, 0.0013422637551873087), (3606, 0.0013415390405809191), (97, 0.001340768598199548), (1034, 0.0013405627165316142), (854, 0.001338332011596796), (1831, 0.0013380789540512667), (1648, 0.001337896996302929), (103, 0.00133746115218732), (645, 0.0013371385395958585), (1144, 0.001337090112398419), (4620, 0.0013369838955712345), (4205, 0.0013367163917033132), (1340, 0.001336655731784696), (940, 0.0013343253279588323), (3627, 0.0013340301443461058), (325, 0.0013338610651177191), (2538, 0.0013328221631484568), (1742, 0.0013323773380555445), (3300, 0.0013310086517884518), (2661, 0.0013308371976222802), (2347, 0.0013301188700989702), (1273, 0.0013298848998903527), (3200, 0.0013291373770548168), (3379, 0.0013287905937160224), (60, 0.0013281875989346668), (1182, 0.0013273428292144866), (2087, 0.0013263604951138594), (2482, 0.001324840716693934), (4445, 0.0013239797618709809), (1079, 0.0013235412023471815), (722, 0.0013223869693704809), (1882, 0.0013220796586266021), (113, 0.001320436260523286), (4143, 0.001318812327416755), (1514, 0.001316432868327668), (1465, 0.001315701820582766), (488, 0.001315418965850825), (1693, 0.0013153831641328467), (1826, 0.0013149150822160233), (7, 0.00131412352982691), (1020, 0.0013137550105390525), (3755, 0.001313540001656311), (359, 0.001313010724253687), (4129, 0.0013112751988844928), (317, 0.0013100857452852338), (119, 0.001309584364862354), (437, 0.001309481128495436), (4626, 0.0013087517192491346), (473, 0.0013087398023051144), (1558, 0.0013080114377990357), (1677, 0.0013048063550052307), (691, 0.0013040222551153823), (403, 0.001303135221289301), (3392, 0.0012977658356437246), (3795, 0.0012972268287700997), (416, 0.0012958333757859461), (3691, 0.0012946856027860286), (3304, 0.0012937532192205158), (2587, 0.0012931113179503078), (647, 0.0012922537847997054), (452, 0.0012919957871196587), (1415, 0.0012918930972662251), (1605, 0.0012913146206265699), (611, 0.0012886052780073751), (1136, 0.00128834114515487), (2248, 0.0012879483752513423), (755, 0.0012877294671172883), (2285, 0.0012876817130921968), (966, 0.0012868547724215126), (707, 0.0012861869395381798), (1217, 0.0012856951039102642), (252, 0.0012852694930622231), (3548, 0.0012815634483767874), (3657, 0.0012813186978903259), (453, 0.0012810763866765865), (507, 0.0012792892946198778), (1624, 0.0012783469451267155), (293, 0.0012778100659118744), (1077, 0.0012760397355312397), (2270, 0.0012691128834337211), (3152, 0.0012691072592218879), (3667, 0.0012676558384251096), (2735, 0.001264774195883292), (1801, 0.001260854394471325), (4530, 0.0012596905828033181), (951, 0.0012591141330141992), (3863, 0.0012561165761101579), (3953, 0.0012559652581122741), (598, 0.0012555385663876417), (3096, 0.001255507445986902), (594, 0.0012541274042743255), (3441, 0.0012540732793466622), (3431, 0.0012538909230971407), (2287, 0.0012498070415673953), (136, 0.0012493552878967084), (3575, 0.0012484071155634885), (3725, 0.0012443222685145467), (82, 0.0012429641171387712), (4429, 0.0012421056083778985), (2146, 0.001239931674439172), (4748, 0.0012392727102664013), (4301, 0.0012288695432829935), (3634, 0.0012170043397980717), (4411, 0.0012094543798478042), (1040, 0.0012092159008407675), (3455, 0.0012092137230406625), (929, 0.0012047904615063696), (1037, 0.0012043833817566069), (3421, 0.0012015515457714158), (824, 0.001201461231856941), (3954, 0.001201446323062554), (1538, 0.0011984082526659105), (3608, 0.0011978688979310047), (1042, 0.0011849167150791455), (1747, 0.0011834143518270582), (706, 0.001181987030934735), (2743, 0.0011788735842665973), (2127, 0.0011758991448147433), (712, 0.0011710744372492533), (505, 0.0011692697346545125), (2211, 0.001167724464989165), (3928, 0.001157382326540946), (194, 0.0011555042737914272), (4473, 0.0011491563174327785), (1833, 0.0011491143471026271), (3365, 0.001148622999960004), (3894, 0.001142539973962112), (3895, 0.0011348894077171628), (1980, 0.0011164494949020376), (2240, 0.0011089463777820897), (3626, 0.0011024977570773763), (2010, 0.0010929181171667034), (4752, 0.0010854296881015076), (2469, 0.0010702327120322133), (1277, 0.001063705863514425), (1427, 0.0010558268091763678), (3546, 0.001055070162241397), (3835, 0.0010264145716759134), (3301, 0.0009040734563906437), (1, 0.0), (2, 0.0), (9, 0.0), (13, 0.0), (14, 0.0), (17, 0.0), (19, 0.0), (22, 0.0), (28, 0.0), (35, 0.0), (36, 0.0), (37, 0.0), (49, 0.0), (53, 0.0), (54, 0.0), (55, 0.0), (56, 0.0), (57, 0.0), (58, 0.0), (59, 0.0), (64, 0.0), (73, 0.0), (75, 0.0), (91, 0.0), (100, 0.0), (101, 0.0), (117, 0.0), (130, 0.0), (131, 0.0), (133, 0.0), (134, 0.0), (141, 0.0), (146, 0.0), (150, 0.0), (151, 0.0), (153, 0.0), (163, 0.0), (168, 0.0), (171, 0.0), (177, 0.0), (186, 0.0), (188, 0.0), (205, 0.0), (214, 0.0), (219, 0.0), (223, 0.0), (225, 0.0), (230, 0.0), (231, 0.0), (232, 0.0), (237, 0.0), (245, 0.0), (248, 0.0), (258, 0.0), (259, 0.0), (263, 0.0), (264, 0.0), (265, 0.0), (272, 0.0), (275, 0.0), (297, 0.0), (298, 0.0), (299, 0.0), (300, 0.0), (301, 0.0), (302, 0.0), (312, 0.0), (319, 0.0), (331, 0.0), (335, 0.0), (336, 0.0), (337, 0.0), (338, 0.0), (339, 0.0), (340, 0.0), (344, 0.0), (352, 0.0), (361, 0.0), (362, 0.0), (363, 0.0), (365, 0.0), (366, 0.0), (376, 0.0), (379, 0.0), (382, 0.0), (386, 0.0), (390, 0.0), (391, 0.0), (392, 0.0), (393, 0.0), (394, 0.0), (401, 0.0), (404, 0.0), (405, 0.0), (409, 0.0), (411, 0.0), (413, 0.0), (414, 0.0), (415, 0.0), (423, 0.0), (427, 0.0), (439, 0.0), (440, 0.0), (454, 0.0), (477, 0.0), (484, 0.0), (486, 0.0), (491, 0.0), (492, 0.0), (498, 0.0), (506, 0.0), (516, 0.0), (517, 0.0), (520, 0.0), (521, 0.0), (525, 0.0), (528, 0.0), (529, 0.0), (531, 0.0), (535, 0.0), (536, 0.0), (538, 0.0), (545, 0.0), (546, 0.0), (548, 0.0), (549, 0.0), (552, 0.0), (553, 0.0), (554, 0.0), (555, 0.0), (556, 0.0), (557, 0.0), (561, 0.0), (565, 0.0), (567, 0.0), (568, 0.0), (569, 0.0), (570, 0.0), (572, 0.0), (573, 0.0), (574, 0.0), (575, 0.0), (577, 0.0), (582, 0.0), (583, 0.0), (585, 0.0), (586, 0.0), (591, 0.0), (592, 0.0), (599, 0.0), (600, 0.0), (601, 0.0), (602, 0.0), (603, 0.0), (610, 0.0), (630, 0.0), (648, 0.0), (649, 0.0), (650, 0.0), (656, 0.0), (658, 0.0), (662, 0.0), (663, 0.0), (665, 0.0), (671, 0.0), (674, 0.0), (677, 0.0), (679, 0.0), (681, 0.0), (686, 0.0), (699, 0.0), (700, 0.0), (702, 0.0), (704, 0.0), (708, 0.0), (709, 0.0), (711, 0.0), (713, 0.0), (714, 0.0), (718, 0.0), (720, 0.0), (724, 0.0), (725, 0.0), (726, 0.0), (730, 0.0), (736, 0.0), (741, 0.0), (746, 0.0), (747, 0.0), (748, 0.0), (751, 0.0), (752, 0.0), (754, 0.0), (758, 0.0), (763, 0.0), (764, 0.0), (768, 0.0), (770, 0.0), (771, 0.0), (772, 0.0), (773, 0.0), (776, 0.0), (778, 0.0), (780, 0.0), (781, 0.0), (784, 0.0), (785, 0.0), (786, 0.0), (789, 0.0), (797, 0.0), (807, 0.0), (814, 0.0), (819, 0.0), (820, 0.0), (821, 0.0), (822, 0.0), (834, 0.0), (835, 0.0), (837, 0.0), (839, 0.0), (840, 0.0), (841, 0.0), (846, 0.0), (859, 0.0), (881, 0.0), (882, 0.0), (892, 0.0), (906, 0.0), (909, 0.0), (912, 0.0), (913, 0.0), (914, 0.0), (920, 0.0), (926, 0.0), (938, 0.0), (943, 0.0), (945, 0.0), (946, 0.0), (950, 0.0), (954, 0.0), (955, 0.0), (956, 0.0), (958, 0.0), (960, 0.0), (961, 0.0), (964, 0.0), (965, 0.0), (971, 0.0), (972, 0.0), (977, 0.0), (978, 0.0), (982, 0.0), (983, 0.0), (990, 0.0), (995, 0.0), (1008, 0.0), (1010, 0.0), (1011, 0.0), (1013, 0.0), (1014, 0.0), (1016, 0.0), (1022, 0.0), (1025, 0.0), (1028, 0.0), (1029, 0.0), (1031, 0.0), (1038, 0.0), (1039, 0.0), (1045, 0.0), (1046, 0.0), (1051, 0.0), (1055, 0.0), (1056, 0.0), (1062, 0.0), (1066, 0.0), (1067, 0.0), (1069, 0.0), (1073, 0.0), (1081, 0.0), (1086, 0.0), (1089, 0.0), (1090, 0.0), (1091, 0.0), (1093, 0.0), (1094, 0.0), (1097, 0.0), (1101, 0.0), (1103, 0.0), (1105, 0.0), (1106, 0.0), (1108, 0.0), (1111, 0.0), (1113, 0.0), (1125, 0.0), (1126, 0.0), (1130, 0.0), (1133, 0.0), (1135, 0.0), (1139, 0.0), (1142, 0.0), (1143, 0.0), (1147, 0.0), (1149, 0.0), (1151, 0.0), (1152, 0.0), (1155, 0.0), (1156, 0.0), (1157, 0.0), (1159, 0.0), (1165, 0.0), (1166, 0.0), (1171, 0.0), (1172, 0.0), (1178, 0.0), (1180, 0.0), (1189, 0.0), (1190, 0.0), (1193, 0.0), (1196, 0.0), (1198, 0.0), (1200, 0.0), (1201, 0.0), (1212, 0.0), (1218, 0.0), (1221, 0.0), (1222, 0.0), (1227, 0.0), (1228, 0.0), (1233, 0.0), (1235, 0.0), (1238, 0.0), (1239, 0.0), (1240, 0.0), (1242, 0.0), (1244, 0.0), (1246, 0.0), (1249, 0.0), (1250, 0.0), (1253, 0.0), (1256, 0.0), (1258, 0.0), (1263, 0.0), (1265, 0.0), (1267, 0.0), (1268, 0.0), (1269, 0.0), (1271, 0.0), (1274, 0.0), (1278, 0.0), (1285, 0.0), (1287, 0.0), (1288, 0.0), (1289, 0.0), (1291, 0.0), (1293, 0.0), (1295, 0.0), (1296, 0.0), (1297, 0.0), (1299, 0.0), (1307, 0.0), (1310, 0.0), (1315, 0.0), (1316, 0.0), (1321, 0.0), (1322, 0.0), (1323, 0.0), (1326, 0.0), (1327, 0.0), (1328, 0.0), (1329, 0.0), (1331, 0.0), (1333, 0.0), (1336, 0.0), (1341, 0.0), (1342, 0.0), (1345, 0.0), (1346, 0.0), (1353, 0.0), (1354, 0.0), (1361, 0.0), (1368, 0.0), (1373, 0.0), (1374, 0.0), (1376, 0.0), (1379, 0.0), (1386, 0.0), (1389, 0.0), (1390, 0.0), (1399, 0.0), (1401, 0.0), (1405, 0.0), (1418, 0.0), (1424, 0.0), (1425, 0.0), (1437, 0.0), (1441, 0.0), (1444, 0.0), (1445, 0.0), (1447, 0.0), (1453, 0.0), (1457, 0.0), (1459, 0.0), (1460, 0.0), (1466, 0.0), (1467, 0.0), (1468, 0.0), (1470, 0.0), (1473, 0.0), (1485, 0.0), (1486, 0.0), (1487, 0.0), (1490, 0.0), (1491, 0.0), (1492, 0.0), (1495, 0.0), (1496, 0.0), (1501, 0.0), (1505, 0.0), (1508, 0.0), (1511, 0.0), (1512, 0.0), (1515, 0.0), (1517, 0.0), (1520, 0.0), (1521, 0.0), (1522, 0.0), (1523, 0.0), (1524, 0.0), (1525, 0.0), (1526, 0.0), (1529, 0.0), (1532, 0.0), (1534, 0.0), (1535, 0.0), (1541, 0.0), (1545, 0.0), (1548, 0.0), (1549, 0.0), (1552, 0.0), (1556, 0.0), (1557, 0.0), (1561, 0.0), (1563, 0.0), (1564, 0.0), (1569, 0.0), (1577, 0.0), (1578, 0.0), (1579, 0.0), (1581, 0.0), (1583, 0.0), (1584, 0.0), (1586, 0.0), (1589, 0.0), (1592, 0.0), (1596, 0.0), (1599, 0.0), (1600, 0.0), (1601, 0.0), (1602, 0.0), (1603, 0.0), (1604, 0.0), (1606, 0.0), (1607, 0.0), (1609, 0.0), (1610, 0.0), (1611, 0.0), (1613, 0.0), (1615, 0.0), (1618, 0.0), (1626, 0.0), (1636, 0.0), (1638, 0.0), (1639, 0.0), (1640, 0.0), (1644, 0.0), (1646, 0.0), (1649, 0.0), (1651, 0.0), (1654, 0.0), (1664, 0.0), (1668, 0.0), (1669, 0.0), (1673, 0.0), (1676, 0.0), (1679, 0.0), (1684, 0.0), (1686, 0.0), (1689, 0.0), (1692, 0.0), (1695, 0.0), (1697, 0.0), (1698, 0.0), (1700, 0.0), (1704, 0.0), (1709, 0.0), (1714, 0.0), (1715, 0.0), (1718, 0.0), (1725, 0.0), (1726, 0.0), (1728, 0.0), (1729, 0.0), (1731, 0.0), (1734, 0.0), (1737, 0.0), (1741, 0.0), (1745, 0.0), (1746, 0.0), (1750, 0.0), (1751, 0.0), (1755, 0.0), (1756, 0.0), (1758, 0.0), (1766, 0.0), (1767, 0.0), (1769, 0.0), (1771, 0.0), (1775, 0.0), (1777, 0.0), (1778, 0.0), (1783, 0.0), (1785, 0.0), (1786, 0.0), (1787, 0.0), (1790, 0.0), (1794, 0.0), (1795, 0.0), (1800, 0.0), (1802, 0.0), (1803, 0.0), (1804, 0.0), (1810, 0.0), (1818, 0.0), (1820, 0.0), (1823, 0.0), (1824, 0.0), (1825, 0.0), (1834, 0.0), (1835, 0.0), (1836, 0.0), (1839, 0.0), (1841, 0.0), (1842, 0.0), (1844, 0.0), (1849, 0.0), (1850, 0.0), (1855, 0.0), (1856, 0.0), (1863, 0.0), (1867, 0.0), (1868, 0.0), (1870, 0.0), (1879, 0.0), (1880, 0.0), (1883, 0.0), (1888, 0.0), (1889, 0.0), (1894, 0.0), (1895, 0.0), (1898, 0.0), (1899, 0.0), (1903, 0.0), (1906, 0.0), (1908, 0.0), (1911, 0.0), (1912, 0.0), (1913, 0.0), (1915, 0.0), (1917, 0.0), (1926, 0.0), (1928, 0.0), (1932, 0.0), (1935, 0.0), (1938, 0.0), (1944, 0.0), (1948, 0.0), (1955, 0.0), (1956, 0.0), (1957, 0.0), (1961, 0.0), (1963, 0.0), (1965, 0.0), (1966, 0.0), (1972, 0.0), (1974, 0.0), (1978, 0.0), (1979, 0.0), (1984, 0.0), (1988, 0.0), (2001, 0.0), (2002, 0.0), (2003, 0.0), (2005, 0.0), (2006, 0.0), (2007, 0.0), (2009, 0.0), (2017, 0.0), (2019, 0.0), (2021, 0.0), (2022, 0.0), (2025, 0.0), (2028, 0.0), (2030, 0.0), (2032, 0.0), (2033, 0.0), (2036, 0.0), (2038, 0.0), (2041, 0.0), (2042, 0.0), (2043, 0.0), (2046, 0.0), (2050, 0.0), (2052, 0.0), (2054, 0.0), (2056, 0.0), (2058, 0.0), (2059, 0.0), (2063, 0.0), (2064, 0.0), (2071, 0.0), (2079, 0.0), (2081, 0.0), (2085, 0.0), (2086, 0.0), (2090, 0.0), (2092, 0.0), (2095, 0.0), (2098, 0.0), (2101, 0.0), (2106, 0.0), (2107, 0.0), (2113, 0.0), (2114, 0.0), (2115, 0.0), (2118, 0.0), (2120, 0.0), (2124, 0.0), (2125, 0.0), (2128, 0.0), (2135, 0.0), (2138, 0.0), (2140, 0.0), (2145, 0.0), (2150, 0.0), (2152, 0.0), (2153, 0.0), (2156, 0.0), (2160, 0.0), (2161, 0.0), (2164, 0.0), (2165, 0.0), (2167, 0.0), (2168, 0.0), (2170, 0.0), (2171, 0.0), (2172, 0.0), (2175, 0.0), (2177, 0.0), (2179, 0.0), (2180, 0.0), (2182, 0.0), (2183, 0.0), (2185, 0.0), (2186, 0.0), (2194, 0.0), (2200, 0.0), (2202, 0.0), (2203, 0.0), (2204, 0.0), (2205, 0.0), (2207, 0.0), (2215, 0.0), (2217, 0.0), (2218, 0.0), (2219, 0.0), (2220, 0.0), (2222, 0.0), (2225, 0.0), (2227, 0.0), (2233, 0.0), (2234, 0.0), (2238, 0.0), (2239, 0.0), (2241, 0.0), (2243, 0.0), (2244, 0.0), (2247, 0.0), (2249, 0.0), (2253, 0.0), (2256, 0.0), (2258, 0.0), (2259, 0.0), (2261, 0.0), (2262, 0.0), (2263, 0.0), (2267, 0.0), (2271, 0.0), (2272, 0.0), (2274, 0.0), (2281, 0.0), (2282, 0.0), (2290, 0.0), (2291, 0.0), (2296, 0.0), (2297, 0.0), (2298, 0.0), (2300, 0.0), (2305, 0.0), (2307, 0.0), (2311, 0.0), (2312, 0.0), (2315, 0.0), (2322, 0.0), (2325, 0.0), (2327, 0.0), (2329, 0.0), (2331, 0.0), (2332, 0.0), (2333, 0.0), (2335, 0.0), (2337, 0.0), (2339, 0.0), (2341, 0.0), (2342, 0.0), (2345, 0.0), (2351, 0.0), (2352, 0.0), (2353, 0.0), (2357, 0.0), (2360, 0.0), (2364, 0.0), (2366, 0.0), (2368, 0.0), (2369, 0.0), (2372, 0.0), (2373, 0.0), (2376, 0.0), (2377, 0.0), (2380, 0.0), (2381, 0.0), (2384, 0.0), (2389, 0.0), (2395, 0.0), (2398, 0.0), (2409, 0.0), (2414, 0.0), (2420, 0.0), (2426, 0.0), (2431, 0.0), (2433, 0.0), (2435, 0.0), (2439, 0.0), (2445, 0.0), (2450, 0.0), (2451, 0.0), (2452, 0.0), (2455, 0.0), (2456, 0.0), (2458, 0.0), (2460, 0.0), (2462, 0.0), (2465, 0.0), (2470, 0.0), (2471, 0.0), (2472, 0.0), (2479, 0.0), (2483, 0.0), (2485, 0.0), (2491, 0.0), (2493, 0.0), (2497, 0.0), (2498, 0.0), (2499, 0.0), (2500, 0.0), (2503, 0.0), (2504, 0.0), (2508, 0.0), (2510, 0.0), (2511, 0.0), (2513, 0.0), (2514, 0.0), (2515, 0.0), (2516, 0.0), (2518, 0.0), (2521, 0.0), (2523, 0.0), (2532, 0.0), (2536, 0.0), (2539, 0.0), (2542, 0.0), (2543, 0.0), (2547, 0.0), (2548, 0.0), (2549, 0.0), (2551, 0.0), (2562, 0.0), (2564, 0.0), (2566, 0.0), (2574, 0.0), (2575, 0.0), (2577, 0.0), (2578, 0.0), (2582, 0.0), (2583, 0.0), (2584, 0.0), (2586, 0.0), (2588, 0.0), (2589, 0.0), (2590, 0.0), (2594, 0.0), (2596, 0.0), (2597, 0.0), (2604, 0.0), (2605, 0.0), (2608, 0.0), (2615, 0.0), (2616, 0.0), (2620, 0.0), (2627, 0.0), (2631, 0.0), (2637, 0.0), (2639, 0.0), (2641, 0.0), (2644, 0.0), (2648, 0.0), (2654, 0.0), (2656, 0.0), (2657, 0.0), (2658, 0.0), (2659, 0.0), (2660, 0.0), (2662, 0.0), (2663, 0.0), (2665, 0.0), (2666, 0.0), (2667, 0.0), (2669, 0.0), (2670, 0.0), (2671, 0.0), (2672, 0.0), (2675, 0.0), (2676, 0.0), (2677, 0.0), (2681, 0.0), (2684, 0.0), (2685, 0.0), (2686, 0.0), (2688, 0.0), (2690, 0.0), (2691, 0.0), (2693, 0.0), (2701, 0.0), (2703, 0.0), (2704, 0.0), (2708, 0.0), (2709, 0.0), (2715, 0.0), (2717, 0.0), (2719, 0.0), (2726, 0.0), (2729, 0.0), (2730, 0.0), (2732, 0.0), (2734, 0.0), (2737, 0.0), (2749, 0.0), (2750, 0.0), (2754, 0.0), (2756, 0.0), (2762, 0.0), (2763, 0.0), (2770, 0.0), (2773, 0.0), (2774, 0.0), (2781, 0.0), (2785, 0.0), (2793, 0.0), (2794, 0.0), (2799, 0.0), (2804, 0.0), (2805, 0.0), (2806, 0.0), (2807, 0.0), (2810, 0.0), (2811, 0.0), (2813, 0.0), (2814, 0.0), (2816, 0.0), (2817, 0.0), (2818, 0.0), (2823, 0.0), (2824, 0.0), (2827, 0.0), (2828, 0.0), (2829, 0.0), (2835, 0.0), (2836, 0.0), (2837, 0.0), (2839, 0.0), (2842, 0.0), (2843, 0.0), (2850, 0.0), (2851, 0.0), (2852, 0.0), (2855, 0.0), (2856, 0.0), (2860, 0.0), (2864, 0.0), (2865, 0.0), (2866, 0.0), (2867, 0.0), (2869, 0.0), (2873, 0.0), (2875, 0.0), (2877, 0.0), (2880, 0.0), (2891, 0.0), (2896, 0.0), (2898, 0.0), (2905, 0.0), (2906, 0.0), (2921, 0.0), (2922, 0.0), (2927, 0.0), (2928, 0.0), (2930, 0.0), (2935, 0.0), (2938, 0.0), (2941, 0.0), (2951, 0.0), (2952, 0.0), (2955, 0.0), (2956, 0.0), (2958, 0.0), (2967, 0.0), (2968, 0.0), (2973, 0.0), (2979, 0.0), (2982, 0.0), (2983, 0.0), (2990, 0.0), (3001, 0.0), (3002, 0.0), (3006, 0.0), (3008, 0.0), (3009, 0.0), (3021, 0.0), (3025, 0.0), (3029, 0.0), (3033, 0.0), (3034, 0.0), (3038, 0.0), (3039, 0.0), (3041, 0.0), (3047, 0.0), (3048, 0.0), (3054, 0.0), (3058, 0.0), (3059, 0.0), (3060, 0.0), (3061, 0.0), (3063, 0.0), (3066, 0.0), (3073, 0.0), (3077, 0.0), (3078, 0.0), (3080, 0.0), (3082, 0.0), (3087, 0.0), (3088, 0.0), (3089, 0.0), (3090, 0.0), (3092, 0.0), (3098, 0.0), (3102, 0.0), (3103, 0.0), (3104, 0.0), (3105, 0.0), (3106, 0.0), (3107, 0.0), (3109, 0.0), (3114, 0.0), (3115, 0.0), (3121, 0.0), (3130, 0.0), (3132, 0.0), (3138, 0.0), (3141, 0.0), (3144, 0.0), (3145, 0.0), (3162, 0.0), (3164, 0.0), (3169, 0.0), (3172, 0.0), (3175, 0.0), (3176, 0.0), (3177, 0.0), (3181, 0.0), (3188, 0.0), (3189, 0.0), (3190, 0.0), (3193, 0.0), (3197, 0.0), (3201, 0.0), (3202, 0.0), (3204, 0.0), (3205, 0.0), (3207, 0.0), (3208, 0.0), (3209, 0.0), (3212, 0.0), (3217, 0.0), (3221, 0.0), (3222, 0.0), (3223, 0.0), (3229, 0.0), (3231, 0.0), (3236, 0.0), (3244, 0.0), (3250, 0.0), (3251, 0.0), (3253, 0.0), (3256, 0.0), (3261, 0.0), (3265, 0.0), (3266, 0.0), (3270, 0.0), (3272, 0.0), (3277, 0.0), (3281, 0.0), (3286, 0.0), (3287, 0.0), (3288, 0.0), (3294, 0.0), (3295, 0.0), (3305, 0.0), (3309, 0.0), (3310, 0.0), (3320, 0.0), (3321, 0.0), (3323, 0.0), (3324, 0.0), (3332, 0.0), (3333, 0.0), (3340, 0.0), (3343, 0.0), (3345, 0.0), (3350, 0.0), (3356, 0.0), (3366, 0.0), (3368, 0.0), (3371, 0.0), (3375, 0.0), (3378, 0.0), (3383, 0.0), (3394, 0.0), (3397, 0.0), (3400, 0.0), (3401, 0.0), (3411, 0.0), (3415, 0.0), (3420, 0.0), (3422, 0.0), (3424, 0.0), (3439, 0.0), (3442, 0.0), (3444, 0.0), (3454, 0.0), (3457, 0.0), (3459, 0.0), (3461, 0.0), (3467, 0.0), (3469, 0.0), (3472, 0.0), (3473, 0.0), (3475, 0.0), (3476, 0.0), (3481, 0.0), (3482, 0.0), (3485, 0.0), (3489, 0.0), (3490, 0.0), (3494, 0.0), (3505, 0.0), (3509, 0.0), (3510, 0.0), (3515, 0.0), (3519, 0.0), (3522, 0.0), (3525, 0.0), (3528, 0.0), (3529, 0.0), (3530, 0.0), (3532, 0.0), (3533, 0.0), (3539, 0.0), (3543, 0.0), (3545, 0.0), (3547, 0.0), (3549, 0.0), (3550, 0.0), (3554, 0.0), (3562, 0.0), (3563, 0.0), (3566, 0.0), (3567, 0.0), (3568, 0.0), (3578, 0.0), (3580, 0.0), (3581, 0.0), (3585, 0.0), (3589, 0.0), (3591, 0.0), (3592, 0.0), (3594, 0.0), (3595, 0.0), (3598, 0.0), (3600, 0.0), (3603, 0.0), (3607, 0.0), (3609, 0.0), (3610, 0.0), (3617, 0.0), (3622, 0.0), (3625, 0.0), (3628, 0.0), (3630, 0.0), (3631, 0.0), (3632, 0.0), (3633, 0.0), (3644, 0.0), (3648, 0.0), (3649, 0.0), (3650, 0.0), (3662, 0.0), (3663, 0.0), (3671, 0.0), (3676, 0.0), (3681, 0.0), (3682, 0.0), (3683, 0.0), (3685, 0.0), (3686, 0.0), (3690, 0.0), (3693, 0.0), (3695, 0.0), (3697, 0.0), (3698, 0.0), (3700, 0.0), (3702, 0.0), (3703, 0.0), (3709, 0.0), (3712, 0.0), (3716, 0.0), (3717, 0.0), (3718, 0.0), (3722, 0.0), (3724, 0.0), (3726, 0.0), (3730, 0.0), (3732, 0.0), (3735, 0.0), (3736, 0.0), (3738, 0.0), (3740, 0.0), (3743, 0.0), (3748, 0.0), (3750, 0.0), (3752, 0.0), (3758, 0.0), (3759, 0.0), (3760, 0.0), (3761, 0.0), (3764, 0.0), (3783, 0.0), (3785, 0.0), (3786, 0.0), (3789, 0.0), (3790, 0.0), (3791, 0.0), (3796, 0.0), (3798, 0.0), (3800, 0.0), (3803, 0.0), (3805, 0.0), (3808, 0.0), (3812, 0.0), (3816, 0.0), (3817, 0.0), (3818, 0.0), (3820, 0.0), (3825, 0.0), (3830, 0.0), (3831, 0.0), (3834, 0.0), (3836, 0.0), (3837, 0.0), (3838, 0.0), (3840, 0.0), (3843, 0.0), (3846, 0.0), (3847, 0.0), (3851, 0.0), (3856, 0.0), (3858, 0.0), (3859, 0.0), (3861, 0.0), (3864, 0.0), (3865, 0.0), (3869, 0.0), (3870, 0.0), (3879, 0.0), (3885, 0.0), (3887, 0.0), (3896, 0.0), (3909, 0.0), (3912, 0.0), (3914, 0.0), (3918, 0.0), (3921, 0.0), (3926, 0.0), (3929, 0.0), (3930, 0.0), (3931, 0.0), (3933, 0.0), (3934, 0.0), (3936, 0.0), (3937, 0.0), (3940, 0.0), (3943, 0.0), (3948, 0.0), (3950, 0.0), (3955, 0.0), (3958, 0.0), (3964, 0.0), (3965, 0.0), (3968, 0.0), (3969, 0.0), (3971, 0.0), (3972, 0.0), (3976, 0.0), (3977, 0.0), (3979, 0.0), (3980, 0.0), (3981, 0.0), (3982, 0.0), (3985, 0.0), (3988, 0.0), (3991, 0.0), (3994, 0.0), (3996, 0.0), (3998, 0.0), (4001, 0.0), (4003, 0.0), (4006, 0.0), (4008, 0.0), (4009, 0.0), (4010, 0.0), (4012, 0.0), (4018, 0.0), (4021, 0.0), (4022, 0.0), (4026, 0.0), (4027, 0.0), (4028, 0.0), (4029, 0.0), (4031, 0.0), (4034, 0.0), (4037, 0.0), (4040, 0.0), (4041, 0.0), (4055, 0.0), (4057, 0.0), (4058, 0.0), (4061, 0.0), (4063, 0.0), (4065, 0.0), (4067, 0.0), (4070, 0.0), (4072, 0.0), (4073, 0.0), (4077, 0.0), (4078, 0.0), (4084, 0.0), (4086, 0.0), (4097, 0.0), (4099, 0.0), (4100, 0.0), (4108, 0.0), (4109, 0.0), (4110, 0.0), (4112, 0.0), (4114, 0.0), (4115, 0.0), (4125, 0.0), (4127, 0.0), (4131, 0.0), (4144, 0.0), (4146, 0.0), (4149, 0.0), (4150, 0.0), (4153, 0.0), (4157, 0.0), (4159, 0.0), (4166, 0.0), (4167, 0.0), (4168, 0.0), (4170, 0.0), (4173, 0.0), (4177, 0.0), (4179, 0.0), (4180, 0.0), (4181, 0.0), (4184, 0.0), (4185, 0.0), (4186, 0.0), (4188, 0.0), (4190, 0.0), (4191, 0.0), (4194, 0.0), (4196, 0.0), (4198, 0.0), (4199, 0.0), (4201, 0.0), (4204, 0.0), (4207, 0.0), (4210, 0.0), (4212, 0.0), (4214, 0.0), (4215, 0.0), (4217, 0.0), (4218, 0.0), (4223, 0.0), (4224, 0.0), (4226, 0.0), (4229, 0.0), (4234, 0.0), (4236, 0.0), (4237, 0.0), (4238, 0.0), (4239, 0.0), (4241, 0.0), (4250, 0.0), (4253, 0.0), (4256, 0.0), (4258, 0.0), (4260, 0.0), (4270, 0.0), (4271, 0.0), (4276, 0.0), (4278, 0.0), (4279, 0.0), (4291, 0.0), (4297, 0.0), (4300, 0.0), (4302, 0.0), (4303, 0.0), (4305, 0.0), (4313, 0.0), (4314, 0.0), (4315, 0.0), (4316, 0.0), (4317, 0.0), (4319, 0.0), (4323, 0.0), (4324, 0.0), (4327, 0.0), (4329, 0.0), (4332, 0.0), (4335, 0.0), (4338, 0.0), (4341, 0.0), (4342, 0.0), (4346, 0.0), (4347, 0.0), (4351, 0.0), (4352, 0.0), (4353, 0.0), (4358, 0.0), (4364, 0.0), (4367, 0.0), (4370, 0.0), (4372, 0.0), (4373, 0.0), (4385, 0.0), (4388, 0.0), (4393, 0.0), (4404, 0.0), (4405, 0.0), (4406, 0.0), (4408, 0.0), (4410, 0.0), (4413, 0.0), (4414, 0.0), (4415, 0.0), (4417, 0.0), (4421, 0.0), (4424, 0.0), (4425, 0.0), (4433, 0.0), (4434, 0.0), (4437, 0.0), (4439, 0.0), (4447, 0.0), (4449, 0.0), (4451, 0.0), (4453, 0.0), (4454, 0.0), (4455, 0.0), (4456, 0.0), (4457, 0.0), (4459, 0.0), (4460, 0.0), (4463, 0.0), (4467, 0.0), (4478, 0.0), (4480, 0.0), (4482, 0.0), (4483, 0.0), (4485, 0.0), (4491, 0.0), (4492, 0.0), (4493, 0.0), (4496, 0.0), (4498, 0.0), (4499, 0.0), (4500, 0.0), (4506, 0.0), (4508, 0.0), (4509, 0.0), (4519, 0.0), (4525, 0.0), (4526, 0.0), (4532, 0.0), (4539, 0.0), (4541, 0.0), (4542, 0.0), (4547, 0.0), (4549, 0.0), (4556, 0.0), (4558, 0.0), (4559, 0.0), (4560, 0.0), (4561, 0.0), (4562, 0.0), (4564, 0.0), (4565, 0.0), (4568, 0.0), (4569, 0.0), (4570, 0.0), (4577, 0.0), (4578, 0.0), (4580, 0.0), (4583, 0.0), (4592, 0.0), (4596, 0.0), (4597, 0.0), (4599, 0.0), (4600, 0.0), (4609, 0.0), (4613, 0.0), (4615, 0.0), (4618, 0.0), (4622, 0.0), (4628, 0.0), (4631, 0.0), (4635, 0.0), (4644, 0.0), (4647, 0.0), (4648, 0.0), (4651, 0.0), (4654, 0.0), (4655, 0.0), (4662, 0.0), (4667, 0.0), (4671, 0.0), (4672, 0.0), (4675, 0.0), (4676, 0.0), (4681, 0.0), (4683, 0.0), (4688, 0.0), (4690, 0.0), (4700, 0.0), (4702, 0.0), (4711, 0.0), (4714, 0.0), (4716, 0.0), (4720, 0.0), (4725, 0.0), (4726, 0.0), (4728, 0.0), (4730, 0.0), (4736, 0.0), (4737, 0.0), (4738, 0.0), (4740, 0.0), (4741, 0.0), (4742, 0.0), (4745, 0.0), (4750, 0.0), (4751, 0.0), (4754, 0.0), (4755, 0.0), (4758, 0.0), (4759, 0.0)]\n"
          ]
        }
      ]
    },
    {
      "cell_type": "code",
      "source": [
        "#print names of similar movies based on  index\n",
        "print(\"Top 30 movies suggested for you : \")\n",
        "\n",
        "i=1\n",
        "\n",
        "for movie in Sorted_Similar_Movies:\n",
        "  index = movie[0]\n",
        "  title_from_index = df[df.index==index]['Movie_Title'].values[0]\n",
        "  if (i<31):\n",
        "    print(i, '.',title_from_index)\n",
        "    i+=1"
      ],
      "metadata": {
        "colab": {
          "base_uri": "https://localhost:8080/"
        },
        "id": "jRArqjuhqLe3",
        "outputId": "fdff7132-5b42-49d6-b552-2ddfa7cd7ef9"
      },
      "execution_count": null,
      "outputs": [
        {
          "output_type": "stream",
          "name": "stdout",
          "text": [
            "Top 30 movies suggested for you : \n",
            "1 . Niagara\n",
            "2 . Harry Brown\n",
            "3 . Back to the Future\n",
            "4 . Eye for an Eye\n",
            "5 . Welcome to the Sticks\n",
            "6 . The Curse of Downers Grove\n",
            "7 . Enough\n",
            "8 . The Lost Weekend\n",
            "9 . Alice Through the Looking Glass\n",
            "10 . The Raid\n",
            "11 . The Wizard of Oz\n",
            "12 . Hugo\n",
            "13 . World Trade Center\n",
            "14 . Premium Rush\n",
            "15 . My Week with Marilyn\n",
            "16 . Notes on a Scandal\n",
            "17 . Small Soldiers\n",
            "18 . Kung Fu Hustle\n",
            "19 . House of D\n",
            "20 . The Dilemma\n",
            "21 . The End of the Affair\n",
            "22 . Minority Report\n",
            "23 . Solitary Man\n",
            "24 . Caravans\n",
            "25 . Factory Girl\n",
            "26 . Butterfly on a Wheel\n",
            "27 . Please Give\n",
            "28 . In the Land of Women\n",
            "29 . The Oh in Ohio\n",
            "30 . Intolerable Cruelty\n"
          ]
        }
      ]
    },
    {
      "cell_type": "markdown",
      "source": [
        "# **Top 10 Movie Recommendation System**"
      ],
      "metadata": {
        "id": "i-qKDEgNreKh"
      }
    },
    {
      "cell_type": "code",
      "source": [
        "Movie_Name = input('Enter your favourite movie name: ')\n",
        "\n",
        "list_of_all_titles = df['Movie_Title'].tolist()\n",
        "\n",
        "Find_Close_Match = difflib.get_close_matches(Movie_Name, list_of_all_titles)\n",
        "\n",
        "Close_Match = Find_Close_Match[0]\n",
        "\n",
        "Index_of_Movie = df[df.Movie_Title == Close_Match]['Movie_ID'].values[0]\n",
        "\n",
        "Recommendation_Score = list(enumerate(similarity_score[Index_of_Movie]))\n",
        "\n",
        "sorted_similar_movies = sorted(Recommendation_Score, key = lambda x:x[1], reverse = True)\n",
        "\n",
        "print('Top 10 movies suggested for you :')\n",
        "\n",
        "i=1\n",
        "\n",
        "for movie in sorted_similar_movies:\n",
        "  index = movie[0]\n",
        "  title_from_index = df[df.Movie_ID==index]['Movie_Title'].values\n",
        "  if (i<11):\n",
        "    print(i, '.',title_from_index)\n",
        "    i+=1"
      ],
      "metadata": {
        "colab": {
          "base_uri": "https://localhost:8080/"
        },
        "id": "_804gW_trpjf",
        "outputId": "acdbafe7-fcbb-42f2-9c97-36afecf6bfdc"
      },
      "execution_count": null,
      "outputs": [
        {
          "output_type": "stream",
          "name": "stdout",
          "text": [
            "Enter your favourite movie name: avtaar\n",
            "Top 10 movies suggested for you :\n",
            "1 . ['Avatar']\n",
            "2 . ['Precious']\n",
            "3 . ['Run Lola Run']\n",
            "4 . ['Bright Lights, Big City']\n",
            "5 . ['Jumper']\n",
            "6 . ['The Opposite Sex']\n",
            "7 . ['Gerry']\n",
            "8 . ['Case 39']\n",
            "9 . ['The Purge: Anarchy']\n",
            "10 . ['Despicable Me 2']\n"
          ]
        }
      ]
    }
  ]
}